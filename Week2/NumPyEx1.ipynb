{
 "metadata": {
  "name": "NumPyEx1"
 },
 "nbformat": 3,
 "nbformat_minor": 0,
 "worksheets": [
  {
   "cells": [
    {
     "cell_type": "markdown",
     "metadata": {},
     "source": [
      "NumPy Exercises 1\n",
      "-\n",
      "\n",
      "_April 16 2013_"
     ]
    },
    {
     "cell_type": "code",
     "collapsed": false,
     "input": [
      "import numpy as np"
     ],
     "language": "python",
     "metadata": {},
     "outputs": [],
     "prompt_number": 1
    },
    {
     "cell_type": "markdown",
     "metadata": {},
     "source": [
      "_Note: I tested out many numpy functions at the end of this document and left the cells there for later reference._\n",
      "\n",
      "__References:__\n",
      "\n",
      "[Python Documentation][1]\n",
      "\n",
      "[Numpy Documentation][2]\n",
      "\n",
      "\n",
      "   [1]:http://docs.python.org/2/tutorial/index.html\n",
      "   [2]:http://docs.scipy.org/doc/numpy/reference/"
     ]
    },
    {
     "cell_type": "markdown",
     "metadata": {},
     "source": [
      "__Question 1__"
     ]
    },
    {
     "cell_type": "markdown",
     "metadata": {},
     "source": [
      "The first array requires individually assigning two slots to something other than '1'.\n",
      "\n",
      "I used the delete function which takes an array, an index or slice, and an axis. \n",
      "\n",
      "It deletes the slice of elements in the\n",
      "sub-arrays belonging to the given dimension (the axis, counting up from 0). \n",
      "\n",
      "An axis of '1' means all the sub-arrays with length given by the second \n",
      "element in the shape tuple.\n",
      "\n",
      "Here I delete the first element of each 1D array contained as elements to the first dimension"
     ]
    },
    {
     "cell_type": "code",
     "collapsed": false,
     "input": [
      "A = np.ones((4,4),dtype=int)\n",
      "A[2][3] = 2\n",
      "A[3][1] = 6\n",
      "\n",
      "B = np.diag(range(1,7))\n",
      "C = np.delete(B,0,1)\n",
      "\n",
      "###########\n",
      "print 'A:'\n",
      "print A, '\\n'\n",
      "print 'B shape: ', B.shape\n",
      "print '              ^'   \n",
      "print 'C shape: ', C.shape\n",
      "print '              ^'\n",
      "print 'C:'\n",
      "print C"
     ],
     "language": "python",
     "metadata": {},
     "outputs": [
      {
       "output_type": "stream",
       "stream": "stdout",
       "text": [
        "A:\n",
        "[[1 1 1 1]\n",
        " [1 1 1 1]\n",
        " [1 1 1 2]\n",
        " [1 6 1 1]] \n",
        "\n",
        "B shape:  (6, 6)\n",
        "              ^\n",
        "C shape:  (6, 5)\n",
        "              ^\n",
        "C:\n",
        "[[0 0 0 0 0]\n",
        " [2 0 0 0 0]\n",
        " [0 3 0 0 0]\n",
        " [0 0 4 0 0]\n",
        " [0 0 0 5 0]\n",
        " [0 0 0 0 6]]\n"
       ]
      }
     ],
     "prompt_number": 2
    },
    {
     "cell_type": "markdown",
     "metadata": {},
     "source": [
      "_April 17 2013_\n",
      "\n",
      "__Question 2__\n",
      "\n",
      "np.tile stacks a certain number of the a given array A side by side. The number repetitions of A in each dimension is given by a tuple that should have\n",
      "a length equal to the number of dimensions of A. The catch is that the rightmost tuple element corresponds to the first dimention. If the length of the repetitions tuple is less than the number of dimensions of A, then the function pre-pends ones to the tuple."
     ]
    },
    {
     "cell_type": "code",
     "collapsed": false,
     "input": [
      "A1 = np.array([[4,3],[2,1]],dtype='int')\n",
      "A2 = np.tile(A1,(2,3))\n",
      "\n",
      "print A2"
     ],
     "language": "python",
     "metadata": {},
     "outputs": [
      {
       "output_type": "stream",
       "stream": "stdout",
       "text": [
        "[[4 3 4 3 4 3]\n",
        " [2 1 2 1 2 1]\n",
        " [4 3 4 3 4 3]\n",
        " [2 1 2 1 2 1]]\n"
       ]
      }
     ],
     "prompt_number": 3
    },
    {
     "cell_type": "markdown",
     "metadata": {},
     "source": [
      "__Question 3__\n",
      "\n",
      "(I included 101 elements so that '100' is included at index 100, although we know it isn's prime)\n",
      "\n",
      "I understand that the slicing '[2*j::j]' is used to set all multiples of j to False because these numbers can have j factored out of them. The slice starts at 2*j (j*1 might be prime, so omit it), and selects each element of the array that has index (2*j) + nj ,n=1,2,3,... until it reaches the end of the array. In this way, all multiples of j except j itself have their value set to False.\n",
      "\n",
      "Eratosthenes' algorithm requires you to eliminate all multiples of the numbers 2 through a stopping point integer and the numbers left will be prime numbers. The stopping point for the integers you implement is the square root of the upper boundary of the range of numbers you want to search in.\n",
      "\n",
      "Actually, you only need to implememnt the prime numbers in range(2,N_max) to find all the primes in range(2, (N_max)**2), but that would require more code to specify, and is not worth it unless you try to find primes up to an extremely high number.\n",
      "You could take the primes between 1 and 100 and iterate over those to find primes between 100 and 100,000, using less iterations than if you implemented all the numbers between 1 and 100 in your sieve.\n",
      "\n"
     ]
    },
    {
     "cell_type": "code",
     "collapsed": false,
     "input": [
      "is_prime = np.ones((101,),dtype='bool')\n",
      "is_prime[:2].fill(False)\n",
      "\n",
      "N_max = int(np.sqrt(len(is_prime)))\n",
      "for j in range(2,N_max):\n",
      "    is_prime[2*j::j] = False"
     ],
     "language": "python",
     "metadata": {},
     "outputs": [],
     "prompt_number": 7
    },
    {
     "cell_type": "markdown",
     "metadata": {},
     "source": [
      "I looked up 'np.nonzero?'\n",
      "\n",
      "np.nonzero([array])\n",
      "\n",
      "This function returns a tuple containing arrays, one for each dimention of the argument array. Each array contains the indicies of the nonzero elements in that dimention.\n"
     ]
    },
    {
     "cell_type": "code",
     "collapsed": false,
     "input": [
      "primes = np.nonzero(is_prime)\n",
      "print primes"
     ],
     "language": "python",
     "metadata": {},
     "outputs": [
      {
       "output_type": "stream",
       "stream": "stdout",
       "text": [
        "(array([ 2,  3,  5,  7, 11, 13, 17, 19, 23, 29, 31, 37, 41, 43, 47, 53, 59,\n",
        "       61, 67, 71, 73, 79, 83, 89, 97]),)\n"
       ]
      }
     ],
     "prompt_number": 8
    },
    {
     "cell_type": "code",
     "collapsed": false,
     "input": [
      "def eratosthenes_seive(maximum):\n",
      "    is_prime = np.ones((int(maximum+1),), dtype='bool')\n",
      "    is_prime[:2].fill(False)\n",
      "    lth = len(is_prime)\n",
      "    \n",
      "    if maximum > 100000:\n",
      "        N_max0 = int(lth**0.25)\n",
      "        for k in range(2,N_max0):\n",
      "            is_prime[2*k:int(lth**0.5):k] = False\n",
      "        implement = []\n",
      "        for i in range(int(lth**0.5)):\n",
      "            print is_prime[i]\n",
      "            if is_prime[i] == False:\n",
      "                implement.append\n",
      "\n",
      "    else:\n",
      "        implement = range(2,lth**0.5)\n",
      "    print implement\n",
      "    print is_prime.shape\n",
      "    for k in implement:\n",
      "        is_prime[2*k::k] = False\n",
      "    print np.nonzero(is_prime)\n",
      "\n",
      "eratosthenes_seive(150000)\n",
      "eratosthenes_seive(2000)"
     ],
     "language": "python",
     "metadata": {},
     "outputs": [
      {
       "ename": "IndexError",
       "evalue": "invalid slice",
       "output_type": "pyerr",
       "traceback": [
        "\u001b[1;31m---------------------------------------------------------------------------\u001b[0m\n\u001b[1;31mIndexError\u001b[0m                                Traceback (most recent call last)",
        "\u001b[1;32m<ipython-input-30-97b3932fbf98>\u001b[0m in \u001b[0;36m<module>\u001b[1;34m()\u001b[0m\n\u001b[0;32m     17\u001b[0m     \u001b[1;32mprint\u001b[0m \u001b[0mnp\u001b[0m\u001b[1;33m.\u001b[0m\u001b[0mnonzero\u001b[0m\u001b[1;33m(\u001b[0m\u001b[0mis_prime\u001b[0m\u001b[1;33m)\u001b[0m\u001b[1;33m\u001b[0m\u001b[0m\n\u001b[0;32m     18\u001b[0m \u001b[1;33m\u001b[0m\u001b[0m\n\u001b[1;32m---> 19\u001b[1;33m \u001b[0meratosthenes_seive\u001b[0m\u001b[1;33m(\u001b[0m\u001b[1;36m150000\u001b[0m\u001b[1;33m)\u001b[0m\u001b[1;33m\u001b[0m\u001b[0m\n\u001b[0m\u001b[0;32m     20\u001b[0m \u001b[0meratosthenes_seive\u001b[0m\u001b[1;33m(\u001b[0m\u001b[1;36m2000\u001b[0m\u001b[1;33m)\u001b[0m\u001b[1;33m\u001b[0m\u001b[0m\n",
        "\u001b[1;32m<ipython-input-30-97b3932fbf98>\u001b[0m in \u001b[0;36meratosthenes_seive\u001b[1;34m(maximum)\u001b[0m\n\u001b[0;32m     14\u001b[0m     \u001b[1;32mprint\u001b[0m \u001b[0mis_prime\u001b[0m\u001b[1;33m.\u001b[0m\u001b[0mshape\u001b[0m\u001b[1;33m\u001b[0m\u001b[0m\n\u001b[0;32m     15\u001b[0m     \u001b[1;32mfor\u001b[0m \u001b[0mk\u001b[0m \u001b[1;32min\u001b[0m \u001b[0mimplement\u001b[0m\u001b[1;33m:\u001b[0m\u001b[1;33m\u001b[0m\u001b[0m\n\u001b[1;32m---> 16\u001b[1;33m         \u001b[0mis_prime\u001b[0m\u001b[1;33m[\u001b[0m\u001b[1;36m2\u001b[0m\u001b[1;33m*\u001b[0m\u001b[0mk\u001b[0m\u001b[1;33m:\u001b[0m\u001b[1;33m:\u001b[0m\u001b[0mk\u001b[0m\u001b[1;33m]\u001b[0m \u001b[1;33m=\u001b[0m \u001b[0mFalse\u001b[0m\u001b[1;33m\u001b[0m\u001b[0m\n\u001b[0m\u001b[0;32m     17\u001b[0m     \u001b[1;32mprint\u001b[0m \u001b[0mnp\u001b[0m\u001b[1;33m.\u001b[0m\u001b[0mnonzero\u001b[0m\u001b[1;33m(\u001b[0m\u001b[0mis_prime\u001b[0m\u001b[1;33m)\u001b[0m\u001b[1;33m\u001b[0m\u001b[0m\n\u001b[0;32m     18\u001b[0m \u001b[1;33m\u001b[0m\u001b[0m\n",
        "\u001b[1;31mIndexError\u001b[0m: invalid slice"
       ]
      },
      {
       "output_type": "stream",
       "stream": "stdout",
       "text": [
        "[array([  2,   3,   5,   7,  11,  13,  17,  19,  23,  29,  31,  37,  41,\n",
        "        43,  47,  53,  59,  61,  67,  71,  73,  79,  83,  89,  97, 101,\n",
        "       103, 107, 109, 113, 127, 131, 137, 139, 149, 151, 157, 163, 167,\n",
        "       173, 179, 181, 191, 193, 197, 199, 211, 223, 227, 229, 233, 239,\n",
        "       241, 251, 257, 263, 269, 271, 277, 281, 283, 293, 307, 311, 313,\n",
        "       317, 331, 337, 347, 349, 353, 359, 361, 367, 373, 379, 383])]\n",
        "(150001,)\n"
       ]
      }
     ],
     "prompt_number": 30
    },
    {
     "cell_type": "code",
     "collapsed": false,
     "input": [],
     "language": "python",
     "metadata": {},
     "outputs": [],
     "prompt_number": 26
    },
    {
     "cell_type": "markdown",
     "metadata": {},
     "source": [
      "-----\n",
      "- - -\n",
      "- - -\n",
      "__My experiments and docstring lookups that I used to figure out numpy functions.__"
     ]
    },
    {
     "cell_type": "code",
     "collapsed": false,
     "input": [
      "np.ones?\n",
      "# also see np.ones_like, np.zeros, np.zeros_like, np.empty\n",
      "a = np.array(range(10))\n",
      "b = np.ones_like(a)\n",
      "print b"
     ],
     "language": "python",
     "metadata": {},
     "outputs": [
      {
       "output_type": "stream",
       "stream": "stdout",
       "text": [
        "[1 1 1 1 1 1 1 1 1 1]\n"
       ]
      }
     ],
     "prompt_number": 30
    },
    {
     "cell_type": "code",
     "collapsed": false,
     "input": [
      "np.diag?\n",
      "# if passed an array, returns the kth diagonal\n",
      "a = np.array(([1,2,3,4],[5,6,7,8],[9,10,11,12]),dtype='int')\n",
      "print a\n",
      "print np.diag(a,2)\n",
      "# or if given a 1D array_like object, then create an array having those diagonal elements\n",
      "b = np.diag([9,8,7,6,5])\n",
      "print b"
     ],
     "language": "python",
     "metadata": {},
     "outputs": [
      {
       "output_type": "stream",
       "stream": "stdout",
       "text": [
        "[[ 1  2  3  4]\n",
        " [ 5  6  7  8]\n",
        " [ 9 10 11 12]]\n",
        "[3 8]\n",
        "[[9 0 0 0 0]\n",
        " [0 8 0 0 0]\n",
        " [0 0 7 0 0]\n",
        " [0 0 0 6 0]\n",
        " [0 0 0 0 5]]\n"
       ]
      }
     ],
     "prompt_number": 6
    },
    {
     "cell_type": "code",
     "collapsed": false,
     "input": [
      "# investigating the slice object\n",
      "#slice?\n",
      "# slice is a python built-in type/function\n",
      "l = range(1,21)\n",
      "print type(l[::2])\n",
      "print l[::2]\n",
      "slc = slice(None,None,2)\n",
      "print type(slc)\n",
      "print l[slc]\n"
     ],
     "language": "python",
     "metadata": {},
     "outputs": [
      {
       "output_type": "stream",
       "stream": "stdout",
       "text": [
        "<type 'list'>\n",
        "[1, 3, 5, 7, 9, 11, 13, 15, 17, 19]\n",
        "<type 'slice'>\n",
        "[1, 3, 5, 7, 9, 11, 13, 15, 17, 19]\n"
       ]
      }
     ],
     "prompt_number": 25
    },
    {
     "cell_type": "code",
     "collapsed": false,
     "input": [
      "# now look at numpy array reference types/functions\n",
      "# both np.s_ and np.index_exp return slice objects. The difference is that s_ does not wrap it in a tuple.\n",
      "#s_?\n",
      "l = range(1,21)\n",
      "slc1 = np.s_[2:None:2]\n",
      "slc2 = np.index_exp[2:None:2]\n",
      "print slc1\n",
      "print slc2\n",
      "\n",
      "slc3 = ()\n",
      "for n in range(3,21):\n",
      "    slc3 += (np.s_[n-3:n],)\n",
      "print slc3\n",
      "\n",
      "for slc in slc3:\n",
      "    print l[slc]"
     ],
     "language": "python",
     "metadata": {},
     "outputs": [
      {
       "output_type": "stream",
       "stream": "stdout",
       "text": [
        "slice(2, None, 2)\n",
        "(slice(2, None, 2),)\n",
        "(slice(0, 3, None), slice(1, 4, None), slice(2, 5, None), slice(3, 6, None), slice(4, 7, None), slice(5, 8, None), slice(6, 9, None), slice(7, 10, None), slice(8, 11, None), slice(9, 12, None), slice(10, 13, None), slice(11, 14, None), slice(12, 15, None), slice(13, 16, None), slice(14, 17, None), slice(15, 18, None), slice(16, 19, None), slice(17, 20, None))\n",
        "[1, 2, 3]\n",
        "[2, 3, 4]\n",
        "[3, 4, 5]\n",
        "[4, 5, 6]\n",
        "[5, 6, 7]\n",
        "[6, 7, 8]\n",
        "[7, 8, 9]\n",
        "[8, 9, 10]\n",
        "[9, 10, 11]\n",
        "[10, 11, 12]\n",
        "[11, 12, 13]\n",
        "[12, 13, 14]\n",
        "[13, 14, 15]\n",
        "[14, 15, 16]\n",
        "[15, 16, 17]\n",
        "[16, 17, 18]\n",
        "[17, 18, 19]\n",
        "[18, 19, 20]\n"
       ]
      }
     ],
     "prompt_number": 9
    },
    {
     "cell_type": "code",
     "collapsed": false,
     "input": [
      "A = np.ones((4,4,4),dtype='int')\n",
      "A[1] = A[1] + np.diag(range(1,5)) # if I remove the index, the addition operator\n",
      "                                  # adds the diagonal matrix to each of the shape = (2,2) arrays\n",
      "                                  # contained under the four indicies of the first shape dimention of A\n",
      "print A\n",
      "print '---------'\n",
      "print A[0:2]\n",
      "print '---------'\n",
      "print A[1][0:3]    # only the last index should be a slice in order\n",
      "print '---------'  # to narrow the focus to the deeper dimentions of the shape\n",
      "print A[1][2][::2]"
     ],
     "language": "python",
     "metadata": {},
     "outputs": [
      {
       "output_type": "stream",
       "stream": "stdout",
       "text": [
        "[[[1 1 1 1]\n",
        "  [1 1 1 1]\n",
        "  [1 1 1 1]\n",
        "  [1 1 1 1]]\n",
        "\n",
        " [[2 1 1 1]\n",
        "  [1 3 1 1]\n",
        "  [1 1 4 1]\n",
        "  [1 1 1 5]]\n",
        "\n",
        " [[1 1 1 1]\n",
        "  [1 1 1 1]\n",
        "  [1 1 1 1]\n",
        "  [1 1 1 1]]\n",
        "\n",
        " [[1 1 1 1]\n",
        "  [1 1 1 1]\n",
        "  [1 1 1 1]\n",
        "  [1 1 1 1]]]\n",
        "---------\n",
        "[[[1 1 1 1]\n",
        "  [1 1 1 1]\n",
        "  [1 1 1 1]\n",
        "  [1 1 1 1]]\n",
        "\n",
        " [[2 1 1 1]\n",
        "  [1 3 1 1]\n",
        "  [1 1 4 1]\n",
        "  [1 1 1 5]]]\n",
        "---------\n",
        "[[2 1 1 1]\n",
        " [1 3 1 1]\n",
        " [1 1 4 1]]\n",
        "---------\n",
        "[1 4]\n"
       ]
      }
     ],
     "prompt_number": 77
    },
    {
     "cell_type": "markdown",
     "metadata": {},
     "source": [
      "For documentation of slicing see [Numpy Documentation][1].\n",
      "Also see info on [ndarray and its attributes in general][2].\n",
      "\n",
      "   [1]:http://docs.scipy.org/doc/numpy/reference/arrays.indexing.html\n",
      "   [2]:http://docs.scipy.org/doc/numpy/reference/arrays.ndarray.html"
     ]
    },
    {
     "cell_type": "code",
     "collapsed": false,
     "input": [
      "#np.delete?\n",
      "A = np.ones((4,4,4),dtype='int')\n",
      "A[1] = A[1] + np.diag(range(1,5))\n",
      "\n",
      "print A\n",
      "print '-----------'\n",
      "\n",
      "print A[:,2,:]\n",
      "print '-----------'\n",
      "print A[slice(None,None),2,slice(None,None)]\n",
      "print '-----------'\n",
      "print A[slice(None,None),slice(2,3),slice(None,None)]\n",
      "print '=============='\n",
      "\n",
      "B = np.delete(A,0,2)  # along the 3rd dimension of shape, deletes the first element \n",
      "print B"
     ],
     "language": "python",
     "metadata": {},
     "outputs": [
      {
       "output_type": "stream",
       "stream": "stdout",
       "text": [
        "[[[1 1 1 1]\n",
        "  [1 1 1 1]\n",
        "  [1 1 1 1]\n",
        "  [1 1 1 1]]\n",
        "\n",
        " [[2 1 1 1]\n",
        "  [1 3 1 1]\n",
        "  [1 1 4 1]\n",
        "  [1 1 1 5]]\n",
        "\n",
        " [[1 1 1 1]\n",
        "  [1 1 1 1]\n",
        "  [1 1 1 1]\n",
        "  [1 1 1 1]]\n",
        "\n",
        " [[1 1 1 1]\n",
        "  [1 1 1 1]\n",
        "  [1 1 1 1]\n",
        "  [1 1 1 1]]]\n",
        "-----------\n",
        "[[1 1 1 1]\n",
        " [1 1 4 1]\n",
        " [1 1 1 1]\n",
        " [1 1 1 1]]\n",
        "-----------\n",
        "[[1 1 1 1]\n",
        " [1 1 4 1]\n",
        " [1 1 1 1]\n",
        " [1 1 1 1]]\n",
        "-----------\n",
        "[[[1 1 1 1]]\n",
        "\n",
        " [[1 1 4 1]]\n",
        "\n",
        " [[1 1 1 1]]\n",
        "\n",
        " [[1 1 1 1]]]\n",
        "==============\n",
        "[[[1 1 1]\n",
        "  [1 1 1]\n",
        "  [1 1 1]\n",
        "  [1 1 1]]\n",
        "\n",
        " [[1 1 1]\n",
        "  [3 1 1]\n",
        "  [1 4 1]\n",
        "  [1 1 5]]\n",
        "\n",
        " [[1 1 1]\n",
        "  [1 1 1]\n",
        "  [1 1 1]\n",
        "  [1 1 1]]\n",
        "\n",
        " [[1 1 1]\n",
        "  [1 1 1]\n",
        "  [1 1 1]\n",
        "  [1 1 1]]]\n"
       ]
      }
     ],
     "prompt_number": 10
    },
    {
     "cell_type": "code",
     "collapsed": false,
     "input": [
      "#np.ndarray.\n",
      "#    fill?\n",
      "#    copy?\n",
      "#    dtype?\n",
      "#    shape?\n",
      "print np.ndarray"
     ],
     "language": "python",
     "metadata": {},
     "outputs": [
      {
       "output_type": "stream",
       "stream": "stdout",
       "text": [
        "<type 'numpy.ndarray'>\n"
       ]
      }
     ],
     "prompt_number": 121
    },
    {
     "cell_type": "code",
     "collapsed": false,
     "input": [
      "np.ndarray.fill?\n",
      "a = np.empty((2,2),dtype='float')\n",
      "a.fill(5)\n",
      "print a"
     ],
     "language": "python",
     "metadata": {},
     "outputs": [
      {
       "output_type": "stream",
       "stream": "stdout",
       "text": [
        "[[ 5.  5.]\n",
        " [ 5.  5.]]\n"
       ]
      }
     ],
     "prompt_number": 133
    },
    {
     "cell_type": "code",
     "collapsed": false,
     "input": [
      "np.ndarray.copy?\n",
      "a = np.arange(10)\n",
      "print a\n",
      "x = a.copy() # because a is an np.ndarray, it knows about the method copy(). \n",
      "print x\n",
      "x = x*2\n",
      "print x\n",
      "print a # even when we alter x, a does not change. np.ndarray.copy() is a deepcopy by defualt, unlike the copy method in the copy module."
     ],
     "language": "python",
     "metadata": {},
     "outputs": [
      {
       "output_type": "stream",
       "stream": "stdout",
       "text": [
        "[0 1 2 3 4 5 6 7 8 9]\n",
        "[0 1 2 3 4 5 6 7 8 9]\n",
        "[ 0  2  4  6  8 10 12 14 16 18]\n",
        "[0 1 2 3 4 5 6 7 8 9]\n"
       ]
      }
     ],
     "prompt_number": 132
    },
    {
     "cell_type": "code",
     "collapsed": false,
     "input": [],
     "language": "python",
     "metadata": {},
     "outputs": [],
     "prompt_number": 126
    },
    {
     "cell_type": "code",
     "collapsed": false,
     "input": [],
     "language": "python",
     "metadata": {},
     "outputs": []
    }
   ],
   "metadata": {}
  }
 ]
}