{
 "metadata": {
  "name": "NumPyEx1"
 },
 "nbformat": 3,
 "nbformat_minor": 0,
 "worksheets": [
  {
   "cells": [
    {
     "cell_type": "markdown",
     "metadata": {},
     "source": [
      "NumPy Exercises 1\n",
      "-\n",
      "\n",
      "_April 16 2013_"
     ]
    },
    {
     "cell_type": "code",
     "collapsed": false,
     "input": [
      "import numpy as np"
     ],
     "language": "python",
     "metadata": {},
     "outputs": [],
     "prompt_number": 1
    },
    {
     "cell_type": "markdown",
     "metadata": {},
     "source": [
      "__Question 1__"
     ]
    },
    {
     "cell_type": "code",
     "collapsed": false,
     "input": [
      "A = np.ones((4,4),dtype=int)\n",
      "A[2][3] = 2\n",
      "A[3][1] = 6\n",
      "\n",
      "B = np.diag(range(1,7))\n",
      "#np.delete(\n",
      "np.s_?"
     ],
     "language": "python",
     "metadata": {},
     "outputs": [],
     "prompt_number": 25
    },
    {
     "cell_type": "markdown",
     "metadata": {},
     "source": [
      "My experiments and docstring lookups that I used to figure out numpy functions."
     ]
    },
    {
     "cell_type": "code",
     "collapsed": false,
     "input": [
      "np.ones?\n",
      "# also see np.ones_like, np.zeros, np.zeros_like, np.empty\n",
      "a = np.array(range(10))\n",
      "b = np.ones_like(a)\n",
      "print b"
     ],
     "language": "python",
     "metadata": {},
     "outputs": [
      {
       "output_type": "stream",
       "stream": "stdout",
       "text": [
        "[1 1 1 1 1 1 1 1 1 1]\n"
       ]
      }
     ],
     "prompt_number": 30
    },
    {
     "cell_type": "code",
     "collapsed": false,
     "input": [],
     "language": "python",
     "metadata": {},
     "outputs": []
    }
   ],
   "metadata": {}
  }
 ]
}