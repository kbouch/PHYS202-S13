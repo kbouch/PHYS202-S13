{
 "metadata": {
  "name": "ProjectEuler6"
 },
 "nbformat": 3,
 "nbformat_minor": 0,
 "worksheets": [
  {
   "cells": [
    {
     "cell_type": "markdown",
     "metadata": {},
     "source": [
      "Sum square difference\n",
      "---------------------\n",
      "\n",
      "###Problem 6###\n",
      "\n",
      "The sum of the squares of the first ten natural numbers is,\n",
      "\n",
      "1$^2$ + 2$^2$ + ... + 10$^2$ = 385\n",
      "The square of the sum of the first ten natural numbers is,\n",
      "\n",
      "(1 + 2 + ... + 10)$^2$ = 552 = 3025\n",
      "Hence the difference between the sum of the squares of the first ten natural numbers and the square of the sum is 3025  385 = 2640.\n",
      "\n",
      "Find the difference between the sum of the squares of the first one hundred natural numbers and the square of the sum."
     ]
    },
    {
     "cell_type": "markdown",
     "metadata": {},
     "source": [
      "    %%%%%%%%%%%%%%%%%%%%%%%%%%%%%%%%%%%%%%%%%%%%\n",
      "    %\n",
      "    % I pledge on my honor that I have not given\n",
      "    % or received any unauthorized assistance\n",
      "    % on this assignment/examination\n",
      "    % \n",
      "    % Signed:Kyle Boucher\n",
      "    % Dated:4/7/13\n",
      "    %%%%%%%%%%%%%%%%%%%%%%%%%%%%%%%%%%%%%%%%%%\n",
      "\n",
      "Project Euler Problem 6\n",
      "-----------------------"
     ]
    },
    {
     "cell_type": "code",
     "collapsed": false,
     "input": [
      "def special_difference(upper_limit):\n",
      "    \"\"\"Takes the difference of the square of the sum of all natural numbers up to and including upper_limit\n",
      "    and the sum of the squares of each of these natural numbers.\n",
      "    \"\"\" \n",
      "    from math import trunc                               # I want to use math.trunc to take only the integer\n",
      "                                                         # part of upper_limit in case the user passes a float\n",
      "    if type(upper_limit) not in [int,float]:\n",
      "        return 'Error: argument not a positive integer'  # check that upper_limit is the correct data type\n",
      "    elif type(upper_limit) == float:\n",
      "        upper_limit = trunc(upper_limit)                 # truncate any floats\n",
      "    \n",
      "    sum_of_squares = 0\n",
      "    for n in range(1,upper_limit + 1):                   # the range function creates a list, but it starts at\n",
      "                                                         # zero by default and ends at stop-1.\n",
      "                                                         # I explicitly tell it to start at 1 and set\n",
      "                                                         # stop = upper_limit + 1.\n",
      "        sum_of_squares += n**2                           # update sum_of_squares at end of each iteration\n",
      "    \n",
      "    square_of_sum = (sum(range(1,upper_limit + 1)))**2   # use the built in function sum() that adds elements\n",
      "                                                         # of a list.\n",
      "    \n",
      "    return square_of_sum - sum_of_squares                # I am not sure if this can ever be negative\n",
      "\n",
      "result = special_difference(100)                         # call the function that I just defined on 100\n",
      "print result"
     ],
     "language": "python",
     "metadata": {},
     "outputs": [
      {
       "output_type": "stream",
       "stream": "stdout",
       "text": [
        "25164150"
       ]
      }
     ],
     "prompt_number": 1
    },
    {
     "cell_type": "markdown",
     "metadata": {},
     "source": [
      "###The answer is:###\n",
      "\n",
      "    25164150"
     ]
    },
    {
     "cell_type": "markdown",
     "metadata": {},
     "source": [
      "##Aside: learning typesetting##\n",
      "\n",
      "To make text superscript in markdown, input this:\n",
      "\n",
      "    a$^2$ + b$^2$ = c$^2$\n",
      "\n",
      "The result is:\n",
      "\n",
      "a$^2$ + b$^2$ = c$^2$"
     ]
    },
    {
     "cell_type": "markdown",
     "metadata": {},
     "source": [
      "This \n",
      "\n",
      "    a$^2$ + b$^2$ = c$^22$\n",
      "\n",
      "does not look pretty:\n",
      "\n",
      "a$^2$ + b$^2$ = c$^22$\n",
      "\n",
      "Instead, use curley brackets around the whole:\n",
      "\n",
      "    a$^2$ + b$^2$ = c$^{22}$\n",
      "\n",
      "a$^2$ + b$^2$ = c$^{22}$"
     ]
    },
    {
     "cell_type": "code",
     "collapsed": false,
     "input": [],
     "language": "python",
     "metadata": {},
     "outputs": []
    }
   ],
   "metadata": {}
  }
 ]
}