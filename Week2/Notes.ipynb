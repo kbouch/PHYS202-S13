{
 "metadata": {
  "name": "Notes"
 },
 "nbformat": 3,
 "nbformat_minor": 0,
 "worksheets": [
  {
   "cells": [
    {
     "cell_type": "markdown",
     "metadata": {},
     "source": [
      "###Notes Week 2###"
     ]
    },
    {
     "cell_type": "markdown",
     "metadata": {},
     "source": [
      "Python has a built-in imaginary number type"
     ]
    },
    {
     "cell_type": "code",
     "collapsed": false,
     "input": [
      "a = 3 + 5j    \n",
      "b = 1 - 6j    \n",
      "print type(a)\n",
      "print a\n",
      "print a.real\n",
      "print a.imag\n",
      "print '\\n'\n",
      "print a + b"
     ],
     "language": "python",
     "metadata": {},
     "outputs": [
      {
       "output_type": "stream",
       "stream": "stdout",
       "text": [
        "<type 'complex'>\n",
        "(3+5j)\n",
        "3.0\n",
        "5.0\n",
        "\n",
        "\n",
        "(4-1j)\n"
       ]
      }
     ],
     "prompt_number": 2
    },
    {
     "cell_type": "markdown",
     "metadata": {},
     "source": [
      "The ipython notebook gives the docstring and other info about functions and objects when you put a question mark.\n",
      "\n",
      "It only displays the information for the last object that has the question mark, so to view the docstring of len(), make the line with range into a comment"
     ]
    },
    {
     "cell_type": "code",
     "collapsed": false,
     "input": [
      "len?\n",
      "#range?"
     ],
     "language": "python",
     "metadata": {},
     "outputs": [],
     "prompt_number": 5
    },
    {
     "cell_type": "markdown",
     "metadata": {},
     "source": [
      "Although tripple quotes are a multiline comment, i you use the assignment operator just before the tripple quotes, you can print a literal multiline string"
     ]
    },
    {
     "cell_type": "code",
     "collapsed": false,
     "input": [
      "foo = \"\"\"first\n",
      "second\n",
      "third\"\"\"\n",
      "print foo"
     ],
     "language": "python",
     "metadata": {},
     "outputs": []
    },
    {
     "cell_type": "markdown",
     "metadata": {},
     "source": [
      "Instead, can use newline character"
     ]
    },
    {
     "cell_type": "code",
     "collapsed": false,
     "input": [
      "foo = 'first\\nsecond\\nthird'\n",
      "print foo"
     ],
     "language": "python",
     "metadata": {},
     "outputs": [
      {
       "output_type": "stream",
       "stream": "stdout",
       "text": [
        "first\n",
        "second\n",
        "third\n"
       ]
      }
     ],
     "prompt_number": 7
    },
    {
     "cell_type": "markdown",
     "metadata": {},
     "source": [
      "Lists are very handy, but it is not optimized to be fast scientists made a package called numerical python 'numpy'it is a module, it offers arrays."
     ]
    },
    {
     "cell_type": "code",
     "collapsed": false,
     "input": [
      "import numpy as np\n",
      "A = np.array([0,1,2,3],int)\n",
      "print A"
     ],
     "language": "python",
     "metadata": {},
     "outputs": [
      {
       "output_type": "stream",
       "stream": "stdout",
       "text": [
        "[0 1 2 3]\n"
       ]
      }
     ],
     "prompt_number": 8
    },
    {
     "cell_type": "markdown",
     "metadata": {},
     "source": [
      "Benchmark the speed of python list versus numpy arrays using the OS time program.\n",
      "\n",
      "Use '%' to reference commands that interface with teh OS."
     ]
    },
    {
     "cell_type": "code",
     "collapsed": false,
     "input": [
      "L = range(1000)\n"
     ],
     "language": "python",
     "metadata": {},
     "outputs": [],
     "prompt_number": 10
    },
    {
     "cell_type": "code",
     "collapsed": false,
     "input": [
      "%timeit [i**2 for i in L]"
     ],
     "language": "python",
     "metadata": {},
     "outputs": [
      {
       "output_type": "stream",
       "stream": "stdout",
       "text": [
        "10000 loops, best of 3: 128 us per loop\n"
       ]
      }
     ],
     "prompt_number": 12
    },
    {
     "cell_type": "code",
     "collapsed": false,
     "input": [
      "A = np.arange(1000)"
     ],
     "language": "python",
     "metadata": {},
     "outputs": [],
     "prompt_number": 14
    },
    {
     "cell_type": "code",
     "collapsed": false,
     "input": [
      "%timeit A**2"
     ],
     "language": "python",
     "metadata": {},
     "outputs": [
      {
       "output_type": "stream",
       "stream": "stdout",
       "text": [
        "100000 loops, best of 3: 3.83 us per loop\n"
       ]
      }
     ],
     "prompt_number": 15
    },
    {
     "cell_type": "markdown",
     "metadata": {},
     "source": [
      "Numpy has a help function"
     ]
    },
    {
     "cell_type": "code",
     "collapsed": false,
     "input": [
      "help(np.array)"
     ],
     "language": "python",
     "metadata": {},
     "outputs": [
      {
       "output_type": "stream",
       "stream": "stdout",
       "text": [
        "Help on built-in function array in module numpy.core.multiarray:\n",
        "\n",
        "array(...)\n",
        "    array(object, dtype=None, copy=True, order=None, subok=False, ndmin=0)\n",
        "    \n",
        "    Create an array.\n",
        "    \n",
        "    Parameters\n",
        "    ----------\n",
        "    object : array_like\n",
        "        An array, any object exposing the array interface, an\n",
        "        object whose __array__ method returns an array, or any\n",
        "        (nested) sequence.\n",
        "    dtype : data-type, optional\n",
        "        The desired data-type for the array.  If not given, then\n",
        "        the type will be determined as the minimum type required\n",
        "        to hold the objects in the sequence.  This argument can only\n",
        "        be used to 'upcast' the array.  For downcasting, use the\n",
        "        .astype(t) method.\n",
        "    copy : bool, optional\n",
        "        If true (default), then the object is copied.  Otherwise, a copy\n",
        "        will only be made if __array__ returns a copy, if obj is a\n",
        "        nested sequence, or if a copy is needed to satisfy any of the other\n",
        "        requirements (`dtype`, `order`, etc.).\n",
        "    order : {'C', 'F', 'A'}, optional\n",
        "        Specify the order of the array.  If order is 'C' (default), then the\n",
        "        array will be in C-contiguous order (last-index varies the\n",
        "        fastest).  If order is 'F', then the returned array\n",
        "        will be in Fortran-contiguous order (first-index varies the\n",
        "        fastest).  If order is 'A', then the returned array may\n",
        "        be in any order (either C-, Fortran-contiguous, or even\n",
        "        discontiguous).\n",
        "    subok : bool, optional\n",
        "        If True, then sub-classes will be passed-through, otherwise\n",
        "        the returned array will be forced to be a base-class array (default).\n",
        "    ndmin : int, optional\n",
        "        Specifies the minimum number of dimensions that the resulting\n",
        "        array should have.  Ones will be pre-pended to the shape as\n",
        "        needed to meet this requirement.\n",
        "    \n",
        "    Returns\n",
        "    -------\n",
        "    out : ndarray\n",
        "        An array object satisfying the specified requirements.\n",
        "    \n",
        "    See Also\n",
        "    --------\n",
        "    empty, empty_like, zeros, zeros_like, ones, ones_like, fill\n",
        "    \n",
        "    Examples\n",
        "    --------\n",
        "    >>> np.array([1, 2, 3])\n",
        "    array([1, 2, 3])\n",
        "    \n",
        "    Upcasting:\n",
        "    \n",
        "    >>> np.array([1, 2, 3.0])\n",
        "    array([ 1.,  2.,  3.])\n",
        "    \n",
        "    More than one dimension:\n",
        "    \n",
        "    >>> np.array([[1, 2], [3, 4]])\n",
        "    array([[1, 2],\n",
        "           [3, 4]])\n",
        "    \n",
        "    Minimum dimensions 2:\n",
        "    \n",
        "    >>> np.array([1, 2, 3], ndmin=2)\n",
        "    array([[1, 2, 3]])\n",
        "    \n",
        "    Type provided:\n",
        "    \n",
        "    >>> np.array([1, 2, 3], dtype=complex)\n",
        "    array([ 1.+0.j,  2.+0.j,  3.+0.j])\n",
        "    \n",
        "    Data-type consisting of more than one element:\n",
        "    \n",
        "    >>> x = np.array([(1,2),(3,4)],dtype=[('a','<i4'),('b','<i4')])\n",
        "    >>> x['a']\n",
        "    array([1, 3])\n",
        "    \n",
        "    Creating an array from sub-classes:\n",
        "    \n",
        "    >>> np.array(np.mat('1 2; 3 4'))\n",
        "    array([[1, 2],\n",
        "           [3, 4]])\n",
        "    \n",
        "    >>> np.array(np.mat('1 2; 3 4'), subok=True)\n",
        "    matrix([[1, 2],\n",
        "            [3, 4]])\n",
        "\n"
       ]
      }
     ],
     "prompt_number": 16
    },
    {
     "cell_type": "markdown",
     "metadata": {},
     "source": [
      "To search numpy documentation:"
     ]
    },
    {
     "cell_type": "code",
     "collapsed": false,
     "input": [
      "np.lookfor('create array')"
     ],
     "language": "python",
     "metadata": {},
     "outputs": [
      {
       "output_type": "stream",
       "stream": "stdout",
       "text": [
        "Search results for 'create array'\n",
        "---------------------------------\n",
        "numpy.array\n",
        "    Create an array.\n",
        "numpy.memmap\n",
        "    Create a memory-map to an array stored in a *binary* file on disk.\n",
        "numpy.fromiter\n",
        "    Create a new 1-dimensional array from an iterable object.\n",
        "numpy.diagflat\n",
        "    Create a two-dimensional array with the flattened input as a diagonal.\n",
        "numpy.ma.diagflat\n",
        "    Create a two-dimensional array with the flattened input as a diagonal.\n",
        "numpy.ctypeslib.as_array\n",
        "    Create a numpy array from a ctypes array or a ctypes POINTER.\n",
        "numpy.ma.make_mask\n",
        "    Create a boolean mask from an array.\n",
        "numpy.ctypeslib.as_ctypes\n",
        "    Create and return a ctypes object from a numpy array.  Actually\n",
        "numpy.ma.mrecords.fromarrays\n",
        "    Creates a mrecarray from a (flat) list of masked arrays.\n",
        "numpy.lib.format.open_memmap\n",
        "    Open a .npy file as a memory-mapped array.\n",
        "numpy.ma.MaskedArray.__new__\n",
        "    Create a new masked array from scratch.\n",
        "numpy.lib.arrayterator.Arrayterator\n",
        "    Buffered iterator for big arrays.\n",
        "numpy.ma.mrecords.fromtextfile\n",
        "    Creates a mrecarray from data stored in the file `filename`.\n",
        "numpy.oldnumeric.ma.fromfunction\n",
        "    apply f to s to create array as in umath.\n",
        "numpy.oldnumeric.ma.masked_object\n",
        "    Create array masked where exactly data equal to value\n",
        "numpy.oldnumeric.ma.masked_values\n",
        "    Create a masked array; mask is nomask if possible.\n",
        "numpy.asarray\n",
        "    Convert the input to an array.\n",
        "numpy.ndarray\n",
        "    ndarray(shape, dtype=float, buffer=None, offset=0,\n",
        "numpy.recarray\n",
        "    Construct an ndarray that allows field access using attributes.\n",
        "numpy.chararray\n",
        "    chararray(shape, itemsize=1, unicode=False, buffer=None, offset=0,\n",
        "numpy.sum\n",
        "    Sum of array elements over a given axis.\n",
        "numpy.asanyarray\n",
        "    Convert the input to an ndarray, but pass ndarray subclasses through.\n",
        "numpy.copy\n",
        "    Return an array copy of the given object.\n",
        "numpy.diag\n",
        "    Extract a diagonal or construct a diagonal array.\n",
        "numpy.sort\n",
        "    Return a sorted copy of an array.\n",
        "numpy.array_equiv\n",
        "    Returns True if input arrays are shape consistent and all elements equal.\n",
        "numpy.dtype\n",
        "    Create a data type object.\n",
        "numpy.choose\n",
        "    Construct an array from an index array and a set of arrays to choose from.\n",
        "numpy.nditer\n",
        "    Efficient multi-dimensional iterator object to iterate over arrays.\n",
        "numpy.swapaxes\n",
        "    Interchange two axes of an array.\n",
        "numpy.empty_like\n",
        "    Return a new array with the same shape and type as a given array.\n",
        "numpy.asarray_chkfinite\n",
        "    Convert the input to an array, checking for NaNs or Infs.\n",
        "numpy.diag_indices\n",
        "    Return the indices to access the main diagonal of an array.\n",
        "numpy.ma.choose\n",
        "    Use an index array to construct a new array from a set of choices.\n",
        "numpy.chararray.tolist\n",
        "    a.tolist()\n",
        "numpy.matlib.rand\n",
        "    Return a matrix of random values with given shape.\n",
        "numpy.ma.empty_like\n",
        "    Return a new array with the same shape and type as a given array.\n",
        "numpy.ma.make_mask_none\n",
        "    Return a boolean mask of the given shape, filled with False.\n",
        "numpy.ma.mrecords.fromrecords\n",
        "    Creates a MaskedRecords from a list of records.\n",
        "numpy.load\n",
        "    Load a pickled, ``.npy``, or ``.npz`` binary file.\n",
        "numpy.around\n",
        "    Evenly round to the given number of decimals.\n",
        "numpy.source\n",
        "    Print or write to a file the source code for a Numpy object.\n",
        "numpy.diagonal\n",
        "    Return specified diagonals.\n",
        "numpy.fft.ifft\n",
        "    Compute the one-dimensional inverse discrete Fourier Transform.\n",
        "numpy.fft.ifftn\n",
        "    Compute the N-dimensional inverse discrete Fourier Transform."
       ]
      }
     ],
     "prompt_number": 18
    },
    {
     "cell_type": "code",
     "collapsed": false,
     "input": [
      "A = np.array([0,1,2,3])\n",
      "print A\n",
      "print A.shape\n",
      "print A.ndim"
     ],
     "language": "python",
     "metadata": {},
     "outputs": [
      {
       "output_type": "stream",
       "stream": "stdout",
       "text": [
        "[0 1 2 3]\n",
        "(4,)\n",
        "1\n"
       ]
      }
     ],
     "prompt_number": 20
    },
    {
     "cell_type": "markdown",
     "metadata": {},
     "source": [
      "Creating a multi-dimentional array (a matrix):"
     ]
    },
    {
     "cell_type": "code",
     "collapsed": false,
     "input": [
      "B = np.array([[0,1,2],[3,4,5]])\n",
      "print B\n",
      "print B.shape\n",
      "print B.ndim\n",
      "C = np.array([[0,1],[2,3],[4,5]])\n",
      "print C\n",
      "print C.shape\n",
      "print C.ndim"
     ],
     "language": "python",
     "metadata": {},
     "outputs": [
      {
       "output_type": "stream",
       "stream": "stdout",
       "text": [
        "[[0 1 2]\n",
        " [3 4 5]]\n",
        "(2, 3)\n",
        "2\n",
        "[[0 1]\n",
        " [2 3]\n",
        " [4 5]]\n",
        "(3, 2)\n",
        "2\n"
       ]
      }
     ],
     "prompt_number": 27
    },
    {
     "cell_type": "code",
     "collapsed": false,
     "input": [],
     "language": "python",
     "metadata": {},
     "outputs": []
    }
   ],
   "metadata": {}
  }
 ]
}