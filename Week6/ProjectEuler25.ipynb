{
 "metadata": {
  "name": "ProjectEuler25"
 },
 "nbformat": 3,
 "nbformat_minor": 0,
 "worksheets": [
  {
   "cells": [
    {
     "cell_type": "markdown",
     "metadata": {},
     "source": [
      "###Problem Description\n",
      "\n",
      "##1000-digit Fibonacci number\n",
      "###Problem 25\n",
      "\n",
      "The Fibonacci sequence is defined by the recurrence relation:\n",
      "\n",
      "`\n",
      "    Fn = Fn\u22121 + Fn\u22122, where F1 = 1 and F2 = 1.\n",
      "`\n",
      "\n",
      "Hence the first 12 terms will be:\n",
      "\n",
      "`\n",
      "    F1 = 1\n",
      "    F2 = 1\n",
      "    F3 = 2\n",
      "    F4 = 3\n",
      "    F5 = 5\n",
      "    F6 = 8\n",
      "    F7 = 13\n",
      "    F8 = 21\n",
      "    F9 = 34\n",
      "    F10 = 55\n",
      "    F11 = 89\n",
      "    F12 = 144\n",
      "`\n",
      "\n",
      "\n",
      "The 12th term, F12, is the first term to contain three digits.\n",
      "\n",
      "What is the first term in the Fibonacci sequence to contain 1000 digits?"
     ]
    },
    {
     "cell_type": "markdown",
     "metadata": {},
     "source": [
      "- - -\n",
      "In the past two Project Euler probelms, I have put possibilities that I wanted to filter into large nupy arrays. I used this method to check all the days in the 20th century to see if a sunday landed on the first of the month. I used this method to store all the possible products of three digit positive integers in one array to check if they were palindromes.\n",
      "\n",
      "This time, I will not store all the fibonacci numbers at once, only the two preceding numbers neccessary to calculate the next number. I will update these variables before calculating the next Fibonacci number. I also need a variable to act as a counter."
     ]
    },
    {
     "cell_type": "markdown",
     "metadata": {},
     "source": [
      "Testing the built-in convert-to-string function `str()`."
     ]
    },
    {
     "cell_type": "code",
     "collapsed": false,
     "input": [
      "trials = [ 213, +213, -213, 2.13e40, -2.13e40, 2.13e-56, 213.00456, +213.00789, -123.45678, 231000000000000000000000000000000000000000000L\n",
      "          ,100.\n",
      "         ]\n",
      "\n",
      "for n in trials:\n",
      "    print str(n)\n"
     ],
     "language": "python",
     "metadata": {},
     "outputs": [
      {
       "output_type": "stream",
       "stream": "stdout",
       "text": [
        "213\n",
        "213\n",
        "-213\n",
        "2.13e+40\n",
        "-2.13e+40\n",
        "2.13e-56\n",
        "213.00456\n",
        "213.00789\n",
        "-123.45678\n",
        "231000000000000000000000000000000000000000000\n",
        "100.0\n"
       ]
      }
     ],
     "prompt_number": 5
    },
    {
     "cell_type": "markdown",
     "metadata": {},
     "source": [
      "This is good, the string conversion of positive integers does not include a plus sign, and for Long integers it does not include the L at the end.\n",
      "\n",
      "I just have to avoid making any on my numbers floats as I calculate the Fibonacci numbers."
     ]
    },
    {
     "cell_type": "markdown",
     "metadata": {},
     "source": [
      "This function checks the length of positive integers, normal or long."
     ]
    },
    {
     "cell_type": "code",
     "collapsed": false,
     "input": [
      "# Check the number of digits\n",
      "def digit_length(n):\n",
      "    \"\"\" n must be a positive integer (positive Long ok too)\"\"\"\n",
      "    number = str(n)\n",
      "    return len(number)"
     ],
     "language": "python",
     "metadata": {},
     "outputs": [],
     "prompt_number": 16
    },
    {
     "cell_type": "markdown",
     "metadata": {},
     "source": [
      "Test cases for `digit_length`:"
     ]
    },
    {
     "cell_type": "code",
     "collapsed": false,
     "input": [
      "more_trials = [456, 400500600, 400000000000000500000000000000600000000000000L] #last number has 45 digits, not including the L\n",
      "for n in more_trials:\n",
      "    print str(n)\n",
      "    print digit_length(n)"
     ],
     "language": "python",
     "metadata": {},
     "outputs": [
      {
       "output_type": "stream",
       "stream": "stdout",
       "text": [
        "456\n",
        "3\n",
        "400500600\n",
        "9\n",
        "400000000000000500000000000000600000000000000\n",
        "45\n"
       ]
      }
     ],
     "prompt_number": 17
    },
    {
     "cell_type": "code",
     "collapsed": false,
     "input": [
      "def find_fibonacci(digits):\n",
      "    \"\"\" Takes a positive integer number of digits and finds the first Fibonacci\n",
      "    number in the sequence that has that number of digits. Returns a tuple:\n",
      "    (fibonaci #, sequence index),\n",
      "    \"\"\"\n",
      "    if digits == 1:\n",
      "        return (1,1)\n",
      "    \n",
      "    \n",
      "    # F(n-2) = fl\n",
      "    # F(n-1) = fm\n",
      "    # F(n)   = fn\n",
      "    \n",
      "    fl = 1\n",
      "    fm = 1\n",
      "    fn = 1\n",
      "    counter = 2\n",
      "    \n",
      "    while digit_length(fn) != digits:\n",
      "        fn = fl + fm\n",
      "        fm = fl\n",
      "        fl = fn\n",
      "        counter += 1\n",
      "    else:\n",
      "        return (fn,counter)   "
     ],
     "language": "python",
     "metadata": {},
     "outputs": [],
     "prompt_number": 18
    },
    {
     "cell_type": "markdown",
     "metadata": {},
     "source": [
      "__Test cases:__"
     ]
    },
    {
     "cell_type": "code",
     "collapsed": false,
     "input": [
      "d = 1\n",
      "(fnumber,seq_index) = find_fibonacci(d)\n",
      "print 'The fibonacci number',fnumber\n",
      "print 'is the first in the series with',d,'digits.'\n",
      "print 'It\\'s place in the series is',seq_index,'.'\n",
      "print '\\n'\n",
      "d = 2\n",
      "(fnumber,seq_index) = find_fibonacci(d)\n",
      "print 'The fibonacci number',fnumber\n",
      "print 'is the first in the series with',d,'digits.'\n",
      "print 'It\\'s place in the series is',seq_index,'.'\n",
      "print '\\n'\n",
      "d = 3\n",
      "(fnumber,seq_index) = find_fibonacci(d)\n",
      "print 'The fibonacci number',fnumber\n",
      "print 'is the first in the series with',d,'digits.'\n",
      "print 'It\\'s place in the series is',seq_index,'.'\n",
      "\n",
      "\n"
     ],
     "language": "python",
     "metadata": {},
     "outputs": [
      {
       "output_type": "stream",
       "stream": "stdout",
       "text": [
        "The fibonacci number 1\n",
        "is the first in the series with 1 digits.\n",
        "It's place in the series is 1 .\n",
        "\n",
        "\n",
        "The fibonacci number 13\n",
        "is the first in the series with 2 digits.\n",
        "It's place in the series is 7 .\n",
        "\n",
        "\n",
        "The fibonacci number 144\n",
        "is the first in the series with 3 digits.\n",
        "It's place in the series is 12 .\n"
       ]
      }
     ],
     "prompt_number": 19
    },
    {
     "cell_type": "markdown",
     "metadata": {},
     "source": [
      "- - -\n",
      "Now to get the answer:"
     ]
    },
    {
     "cell_type": "code",
     "collapsed": false,
     "input": [
      "d = 1000\n",
      "(fnumber,seq_index) = find_fibonacci(d)\n",
      "print 'The fibonacci number',fnumber\n",
      "print 'is the first in the series with',d,'digits.'\n",
      "print 'It\\'s place in the series is',seq_index,'.'"
     ],
     "language": "python",
     "metadata": {},
     "outputs": [
      {
       "output_type": "stream",
       "stream": "stdout",
       "text": [
        "The fibonacci number 1070066266382758936764980584457396885083683896632151665013235203375314520604694040621889147582489792657804694888177591957484336466672569959512996030461262748092482186144069433051234774442750273781753087579391666192149259186759553966422837148943113074699503439547001985432609723067290192870526447243726117715821825548491120525013201478612965931381792235559657452039506137551467837543229119602129934048260706175397706847068202895486902666185435124521900369480641357447470911707619766945691070098024393439617474103736912503231365532164773697023167755051595173518460579954919410967778373229665796581646513903488154256310184224190259846088000110186255550245493937113651657039447629584714548523425950428582425306083544435428212611008992863795048006894330309773217834864543113205765659868456288616808718693835297350643986297640660000723562917905207051164077614812491885830945940566688339109350944456576357666151619317753792891661581327159616877487983821820492520348473874384736771934512787029218636250627816\n",
        "is the first in the series with 1000 digits.\n",
        "It's place in the series is 4782 .\n"
       ]
      }
     ],
     "prompt_number": 20
    },
    {
     "cell_type": "markdown",
     "metadata": {},
     "source": [
      "####The 4782 _th_ term in the fibonacci sequence is the first term to contain 1000 digits."
     ]
    },
    {
     "cell_type": "code",
     "collapsed": false,
     "input": [
      "%timeit find_fibonacci(1000)"
     ],
     "language": "python",
     "metadata": {},
     "outputs": [
      {
       "output_type": "stream",
       "stream": "stdout",
       "text": [
        "1 loops, best of 3: 342 ms per loop\n"
       ]
      }
     ],
     "prompt_number": 21
    },
    {
     "cell_type": "markdown",
     "metadata": {},
     "source": [
      "This cpmputation is took less than a second."
     ]
    }
   ],
   "metadata": {}
  }
 ]
}