{
 "metadata": {
  "name": "ProjectEuler31"
 },
 "nbformat": 3,
 "nbformat_minor": 0,
 "worksheets": [
  {
   "cells": [
    {
     "cell_type": "markdown",
     "metadata": {},
     "source": [
      "##Coin Sums\n",
      "\n",
      "##Project Euler : Problem 31\n",
      "\n",
      "In England the currency is made up of pound, \u00a3, and pence, p, and there are eight coins in general circulation:\n",
      "\n",
      ">1p, 2p, 5p, 10p, 20p, 50p, \u00a31 (100p) and \u00a32 (200p).\n",
      "\n",
      "It is possible to make \u00a32 in the following way:\n",
      "\n",
      ">1$\\times$\u00a31 + 1$\\times$50p + 2$\\times$20p + 1$\\times$5p + 1$\\times$2p + 3$\\times$1p\n",
      "\n",
      "How many different ways can \u00a32 be made using any number of coins?\n"
     ]
    },
    {
     "cell_type": "markdown",
     "metadata": {},
     "source": [
      "- - -\n",
      "This problem is about linear combinations, but the vectors have only one component, the coin value (pence), and they are not linearly independent.\n",
      "\n",
      "> $200 = a(1,) + b(2,) + c(5,)+d(10,)+e(20,)+f(50,)+g(100,)+h(200,)$\n",
      "\n",
      "where $a,b,\\dotsc ,h$ are variable numbers,. This system has only one equation, so it is dependent. It would have infinite solutions, but if we restrict the variables to be _integers_ greater than zero, then there is a finite number of combinations, and each variable also must have an upper limit corresponding to when all the other varialbles are zero. For example, $0 \\leq e \\leq \\frac{200}{10}$ ."
     ]
    },
    {
     "cell_type": "markdown",
     "metadata": {},
     "source": [
      "Function to sort the coins by increasing value."
     ]
    },
    {
     "cell_type": "code",
     "collapsed": false,
     "input": [
      "def sort_list(L,order='a'):\n",
      "    \n",
      "    \n",
      "    new_L = []\n",
      "    \n",
      "    L_chop = [] # copy L into L_chop\n",
      "    for v in L:\n",
      "        L_chop = L_chop + [v]\n",
      "    \n",
      "    # add the largest value in L_chop to new_L, then delete the value\n",
      "    # out of L_chop and repeat, until new_L is the same length as original L\n",
      "    while len(new_L) != len(L):\n",
      "        Largest = L_chop[-1]\n",
      "        for i in range(len(L_chop)):\n",
      "            if L_chop[i] >= Largest:\n",
      "                (Largest,ind) = L_chop[i],i\n",
      "        new_L = [Largest]+new_L\n",
      "        del(L_chop[ind])\n",
      "        \n",
      "    return new_L"
     ],
     "language": "python",
     "metadata": {},
     "outputs": [],
     "prompt_number": 109
    },
    {
     "cell_type": "markdown",
     "metadata": {},
     "source": [
      "Test cases:"
     ]
    },
    {
     "cell_type": "code",
     "collapsed": false,
     "input": [
      "print sort_list([1,3,4,2])\n",
      "print sort_list([50,20,2,100,1,200,5,10])"
     ],
     "language": "python",
     "metadata": {},
     "outputs": [
      {
       "output_type": "stream",
       "stream": "stdout",
       "text": [
        "[1, 2, 3, 4]\n",
        "[1, 2, 5, 10, 20, 50, 100, 200]\n"
       ]
      }
     ],
     "prompt_number": 110
    },
    {
     "cell_type": "markdown",
     "metadata": {},
     "source": [
      "Make a function to trace all the branches of possible coin combinations, starting with the possible numbers of the largest coin,\n",
      "then moving on to the next largest coin, until the total is met, then add one to the count and retrace back up one level, try to use one less of that coin. This method works with any number of types of coins. In the case of the present problem there are 8 coin types."
     ]
    },
    {
     "cell_type": "code",
     "collapsed": false,
     "input": [
      "def recursive_summation_ways(total_left,coins_left,count):\n",
      "    \"\"\" Takes the remaining total to be split among the remaining coin types.\n",
      "    coins_left must be a list of the vaules of coins in ascending order.\"\"\"\n",
      "    if total_left == 0.:\n",
      "        return 1\n",
      "    elif len(coins_left) == 0:\n",
      "        return 0 \n",
      "    \n",
      "    sub_count = 0\n",
      "    fit = total_left // coins_left[-1]\n",
      "    for multiple in range(0,fit+1):\n",
      "        sub_count += recursive_summation_ways(total_left - multiple*coins_left[-1], coins_left[:-1],count)\n",
      "    \n",
      "    count += sub_count\n",
      "    return count"
     ],
     "language": "python",
     "metadata": {},
     "outputs": [],
     "prompt_number": 111
    },
    {
     "cell_type": "markdown",
     "metadata": {},
     "source": [
      "Test cases:"
     ]
    },
    {
     "cell_type": "code",
     "collapsed": false,
     "input": [
      "ways = recursive_summation_ways(10,[1,2],0)\n",
      "print ways\n",
      "\n",
      "print recursive_summation_ways(10,[1,2,5],0)\n",
      "# 2*[5]\n",
      "# 1*[5] + 2*[2] + 1*[1]\n",
      "#  \"    + 1*[2] + 3*[1]\n",
      "#  \"    + 0*[2] + 5*[1]\n",
      "# 0*[5] + 5*[2]\n",
      "#  \"    + 4*[2] + 2*[1]\n",
      "#         |       |\n",
      "#  \"    + 3*    + 4*\n",
      "#         |       |\n",
      "#  \"    + 2*    + 6*\n",
      "#         |       |\n",
      "#  \"    + 1*    + 8*\n",
      "#         |       |\n",
      "#  \"    + 0*[2] + 10*[1]\n",
      "# ten ways\n",
      "\n",
      "print recursive_summation_ways(5,[1,2,5],0)\n",
      "\n",
      "print recursive_summation_ways(100,[7,24],0) # (4*7) + (3 * 24)\n",
      "\n",
      "print recursive_summation_ways(50,[5,10,20],0)\n",
      "\n",
      "print recursive_summation_ways(10,[1,2,5],0)\n",
      "\n",
      "print recursive_summation_ways(17,[2,3,8],0)\n",
      "# 1*[8] + 3*[3]\n",
      "#  \"    + 1*[3] + 3*[2]\n",
      "# 0*[8] + 5*[3] + 1*[2]\n",
      "#  \"    + 3*[3] + 4*[2]\n",
      "#  \"    + 1*[3] + 7*[2]\n",
      "# five ways"
     ],
     "language": "python",
     "metadata": {},
     "outputs": [
      {
       "output_type": "stream",
       "stream": "stdout",
       "text": [
        "6\n",
        "10\n",
        "4\n",
        "1\n",
        "12\n",
        "10\n",
        "5\n"
       ]
      }
     ],
     "prompt_number": 112
    },
    {
     "cell_type": "markdown",
     "metadata": {},
     "source": [
      "Wrapper for the two previous functions."
     ]
    },
    {
     "cell_type": "code",
     "collapsed": false,
     "input": [
      "def count_lin_combo(total,coin_list):\n",
      "    \"\"\"Returns an integer of the number of ways the coin values in coin_list \n",
      "    can add up to (as a linear combination) the total, with the restriction \n",
      "    that each coin value is added in a positive integer multiple. The coin \n",
      "    values and total can be floats.\"\"\"\n",
      "    \n",
      "    \n",
      "    coin_ascend = sort_list(coin_list)\n",
      "                \n",
      "    init_ways = 0\n",
      "    \n",
      "    ways = recursive_summation_ways(total,coin_ascend,init_ways)\n",
      "    \n",
      "    return ways    "
     ],
     "language": "python",
     "metadata": {},
     "outputs": [],
     "prompt_number": 113
    },
    {
     "cell_type": "markdown",
     "metadata": {},
     "source": [
      "Test cases:"
     ]
    },
    {
     "cell_type": "code",
     "collapsed": false,
     "input": [
      "england_coin_currency = [200,5,20,1,50,10,2,100]\n",
      "\n",
      "print count_lin_combo(10,england_coin_currency)\n",
      "\n",
      "print recursive_summation_ways(10,[1,2,5,10],0)"
     ],
     "language": "python",
     "metadata": {},
     "outputs": [
      {
       "output_type": "stream",
       "stream": "stdout",
       "text": [
        "11\n",
        "11\n"
       ]
      }
     ],
     "prompt_number": 115
    },
    {
     "cell_type": "markdown",
     "metadata": {},
     "source": [
      "#Answer"
     ]
    },
    {
     "cell_type": "code",
     "collapsed": false,
     "input": [
      "print count_lin_combo(200,england_coin_currency)"
     ],
     "language": "python",
     "metadata": {},
     "outputs": [
      {
       "output_type": "stream",
       "stream": "stdout",
       "text": [
        "73682\n"
       ]
      }
     ],
     "prompt_number": 116
    },
    {
     "cell_type": "markdown",
     "metadata": {},
     "source": [
      "###I get $73682$ ."
     ]
    },
    {
     "cell_type": "code",
     "collapsed": false,
     "input": [],
     "language": "python",
     "metadata": {},
     "outputs": []
    }
   ],
   "metadata": {}
  }
 ]
}