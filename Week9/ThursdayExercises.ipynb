{
 "metadata": {
  "name": "ThursdayExercises"
 },
 "nbformat": 3,
 "nbformat_minor": 0,
 "worksheets": [
  {
   "cells": [
    {
     "cell_type": "markdown",
     "metadata": {},
     "source": [
      "#Week 9 Thursday Notes and Exercises\n",
      "\n",
      "Kyle Boucher\n",
      "\n",
      "_30 May 2013_"
     ]
    },
    {
     "cell_type": "code",
     "collapsed": false,
     "input": [
      "import numpy as np\n",
      "\n",
      "DataIn = np.loadtxt('input.dat')\n",
      "print DataIn.shape\n",
      "print DataIn"
     ],
     "language": "python",
     "metadata": {},
     "outputs": [
      {
       "output_type": "stream",
       "stream": "stdout",
       "text": [
        "(5, 3)\n",
        "[[ 0.   1.1  0.1]\n",
        " [ 2.   1.9  0.2]\n",
        " [ 4.   3.2  0.1]\n",
        " [ 6.   4.   0.3]\n",
        " [ 8.   5.9  0.3]]\n"
       ]
      }
     ],
     "prompt_number": 1
    },
    {
     "cell_type": "code",
     "collapsed": false,
     "input": [
      "print DataIn[:,2]"
     ],
     "language": "python",
     "metadata": {},
     "outputs": [
      {
       "output_type": "stream",
       "stream": "stdout",
       "text": [
        "[ 0.1  0.2  0.1  0.3  0.3]\n"
       ]
      }
     ],
     "prompt_number": 2
    },
    {
     "cell_type": "code",
     "collapsed": false,
     "input": [
      "x,y,yerr = np.loadtxt('input.dat', unpack=True)\n",
      "print x\n",
      "print y\n",
      "print yerr"
     ],
     "language": "python",
     "metadata": {},
     "outputs": [
      {
       "output_type": "stream",
       "stream": "stdout",
       "text": [
        "[ 0.  2.  4.  6.  8.]\n",
        "[ 1.1  1.9  3.2  4.   5.9]\n",
        "[ 0.1  0.2  0.1  0.3  0.3]\n"
       ]
      }
     ],
     "prompt_number": 3
    },
    {
     "cell_type": "code",
     "collapsed": false,
     "input": [
      "x,y = np.loadtxt('input.dat', unpack=True, usecols=[0,1])\n",
      "print x\n",
      "print y"
     ],
     "language": "python",
     "metadata": {},
     "outputs": [
      {
       "output_type": "stream",
       "stream": "stdout",
       "text": [
        "[ 0.  2.  4.  6.  8.]\n",
        "[ 1.1  1.9  3.2  4.   5.9]\n"
       ]
      }
     ],
     "prompt_number": 4
    },
    {
     "cell_type": "code",
     "collapsed": false,
     "input": [
      "x,y = np.loadtxt('input.cvs',unpack=True, delimiter=',',usecols=[0,1])\n",
      "print x,y"
     ],
     "language": "python",
     "metadata": {},
     "outputs": [
      {
       "output_type": "stream",
       "stream": "stdout",
       "text": [
        "[ 0.  2.  4.  6.  8.] [ 1.1  1.9  3.2  4.   5.9]\n"
       ]
      }
     ],
     "prompt_number": 6
    },
    {
     "cell_type": "code",
     "collapsed": false,
     "input": [
      "t = np.array([0.0,0.1,0.2,0.3,0.4,0.5,0.6,0.7,0.8,0.9])\n",
      "v = np.array([0.137,0.456,0.591,0.713,0.859,0.926,1.139,1.327,1.512,1.875])\n",
      "\n",
      "p = 0.15 + v/10.0\n",
      "\n",
      "np.savetxt('output.dat',(t,p))\n",
      "             "
     ],
     "language": "python",
     "metadata": {},
     "outputs": [],
     "prompt_number": 7
    },
    {
     "cell_type": "code",
     "collapsed": false,
     "input": [
      "DataOut = np.column_stack((t,p))\n",
      "np.savetxt('output.dat',DataOut)"
     ],
     "language": "python",
     "metadata": {},
     "outputs": [],
     "prompt_number": 8
    },
    {
     "cell_type": "code",
     "collapsed": false,
     "input": [
      "fin = open('output.dat','w')\n",
      "fin.write('#Pressure from based on measured voltage verus time\\n\\n#time(s),Pressure(atm)\\n\\n')\n",
      "np.savetxt(fin,DataOut,fmt=('%.1f','%4.3f'))\n",
      "fin.close()"
     ],
     "language": "python",
     "metadata": {},
     "outputs": [],
     "prompt_number": 9
    },
    {
     "cell_type": "markdown",
     "metadata": {},
     "source": [
      "##Exercise 1."
     ]
    },
    {
     "cell_type": "code",
     "collapsed": false,
     "input": [
      "t = np.array([1,2,3,4,5,6,7,8,9,10])\n",
      "pos = np.array([7.75,7.33,6.89,6.45,5.96,5.55,5.10,4.49,3.93,3.58])\n",
      "poserr = np.array([0.02,0.03,0.03,0.04,0.05,0.06,0.08,0.11,0.14,0.17])\n",
      "\n",
      "DataOut = np.column_stack((t,pos,poserr))\n",
      "f = open('linearData.cvs','w')\n",
      "f.write('#Motion of an object\\n\\n#time(s),position(m),uncertainty of position(m)\\n\\n')\n",
      "np.savetxt(f,DataOut,fmt=('%2i','%4.2f','%3.2f'),delimiter=',')\n",
      "f.close()\n",
      "\n",
      "f = open('linearData.cvs','r')\n",
      "DataIn = np.loadtxt(f,delimiter=',')\n",
      "print DataIn"
     ],
     "language": "python",
     "metadata": {},
     "outputs": [
      {
       "output_type": "stream",
       "stream": "stdout",
       "text": [
        "[[  1.     7.75   0.02]\n",
        " [  2.     7.33   0.03]\n",
        " [  3.     6.89   0.03]\n",
        " [  4.     6.45   0.04]\n",
        " [  5.     5.96   0.05]\n",
        " [  6.     5.55   0.06]\n",
        " [  7.     5.1    0.08]\n",
        " [  8.     4.49   0.11]\n",
        " [  9.     3.93   0.14]\n",
        " [ 10.     3.58   0.17]]\n"
       ]
      }
     ],
     "prompt_number": 3
    },
    {
     "cell_type": "markdown",
     "metadata": {},
     "source": [
      "##Exercise 2 : Linear Regression"
     ]
    },
    {
     "cell_type": "markdown",
     "metadata": {},
     "source": [
      "__part a__"
     ]
    },
    {
     "cell_type": "code",
     "collapsed": false,
     "input": [
      "def linear_least_squares(x,y):\n",
      "    \"\"\" Takes two arrays which pair into points (x,y) for linearly varying data.\n",
      "    Uses linear regression to find the slope and y-intercept of the best fit line.\n",
      "    Returns a 4-tuple (slope,intercept,slope uncertainty,intercept uncertainty)\n",
      "    \"\"\"\n",
      "    \n",
      "    import numpy as np\n",
      "    \n",
      "    x_avg = np.sum(x)*1.0/x.shape[0]\n",
      "    x2_avg = np.sum(x**2)*1.0/x.shape[0]\n",
      "    xy_avg = np.sum(x*y)*1.0/x.shape[0]\n",
      "    y_avg = np.sum(y)*1.0/y.shape[0]\n",
      "    \n",
      "    denom = 1.0*(x2_avg - x_avg**2)\n",
      "    \n",
      "    m = (xy_avg - (x_avg*y_avg))/denom\n",
      "    b = (y_avg*x2_avg - x_avg*xy_avg)/denom\n",
      "    \n",
      "    dev = y - (m*x + b)\n",
      "    dev2_avg = np.sum(dev**2)*1.0/dev.shape[0]\n",
      "    \n",
      "    m_unc = np.sqrt(dev2_avg/denom/(x.shape[0] - 2))\n",
      "    b_unc = np.sqrt(dev2_avg*x2_avg/denom/(x.shape[0] - 2))\n",
      "    \n",
      "    return (m,b,m_unc,b_unc)\n",
      "\n"
     ],
     "language": "python",
     "metadata": {},
     "outputs": [],
     "prompt_number": 35
    },
    {
     "cell_type": "markdown",
     "metadata": {},
     "source": [
      "__part b__"
     ]
    },
    {
     "cell_type": "code",
     "collapsed": false,
     "input": [
      "f = open('linearData.cvs','r')\n",
      "x,y = np.loadtxt(f,delimiter=',',usecols=[0,1],unpack=True)\n",
      "\n",
      "m,b,m_unc,b_unc = linear_least_squares(x,y)\n",
      "\n",
      "print 'm=',m\n",
      "print 'slope uncertainty=',m_unc\n",
      "print 'b=',b\n",
      "print 'intercept uncertainty=',b_unc\n"
     ],
     "language": "python",
     "metadata": {},
     "outputs": [
      {
       "output_type": "stream",
       "stream": "stdout",
       "text": [
        "m= -0.471454545455\n",
        "slope uncertainty= 0.00799483304215\n",
        "b= 8.296\n",
        "intercept uncertainty= 0.0496066344537\n"
       ]
      }
     ],
     "prompt_number": 10
    },
    {
     "cell_type": "markdown",
     "metadata": {},
     "source": [
      "__part c__"
     ]
    },
    {
     "cell_type": "code",
     "collapsed": false,
     "input": [
      "x_dom = np.arange(1,10.,0.01)\n",
      "\n",
      "y_bestfit = m*x_dom + b\n",
      "y_uncminus = (m-m_unc)*x_dom + (b-b_unc)\n",
      "y_uncplus = (m+m_unc)*x_dom + (b+b_unc)\n",
      "\n",
      "\n",
      "fig = gcf()\n",
      "fig = figure(figsize=(20.,10.))\n",
      "ax = gca()\n",
      "ax.plot(x_dom,y_bestfit,color='blue',linewidth=1.5,linestyle='-',label='best fit line')\n",
      "#linelabel= 'y = %.4f x + %.4f' % (m,b)\n",
      "ax.plot(x_dom,y_uncminus,color='red',linewidth=2.,linestyle=':',label='lower bound of uncertainty')\n",
      "ax.plot(x_dom,y_uncplus,color='red',linewidth=1.,linestyle='--',label='upper bound of uncertainty')\n",
      "\n",
      "legend(loc=1)\n",
      "xlabel('time [s]',fontsize=20.)\n",
      "ylabel('position [m]',fontsize=20.)\n",
      "\n",
      "xlim(1,10)\n",
      "ylim(3,9)\n",
      "\n",
      "grid()\n",
      "\n",
      "\n",
      "show()"
     ],
     "language": "python",
     "metadata": {},
     "outputs": [
      {
       "output_type": "display_data",
       "png": "[encoded data removed]"
      }
     ],
     "prompt_number": 32
    },
    {
     "cell_type": "markdown",
     "metadata": {},
     "source": [
      "##Exercise 3"
     ]
    },
    {
     "cell_type": "markdown",
     "metadata": {},
     "source": [
      "__part a__"
     ]
    },
    {
     "cell_type": "code",
     "collapsed": false,
     "input": [
      "def weighted_linear_least_squares(x,y,yerr):\n",
      "    \"\"\" Takes two arrays which pair into points (x,y) for linearly varying data.\n",
      "    Also takes an array of the uncertainty in y at each point.\n",
      "    Uses weighted linear regression to find the slope and y-intercept of the best fit line.\n",
      "    Returns a 4-tuple (slope,intercept,slope uncertainty,intercept uncertainty)\n",
      "    \"\"\"\n",
      "    \n",
      "    import numpy as np\n",
      "    \n",
      "    if all(yerr == yerr[0]):\n",
      "        w = np.ones(yerr.shape,dtype=float)\n",
      "    else:\n",
      "        w = np.divide(np.ones(yerr.shape,dtype=float),yerr**2)\n",
      "    \n",
      "    w_sum = np.sum(w) \n",
      "    wx_sum = np.sum(w*x)\n",
      "    wx2_sum = np.sum(w*x**2)\n",
      "    wxy_sum = np.sum(w*x*y)\n",
      "    wy_sum = np.sum(w*y)\n",
      "    \n",
      "    wdenom = 1.0*((w_sum*wx2_sum) - wx_sum**2)\n",
      "    \n",
      "    m = ((w_sum*wxy_sum) - (wx_sum*wy_sum))/wdenom\n",
      "    b = (wy_sum*wx2_sum - wx_sum*wxy_sum)/wdenom\n",
      "    \n",
      "    m_unc = np.sqrt(w_sum/wdenom)\n",
      "    b_unc = np.sqrt(wx2_sum/wdenom)\n",
      "    \n",
      "    return (m,b,m_unc,b_unc)"
     ],
     "language": "python",
     "metadata": {},
     "outputs": [],
     "prompt_number": 46
    },
    {
     "cell_type": "markdown",
     "metadata": {},
     "source": [
      "__part b__"
     ]
    },
    {
     "cell_type": "code",
     "collapsed": false,
     "input": [
      "f = open('linearData.cvs','r')\n",
      "x,y,yerr = np.loadtxt(f,delimiter=',',usecols=[0,1,2],unpack=True)\n",
      "\n",
      "m,b,m_unc,b_unc = weighted_linear_least_squares(x,y,yerr)\n",
      "\n",
      "print 'm=',m\n",
      "print 'slope uncertainty=',m_unc\n",
      "print 'b=',b\n",
      "print 'intercept uncertainty=',b_unc"
     ],
     "language": "python",
     "metadata": {},
     "outputs": [
      {
       "output_type": "stream",
       "stream": "stdout",
       "text": [
        "m= -0.451023983487\n",
        "slope uncertainty= 0.00657587085879\n",
        "b= 8.2200718179\n",
        "intercept uncertainty= 0.0214377652083\n"
       ]
      }
     ],
     "prompt_number": 47
    },
    {
     "cell_type": "code",
     "collapsed": false,
     "input": [],
     "language": "python",
     "metadata": {},
     "outputs": []
    }
   ],
   "metadata": {}
  }
 ]
}