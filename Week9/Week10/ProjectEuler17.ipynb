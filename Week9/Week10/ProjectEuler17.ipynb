{
 "metadata": {
  "name": "ProjectEuler17"
 },
 "nbformat": 3,
 "nbformat_minor": 0,
 "worksheets": [
  {
   "cells": [
    {
     "cell_type": "markdown",
     "metadata": {},
     "source": [
      "#Number letter counts\n",
      "\n",
      "## Project Euler Week 10\n",
      "\n",
      "## Problem 17\n",
      "\n",
      "If the numbers 1 to 5 are written out in words: one, two, three, four, five, then there are 3 + 3 + 5 + 4 + 4 = 19 letters used in total.\n",
      "\n",
      "If all the numbers from 1 to 1000 (one thousand) inclusive were written out in words, how many letters would be used?\n",
      "\n",
      "NOTE: Do not count spaces or hyphens. For example, 342 (three hundred and forty-two) contains 23 letters and 115 (one hundred and fifteen) contains 20 letters. The use of \"and\" when writing out numbers is in compliance with British usage."
     ]
    },
    {
     "cell_type": "markdown",
     "metadata": {},
     "source": [
      "- - -\n",
      "I will first make a function that decides how many leters are in the written word sequence for each number.\n",
      "Then I will put the function in a loop to count the sum of letters.\n",
      "\n",
      "- - -"
     ]
    },
    {
     "cell_type": "code",
     "collapsed": false,
     "input": [
      "def ones_tens_places(N):\n",
      "    \"\"\"For integers in the interval [0,99] inclusive, returns\n",
      "    the count of letters in the spelled-out version of the number.\"\"\"\n",
      "    \n",
      "    if N == 0:\n",
      "        return 0 \n",
      "    # this is only useful if the overall number is zero.\n",
      "    # I will pass this function a remainder that could be zero, but with\n",
      "    # the thousands and hundreds places not zero, so I should not add 4 in general.\n",
      "    \n",
      "    ten_pl = int((N /10.)//1)\n",
      "    one_pl = N - (10*ten_pl)\n",
      "    \n",
      "    teens = [0,len('eleven'),len('twelve'),len('thirteen'),\\\n",
      "             len('fourteen'),len('fifteen'),len('sixteen'),\\\n",
      "             len('seventeen'),len('eighteen'),len('nineteen') ]\n",
      "    \n",
      "    if N > 10 and N < 20:\n",
      "        return teens[one_pl]\n",
      "    \n",
      "    #         one,two,three,four,five,six,seven,eight,nine\n",
      "    ones = [0,3  ,3  ,5    ,4   ,4   ,3  ,5    ,5    ,4   ]\n",
      "    \n",
      "    #             ten,twenty,thirty,forty,fifty,sixty,seventy,eighty,ninety\n",
      "    mult_ten = [0,3  ,6     ,6     ,5    ,5    ,5    ,7      ,6     ,6     ]\n",
      "    \n",
      "    \n",
      "    return mult_ten[ten_pl] + ones[one_pl]"
     ],
     "language": "python",
     "metadata": {},
     "outputs": [],
     "prompt_number": 77
    },
    {
     "cell_type": "markdown",
     "metadata": {},
     "source": [
      "test cases"
     ]
    },
    {
     "cell_type": "code",
     "collapsed": false,
     "input": [
      "for t in range(1,10,3):\n",
      "    for o in range(10):\n",
      "        print 'num',(t*10)+o,',len', ones_tens_places((t*10)+o)\n",
      "    print\n",
      "    \n",
      "print ones_tens_places(91)\n",
      "print ones_tens_places(83)"
     ],
     "language": "python",
     "metadata": {},
     "outputs": [
      {
       "output_type": "stream",
       "stream": "stdout",
       "text": [
        "num 10 ,len 3\n",
        "num 11 ,len 6\n",
        "num 12 ,len 6\n",
        "num 13 ,len 8\n",
        "num 14 ,len 8\n",
        "num 15 ,len 7\n",
        "num 16 ,len 7\n",
        "num 17 ,len 9\n",
        "num 18 ,len 8\n",
        "num 19 ,len 8\n",
        "\n",
        "num 40 ,len 5\n",
        "num 41 ,len 8\n",
        "num 42 ,len 8\n",
        "num 43 ,len 10\n",
        "num 44 ,len 9\n",
        "num 45 ,len 9\n",
        "num 46 ,len 8\n",
        "num 47 ,len 10\n",
        "num 48 ,len 10\n",
        "num 49 ,len 9\n",
        "\n",
        "num 70 ,len 7\n",
        "num 71 ,len 10\n",
        "num 72 ,len 10\n",
        "num 73 ,len 12\n",
        "num 74 ,len 11\n",
        "num 75 ,len 11\n",
        "num 76 ,len 10\n",
        "num 77 ,len 12\n",
        "num 78 ,len 12\n",
        "num 79 ,len 11\n",
        "\n",
        "9\n",
        "11\n"
       ]
      }
     ],
     "prompt_number": 78
    },
    {
     "cell_type": "markdown",
     "metadata": {},
     "source": [
      "For each set of numbers with the same tens place digit, the length should be the length of the\n",
      "word for the multiple of ten plus the length of the ones place word.\n",
      "\n",
      ">40 'forty'     (5 letters)\n",
      "\n",
      ">41 'forty one' (5+3 = 8 letters)\n",
      "\n",
      ">42              (5+3 = 8 letters)\n",
      "\n",
      ">47              (5+5 = 10 letters)\n"
     ]
    },
    {
     "cell_type": "code",
     "collapsed": false,
     "input": [
      "def letters_upto_thousands(N):\n",
      "    \"\"\"Takes an integer in the interval [0,9999] inclusive and returns\n",
      "    the number of letters in needed to spell-out the word.\"\"\"\n",
      "    \n",
      "    ones = [0,3  ,3  ,5    ,4   ,4   ,3  ,5    ,5    ,4   ]\n",
      "    \n",
      "    total_letters = 0\n",
      "    \n",
      "    thousand_pl = int((N/1000.)//1)\n",
      "    remainder = N - (1000*thousand_pl)\n",
      "    hundred_pl = int((remainder/100.)//1)\n",
      "    remainder = remainder - (100*hundred_pl)\n",
      "    \n",
      "    if thousand_pl != 0:\n",
      "        total_letters += ones[thousand_pl] + len('thousand')\n",
      "        \n",
      "    \n",
      "    if hundred_pl != 0:\n",
      "        total_letters += ones[hundred_pl] + len('hundred')\n",
      "    \n",
      "    \n",
      "    if ((hundred_pl != 0) or (thousand_pl != 0)) and remainder != 0:\n",
      "        total_letters += 3 # to include the 'and' between the hundreds and tens\n",
      "    \n",
      "    total_letters += ones_tens_places(remainder)\n",
      "    \n",
      "    return total_letters"
     ],
     "language": "python",
     "metadata": {},
     "outputs": [],
     "prompt_number": 79
    },
    {
     "cell_type": "code",
     "collapsed": false,
     "input": [
      "print letters_upto_thousands(100),'\\n'# one hundred (10 letters)\n",
      "print letters_upto_thousands(124),'\\n' # one hundred and twenty four (23 letters)\n",
      "print '------'\n",
      "print letters_upto_thousands(342),'\\n' # (23 letters, from problem statement)\n",
      "print letters_upto_thousands(115),'\\n' # (20 letters, also from probelem statement)\n",
      "print '------'\n",
      "print letters_upto_thousands(1000),'\\n' # one thousand (11 letters)\n",
      "print letters_upto_thousands(1003),'\\n' # previous letter count + 8 ('and three')\n",
      "print letters_upto_thousands(1043),'\\n' # previous plus 5\n",
      "print letters_upto_thousands(1143),'\\n' # previous plus 10\n",
      "print letters_upto_thousands(3100),'\\n' # 13+10\n",
      "print '------'\n",
      "print letters_upto_thousands(999),'\\n'  # nine hundred and ninety nine (4+7+3+6+4)"
     ],
     "language": "python",
     "metadata": {},
     "outputs": [
      {
       "output_type": "stream",
       "stream": "stdout",
       "text": [
        "10 \n",
        "\n",
        "23 \n",
        "\n",
        "------\n",
        "23 \n",
        "\n",
        "20 \n",
        "\n",
        "------\n",
        "11 \n",
        "\n",
        "19 \n",
        "\n",
        "24 \n",
        "\n",
        "34 \n",
        "\n",
        "23 \n",
        "\n",
        "------\n",
        "24 \n",
        "\n"
       ]
      }
     ],
     "prompt_number": 80
    },
    {
     "cell_type": "markdown",
     "metadata": {},
     "source": [
      "I am thankful that the prompt had a number with forty as a test case, because I entered it as 'fourty' in my code. That could have taken a while to find by myself. The ouput was off by 1 in the test case for 342. It would have been off by about 100 for the final answer, and I would not know what was wrong. I also had to fix my explanation of a previous test case."
     ]
    },
    {
     "cell_type": "markdown",
     "metadata": {},
     "source": [
      "Find the answer:"
     ]
    },
    {
     "cell_type": "code",
     "collapsed": false,
     "input": [
      "letter_sum = 0\n",
      "\n",
      "for n in range(1,1001):\n",
      "    letter_sum += letters_upto_thousands(n)\n",
      "    \n",
      "print letter_sum"
     ],
     "language": "python",
     "metadata": {},
     "outputs": [
      {
       "output_type": "stream",
       "stream": "stdout",
       "text": [
        "21124\n"
       ]
      }
     ],
     "prompt_number": 81
    },
    {
     "cell_type": "markdown",
     "metadata": {},
     "source": [
      "Oddly I counted 'four' as five letters in my list of integers. I submitted a wrong answer to Project Euler to check several times.\n",
      "I am glad that the problem was not the structure of my program."
     ]
    },
    {
     "cell_type": "markdown",
     "metadata": {},
     "source": [
      "The answer is  $21124$ letters needed to spell out all the numbers on the interval $ [ 1,1000 ]$ inclusive."
     ]
    }
   ],
   "metadata": {}
  }
 ]
}