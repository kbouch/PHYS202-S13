{
 "metadata": {
  "name": "ProjectEuler17"
 },
 "nbformat": 3,
 "nbformat_minor": 0,
 "worksheets": [
  {
   "cells": [
    {
     "cell_type": "markdown",
     "metadata": {},
     "source": [
      "#Number letter counts\n",
      "\n",
      "## Project Euler Week 10\n",
      "\n",
      "__Problem 17__\n",
      "\n",
      "If the numbers 1 to 5 are written out in words: one, two, three, four, five, then there are 3 + 3 + 5 + 4 + 4 = 19 letters used in total.\n",
      "\n",
      "If all the numbers from 1 to 1000 (one thousand) inclusive were written out in words, how many letters would be used?\n",
      "\n",
      "NOTE: Do not count spaces or hyphens. For example, 342 (three hundred and forty-two) contains 23 letters and 115 (one hundred and fifteen) contains 20 letters. The use of \"and\" when writing out numbers is in compliance with British usage."
     ]
    },
    {
     "cell_type": "markdown",
     "metadata": {},
     "source": [
      "- - -\n",
      "I will first make a function that decides how many leters are in the written word sequence for each number.\n",
      "Then I will put the function in a loop to count the sum of letters.\n",
      "\n",
      "- - -"
     ]
    },
    {
     "cell_type": "code",
     "collapsed": false,
     "input": [
      "def ones_tens_places(N):\n",
      "    \"\"\"For integers in the interval [0,99] inclusive, returns\n",
      "    the count of letters in the spelled-out version of the number.\"\"\"\n",
      "    \n",
      "    if N == 0:\n",
      "        # zero\n",
      "        return 4\n",
      "    \n",
      "    ten_pl = int((N /10.)//1)\n",
      "    one_pl = N - (10*ten_pl)\n",
      "    \n",
      "    teens = [0,len('eleven'),len('twelve'),len('thirteen'),\\\n",
      "             len('fourteen'),len('fifteen'),len('sixteen'),\\\n",
      "             len('seventeen'),len('eighteen'),len('nineteen') ]\n",
      "    \n",
      "    if N > 10 and N < 20:\n",
      "        return teens[one_pl]\n",
      "    \n",
      "    #         one,two,three,four,five,six,seven,eight,nine\n",
      "    ones = [0,3  ,3  ,5    ,5   ,4   ,3  ,5    ,5    ,4   ]\n",
      "    \n",
      "    #             ten,twenty,thirty,fourty,fifty,sixty,seventy,eighty,ninety\n",
      "    mult_ten = [0,3  ,6     ,6     ,6     ,5    ,5    ,7      ,6     ,6     ]\n",
      "    \n",
      "    \n",
      "    return mult_ten[ten_pl] + ones[one_pl]"
     ],
     "language": "python",
     "metadata": {},
     "outputs": [],
     "prompt_number": 30
    },
    {
     "cell_type": "markdown",
     "metadata": {},
     "source": [
      "test cases"
     ]
    },
    {
     "cell_type": "code",
     "collapsed": false,
     "input": [
      "for t in range(1,10,3):\n",
      "    for o in range(10):\n",
      "        print 'num',(t*10)+o,',len', ones_tens_places((t*10)+o)\n",
      "    print"
     ],
     "language": "python",
     "metadata": {},
     "outputs": [
      {
       "output_type": "stream",
       "stream": "stdout",
       "text": [
        "num 10 ,len 3\n",
        "num 11 ,len 6\n",
        "num 12 ,len 6\n",
        "num 13 ,len 8\n",
        "num 14 ,len 8\n",
        "num 15 ,len 7\n",
        "num 16 ,len 7\n",
        "num 17 ,len 9\n",
        "num 18 ,len 8\n",
        "num 19 ,len 8\n",
        "\n",
        "num 40 ,len 6\n",
        "num 41 ,len 9\n",
        "num 42 ,len 9\n",
        "num 43 ,len 11\n",
        "num 44 ,len 11\n",
        "num 45 ,len 10\n",
        "num 46 ,len 9\n",
        "num 47 ,len 11\n",
        "num 48 ,len 11\n",
        "num 49 ,len 10\n",
        "\n",
        "num 70 ,len 7\n",
        "num 71 ,len 10\n",
        "num 72 ,len 10\n",
        "num 73 ,len 12\n",
        "num 74 ,len 12\n",
        "num 75 ,len 11\n",
        "num 76 ,len 10\n",
        "num 77 ,len 12\n",
        "num 78 ,len 12\n",
        "num 79 ,len 11\n",
        "\n"
       ]
      }
     ],
     "prompt_number": 40
    },
    {
     "cell_type": "markdown",
     "metadata": {},
     "source": [
      "For each set of numbers with the same tens place digit, the length should be the length of the\n",
      "word for the multiple of ten plus the length of the ones place word.\n",
      "\n",
      ">40 'fourty'     (6 letters)\n",
      "\n",
      ">41 'fourty one' (6+3 = 9 letters)\n",
      "\n",
      ">42              (6+3 = 9 letters)\n",
      "\n",
      ">47              (6+5 = 11 letters)\n"
     ]
    },
    {
     "cell_type": "code",
     "collapsed": false,
     "input": [
      "def hundreds_thousands_places(hundred_pl,thousand_pl):\n",
      "    ones = [0,3  ,3  ,5    ,5   ,4   ,3  ,5    ,5    ,4   ]\n",
      "    \n",
      "    \n",
      "    \n",
      "    return ones[thousand_pl] + len('thousand')*"
     ],
     "language": "python",
     "metadata": {},
     "outputs": []
    },
    {
     "cell_type": "code",
     "collapsed": false,
     "input": [
      "def letters_upto_thousands(N):\n",
      "    \"\"\"Takes an integer in the interval [0,9999] inclusive and returns\n",
      "    the number of letters in needed to spell-out the word.\"\"\"\n",
      "    \n",
      "    thousand_pl = int((N/1000.)//1)\n",
      "    remainder = N - (1000*thousand_pl)\n",
      "    hundred_pl = int((remainder/100.)//1)\n",
      "    remainder = remainder - (100*hundred_pl)\n",
      "    \n",
      "    \n",
      "    ones = [0,3  ,3  ,5    ,5   ,4   ,3  ,5    ,5    ,4   ]\n",
      "    \n",
      "    \n",
      "\n",
      "    \n",
      "    \n",
      "    \n",
      "    "
     ],
     "language": "python",
     "metadata": {},
     "outputs": []
    }
   ],
   "metadata": {}
  }
 ]
}