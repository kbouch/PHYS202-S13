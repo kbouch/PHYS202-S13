{
 "metadata": {
  "name": "ConstructionZone"
 },
 "nbformat": 3,
 "nbformat_minor": 0,
 "worksheets": [
  {
   "cells": [
    {
     "cell_type": "markdown",
     "metadata": {},
     "source": [
      "##This file is where I wrote some functions and and tested code before copying them to a python script file."
     ]
    },
    {
     "cell_type": "code",
     "collapsed": false,
     "input": [
      "# Both of these built-in functions return file objects\n",
      "#open?\n",
      "#file?\n",
      "\n",
      "# File objects have useful methods\n",
      "f = open('test.txt','w')\n",
      "#f.write?\n",
      "#f.close?\n",
      "#f.readline?\n",
      "#f.next?\n",
      "\n",
      "\n",
      "\n",
      "f.write('#Description\\n\\n#point_num x y\\n\\n')\n",
      "yo = [5.123321123321123321,4.,2.5,1.5,1.]\n",
      "xo = [0.,1.,2.,3.,4.]\n",
      "for i in range(len(xo)):\n",
      "    f.write(str(i)+' '+str(xo[i])+' '+str(yo[i])+'\\n')\n",
      "f.close()\n",
      "\n",
      "\n",
      "f = open('test.txt','r')\n",
      "for line in f:\n",
      "    if line[0] == '#':\n",
      "        pass\n",
      "    else:\n",
      "        print line\n",
      "\n",
      "f.close()"
     ],
     "language": "python",
     "metadata": {},
     "outputs": [
      {
       "output_type": "stream",
       "stream": "stdout",
       "text": [
        "\n",
        "\n",
        "\n",
        "\n",
        "0 0.0 5.12332112332\n",
        "\n",
        "1 1.0 4.0\n",
        "\n",
        "2 2.0 2.5\n",
        "\n",
        "3 3.0 1.5\n",
        "\n",
        "4 4.0 1.0\n",
        "\n"
       ]
      }
     ],
     "prompt_number": 1
    },
    {
     "cell_type": "code",
     "collapsed": false,
     "input": [
      "import numpy as np"
     ],
     "language": "python",
     "metadata": {},
     "outputs": [],
     "prompt_number": 2
    },
    {
     "cell_type": "code",
     "collapsed": false,
     "input": [
      "f = open('test.txt','r')\n",
      "\n",
      "DataIn = np.loadtxt(f,usecols=[1,2])\n",
      "\n",
      "print DataIn\n",
      "f.close()"
     ],
     "language": "python",
     "metadata": {},
     "outputs": [
      {
       "output_type": "stream",
       "stream": "stdout",
       "text": [
        "[[ 0.          5.12332112]\n",
        " [ 1.          4.        ]\n",
        " [ 2.          2.5       ]\n",
        " [ 3.          1.5       ]\n",
        " [ 4.          1.        ]]\n"
       ]
      }
     ],
     "prompt_number": 3
    },
    {
     "cell_type": "code",
     "collapsed": false,
     "input": [
      "f = open('test.txt','r')\n",
      "\n",
      "for i in range(5):\n",
      "    print f.readline()\n",
      "pos = f.tell()\n",
      "#f_new = f.seek(pos)\n",
      "#DataIn = np.loadtxt(f_new,usecols=[1,2])\n",
      "\n",
      "DataIn = np.loadtxt(f,usecols=[1,2])\n",
      "print DataIn\n",
      "\n",
      "f.close()"
     ],
     "language": "python",
     "metadata": {},
     "outputs": [
      {
       "output_type": "stream",
       "stream": "stdout",
       "text": [
        "#Description\n",
        "\n",
        "\n",
        "\n",
        "#point_num x y\n",
        "\n",
        "\n",
        "\n",
        "0 0.0 5.12332112332\n",
        "\n",
        "[[ 1.   4. ]\n",
        " [ 2.   2.5]\n",
        " [ 3.   1.5]\n",
        " [ 4.   1. ]]\n"
       ]
      }
     ],
     "prompt_number": 4
    },
    {
     "cell_type": "code",
     "collapsed": false,
     "input": [
      "f = open('test.txt','r')\n",
      "f.seek(50)\n",
      "print f.readlines()\n",
      "f.seek(0)\n",
      "print f.readlines()\n"
     ],
     "language": "python",
     "metadata": {},
     "outputs": [
      {
       "output_type": "stream",
       "stream": "stdout",
       "text": [
        "['1 1.0 4.0\\n', '2 2.0 2.5\\n', '3 3.0 1.5\\n', '4 4.0 1.0\\n']\n",
        "['#Description\\n', '\\n', '#point_num x y\\n', '\\n', '0 0.0 5.12332112332\\n', '1 1.0 4.0\\n', '2 2.0 2.5\\n', '3 3.0 1.5\\n', '4 4.0 1.0\\n']\n"
       ]
      }
     ],
     "prompt_number": 5
    },
    {
     "cell_type": "markdown",
     "metadata": {},
     "source": [
      "##Woods-Saxon nucleon distribution"
     ]
    },
    {
     "cell_type": "code",
     "collapsed": false,
     "input": [
      "def woods_saxon(r,rho0=1.0,R0=3.,a=0.5,w=0.0):\n",
      "    \"\"\" Radial density of nucleon matter in a nucleus.\n",
      "    rho0 is the density at the center (r=0). R0 is the average\n",
      "    radius. If w=0, R0 is the radius at which the density reaches\n",
      "    half rho0. w and a are other parameters\n",
      "    \"\"\"\n",
      "    import numpy as np\n",
      "    return rho0*(1 + w*(r*1.0/R0)**2)/(1.0 + np.exp(r-R0*1.0/a))"
     ],
     "language": "python",
     "metadata": {},
     "outputs": [],
     "prompt_number": 2
    },
    {
     "cell_type": "code",
     "collapsed": false,
     "input": [
      "def nuclei_log(symb):\n",
      "    \"\"\"Takes the symbol (string) for one of the nuclei of atoms that are in nuclei_dic.\n",
      "    returns a tuple with (A,Z,N,mass [MeV/c**2],rho0 ,R0 [fm],a [fm**(-1)],w).\n",
      "    A is atomic mass number, Z is number of protons, N is number of neutrons.\n",
      "    denisty of nuclear matter rho0 = 0.169 [u/fm**3] \n",
      "    u is atomic mass units, fm = femptometers.\n",
      "    Masses are 0.9315 GeV/(u*c**2) * (atomic mass [u]), The atomic masses for specific\n",
      "    isotopes are from my physics textbook.\n",
      "    \"\"\"\n",
      "    nuclei_dict = {'C' : ( 12,  6,   6, .9315*12        , 0.169, 2.47 , 0.   , 0.    ),# a should not be zero for Carbon?\n",
      "                   'O' : ( 16,  8,   8, .9315*15.994915 , 0.169, 2.608, 0.513,-0.051 ),\n",
      "                   'Al': ( 27, 13,  14, .9315*26.981539 , 0.169, 3.07 , 0.519, 0.    ),\n",
      "                   'S' : ( 32, 16,  16, .9315*31.97207  , 0.169, 3.458, 0.61 , 0.    ),\n",
      "                   'Ca': ( 40, 20,  20, .9315*39.962591 , 0.169, 3.76 , 0.586,-0.161 ),\n",
      "                   'Ni': ( 58, 28,  30, .9315*57.935346 , 0.169, 4.309, 5.16 ,-0.1308),\n",
      "                   'Cu': ( 63, 29,  34, .9315*62.939598 , 0.169, 4.2  , 0.869, 0.    ),\n",
      "                   'W' : (186, 74, 112, .9315*185.954357, 0.169, 6.51 , 0.535, 0.    ),\n",
      "                   'Au': (197, 79, 118, .9315*196.966543, 0.169, 6.38 , 0.535, 0.    ),\n",
      "                   'Pb': (208, 82, 126, .9315*207.976627, 0.169, 6.68 , 0.546, 0.    ),\n",
      "                   'U' : (238, 92, 146, .9315*238.050941, 0.169, 6.68 , 0.6  , 0.    )\n",
      "                   }\n",
      "    return nuclei_dict(symb)"
     ],
     "language": "python",
     "metadata": {},
     "outputs": [],
     "prompt_number": 4
    },
    {
     "cell_type": "code",
     "collapsed": false,
     "input": [
      "def gen_polar_direc(N=1):\n",
      "    \"\"\" generates N random polar coordinate direction\n",
      "    (azimuthal,polar) angles. 0<=azimuth<=2*pi, 0<=polar<=pi.\n",
      "    \"\"\"\n",
      "    import numpy.random.random_sample\n",
      "    import numpy.pi\n",
      "    out = np.zeros((N,2),dtype=float)\n",
      "    for i in range(N):\n",
      "        out[i,0] = (2*pi)*random_sample()\n",
      "        out[i,1] = (pi)*random_sample()\n",
      "    return out\n",
      "\n",
      "def gen_nucleus2D(symb,rpob='CDF'):\n",
      "    \"\"\" Generates random (x,y) coordinates for nucleons, up to the number\n",
      "    of nucleons in the nucleus of the atom given by its chemical symbol.\n",
      "    The origin is at the center of the nucleus. Allows nucleons to fall\n",
      "    within 1.1*R0 femptometers of the center. Indicate CDF of MC to choose\n",
      "    cumulative distribution function transformation (numerical integration)\n",
      "    for randomly choosing radial position of nucleons. MC uses monte carlo\n",
      "    hit-or-miss method instead.\n",
      "    \"\"\"\n",
      "    import probDistributions\n",
      "    import numpy as np\n",
      "    \n",
      "    elem_nucl = nuclei_log(symb)\n",
      "    A = elem_nucl[0]\n",
      "    R0 = elem_nucl[4]\n",
      "    \n",
      "    xypos = np.zeros((A,2),dtype=float)\n",
      "    \n",
      "    azimupos = gen_polar_direc(A)[:,0]\n",
      "    if rprob == 'CDF':\n",
      "        rpos = ditsribute1D(np.arange(0,1.101*R0,R0/1000)\\\n",
      "                            ,lambda r: woods_saxon(r,*elem_nucl[3:])\\\n",
      "                            ,A)\n",
      "    elif rprob == 'MC':\n",
      "        probx = lambda r: woods_saxon(r,*elem_nucl[3:])\n",
      "        probxmax = rough_find_max(0,1.1*R0,probx,R0/1000)\n",
      "        rpos = MCdistribute1D(probx,probxmax,0.,1.1*R0,A)\n",
      "    \n",
      "    xypos[:0] = rpos*np.cos(azimupos)\n",
      "    xypos[:1] = rpos*np.sin(azimupos)\n",
      "    \n",
      "    return xypos"
     ],
     "language": "python",
     "metadata": {},
     "outputs": [],
     "prompt_number": 12
    },
    {
     "cell_type": "code",
     "collapsed": false,
     "input": [
      "def MCdistribute1D(probx,probxmax,xmin,xmax,N=1,seed=None):\n",
      "    \"\"\"Returns an array with N random values following\n",
      "    the probability distribution function pro. Uses Monte\n",
      "    Carlo hit-or-miss method. probx function should be callable\n",
      "    requiring one argument.\n",
      "    \"\"\"\n",
      "    import numpy as np\n",
      "    x_samples_L = []\n",
      "    while len(x_samples_L) < N:\n",
      "        shotx = (xmax - xmin)*np.random.random_sample() + xmin\n",
      "        height = 1.1*probxmax*np.random.random_sample()\n",
      "        if heigth <= probx(shotx):\n",
      "            x_samples_L.append(shotx)\n",
      "    return np.array(x_samples_L,dtype=float)"
     ],
     "language": "python",
     "metadata": {},
     "outputs": [],
     "prompt_number": 18
    },
    {
     "cell_type": "code",
     "collapsed": false,
     "input": [
      "def rough_find_max(xmin,xmax,f,step):\n",
      "    \"\"\" Returns the maximum value of f evaluted\n",
      "    at x values in np.arange(xmin,xmax+step,step).\n",
      "    Only returns the value of f, not the x location.\n",
      "    \"\"\"\n",
      "    import numpy as np\n",
      "    xtest = np.arange(xmin,xmax+step,step)\n",
      "    return np.max(f(xtest))"
     ],
     "language": "python",
     "metadata": {},
     "outputs": [],
     "prompt_number": 15
    },
    {
     "cell_type": "code",
     "collapsed": false,
     "input": [
      "def interaction_detect(xypos_n1,xypos_n2,crosssec):\n",
      "    \"\"\"Finds all inelastic collisions between nucleons in nucleus 1\n",
      "    with position xypos_n1 and nuceons in nucleus 2 with position \n",
      "    xypos_n2. Returns two arrays with the integer number of collisions\n",
      "    each nucleon experienced. The total number of collisions is the \n",
      "    sum of elements in one of these arrays (both have same total).\n",
      "    The number of participants in a given nucleus is the number of \n",
      "    nonzero elements in one coll_count array. Total number of participants\n",
      "    is the number on nonzero elements in both output arrays.\n",
      "    \"\"\"\n",
      "    import numpy as np\n",
      "    d = np.sqrt(crosssec/np.pi)\n",
      "    coll_count1 = np.zeros(xypos_1.shape[0],dtype=int)\n",
      "    coll_count2 = np.zeros(xypos_2.shape[0],dtype=int)\n",
      "    for j in range(xypos_n1.size):\n",
      "        for k in range(xypos_n2.size):\n",
      "            if np.sqrt((xypos_n1[j,0]-xypos_n2[k,0])**2\\\n",
      "                      +(xypos_n1[j,1]-xypos_n2[k,1])**2) < d:\n",
      "                coll_count1[j] += 1\n",
      "                coll_count2[k] += 1\n",
      "    return coll_count1, coll_count2"
     ],
     "language": "python",
     "metadata": {},
     "outputs": [],
     "prompt_number": 17
    },
    {
     "cell_type": "code",
     "collapsed": false,
     "input": [
      "def collision_events_sim(nucl_1,beamEcm,N,nucl_2=None):\n",
      "    pass"
     ],
     "language": "python",
     "metadata": {},
     "outputs": [],
     "prompt_number": 19
    },
    {
     "cell_type": "markdown",
     "metadata": {},
     "source": [
      "##Read in the data"
     ]
    },
    {
     "cell_type": "code",
     "collapsed": false,
     "input": [
      "# pp total cross section data\n",
      "f_tcs = open('rpp2012-pp_total.dat','r')\n",
      "# skip 11 lines before actual data\n",
      "for i in range(11):\n",
      "    f_tcs.readline()\n",
      "\n",
      "#PONT_NUMBER PLAB PLAB_MIN PLAB_MAX SIG_mb STA_ERRpl STA_ERRm SY_ERpl SY_ERm\n",
      "tcs_points = np.loadtxt(f_tcs,usecols=[0,1,2,3,4,5,6,7,8])\n",
      "\n",
      "\n",
      "# pp elastic cross section data\n",
      "f_ecs = open('rpp2012-pp_elastic.dat','r')\n",
      "for i in range(11):\n",
      "    f_ecs.readline()\n",
      "\n",
      "#PONT_NUMBER PLAB PLAB_MIN PLAB_MAX SIG_mb STA_ERRpl STA_ERRm SY_ERpl SY_ERm\n",
      "ecs_points = np.loadtxt(f_tcs,usecols=[0,1,2,3,4,5,6,7,8])"
     ],
     "language": "python",
     "metadata": {},
     "outputs": [],
     "prompt_number": 36
    },
    {
     "cell_type": "markdown",
     "metadata": {},
     "source": [
      "##Interpolating the cross section data\n",
      "\n",
      "To interpolate the cross section data to high energies, I used the fuction found in the _Review of Particle Physics_ [[1]] at [http://pdg.lbl.gov/][1] on page 447.\n",
      "\n",
      "[1]:http://pdg.lbl.gov/\n",
      "\n",
      "\\[1\\] J. Beringer et al. (Particle Data Group), Phys. Rev. D 86, 010001 (2012). Web. 13 June 2013.\n",
      "\n",
      "\n",
      "\\begin{equation}\n",
      "\\sigma ^{ab} = Z^{ab} + B^{ab} \\ln (s/s_{M}) + Y_{1} ^{ab}  (s_{M}/s)^{\\eta_1} - Y_{2}^{ab} (s_{M}/s)^{\\eta_2}\n",
      "\\end{equation}\n",
      "\n",
      "$\\sigma$ is the cross section. $a$,$b$ are just dummy symbols for the two particles involved. $Z$ , $B=\\pi \\frac{(\\hbar c)^2}{M^2}$ , $Y_1$ , and $Y_2$ are in units of cross section (milli-barns or mb. 1mb = $10^{-31}$ m$^{2}$). $Z$ , $Y_1$ , and $Y_2$ are best fit parameters and are different and are different for each combination of beam/target particles. $M$ , $\\eta_1$ and $\\eta_2$ are the same for any collision. $s$ , $s_M = ((m_a + m_b + M)c^2)^2$ are in (GeV)^2, since the data uses units of $c$ = speed of light = 1. $\\sqrt{s}$ is the center of mass total energy of the system. $m_a$ , $m_b$ are masses of particles, units  $M$ is the mass parameter.\n",
      "\n",
      "The article gives the universal best fit parameters:\n",
      "\n",
      "> $M=$ 2.15 [GeV] , $\\eta_1=$ 0.462 , $\\eta_2=$ 0.550\n",
      "\n",
      "The article gives the best fit parameters for total elastic cross section versus $\\sqrt{s}$ for proton/proton beam/target:\n",
      "\n",
      ">$Z=$ 34.71 [mb] , $Y_1=$ 12.72 [mb] , $Y_2=$ 7.35 [mb]\n",
      "\n",
      "I need to also interpolate the elastic cross section data so that I can calculate the inelastic cross section at high energies.\n",
      "I will use curve_fit in SciPy to find the particle-type-dependent best fit parameters for the inelastic data, using the same function form as for the total cross section."
     ]
    },
    {
     "cell_type": "code",
     "collapsed": false,
     "input": [
      "def hadron_cs_model(sqrt_s,Z,Y1,Y2,m1,m2):\n",
      "    \"\"\" Hadron scattering cross section versus system center of mass\n",
      "    total energy (system is two particles with mass m1 and m2 colliding).\n",
      "    Z,Y1,Y2 are parameter to be fit to data.\n",
      "    m1, m2 should be in GeV\n",
      "    \"\"\"\n",
      "    import numpy.pi\n",
      "    import numpy.log\n",
      "    eta1 = 0.462 #unitless\n",
      "    eta2 = 0.550 # unitless\n",
      "    M = 2.15 # GeV/c**2 (but let c = speed of light = 1)\n",
      "    sM = (m1 + m2 + M)**2 \n",
      "    B = pi*(9.390800635203e-22/M)**2  # hbar = 9.3908e-16 eV = 9.3908e-22 MeV\n",
      "    \n",
      "    return Z + B*(log(sqrt_s**2*1.0/sM))**2 + Y1*(sM*1.0/sqrt_s**2)**eta1 - Y2*(sM*1.0/sqrt_s**2)**eta2\n",
      "\n",
      "p_mass = 1.007276*0.9315 #proton mass u * (0.9315 GeV/(u*c**2))\n",
      "\n",
      "def pp_cs_model(sqrt_s,Z,Y1,Y2):\n",
      "    m1 = 1.007276*0.9315 #proton mass u * (0.9315 GeV/(u*c**2))\n",
      "    m2 = m1\n",
      "    return hadron_cs_model(sqrt_s,Z,Y1,Y2,m1,m2)\n",
      "\n"
     ],
     "language": "python",
     "metadata": {},
     "outputs": [],
     "prompt_number": 37
    },
    {
     "cell_type": "markdown",
     "metadata": {},
     "source": [
      "## Converting Beam momentum in the laboratory frame $P_{(1\\;lab)}$ into center of mass total energy $E_{cm}$\n",
      "\n",
      "In the collision, one hadron with mass $m_2$ is at rest in the lab frame, and hadrons with mass $m1$ speed toward the first particle with momentum $p_{(1\\;lab)}$.\n",
      "\n",
      "On page 422 of _Review of Particle Physics_, equation $43.3$ give $E_{cm} = ((m_{1} c^2)^{2} + (m_{2} c^2)^{2} + 2E_{(1\\;lab)} m_2 c^2 )^{1/2} =\\sqrt{s}$ . \n",
      "\n",
      "Also, $ (E_{1})^2 = (p_{(1\\;lab)} c)^2 + (m_1 c^2)^2$"
     ]
    },
    {
     "cell_type": "code",
     "collapsed": false,
     "input": [
      "import numpy as np\n",
      "tcs_Ecm = np.sqrt(2*(p_mass)**2 + 2*p_mass*np.sqrt(tcs_points[:1]**2 + (p_mass)**2))\n",
      "ecs_Ecm = np.sqrt(2*(p_mass)**2 + 2*p_mass*np.sqrt(ecs_points[:1]**2 + (p_mass)**2))\n",
      "\n",
      "from scipy.optimize import curve_fit\n",
      "\n",
      "#         Z   Y1  Y2\n",
      "ecs_p0 = [\n",
      "popt,pcov = curve_fit(pp_cs_model,ecs_Ecm,tcs_points[:,4],ecs_p0,ecs_points[:5]-tcs_points[:5])"
     ],
     "language": "python",
     "metadata": {},
     "outputs": [
      {
       "ename": "SyntaxError",
       "evalue": "invalid syntax (<ipython-input-38-6b574aedb352>, line 9)",
       "output_type": "pyerr",
       "traceback": [
        "\u001b[1;36m  File \u001b[1;32m\"<ipython-input-38-6b574aedb352>\"\u001b[1;36m, line \u001b[1;32m9\u001b[0m\n\u001b[1;33m    popt,pcov = curve_fit(pp_cs_model,ecs_Ecm,tcs_points[:,4],ecs_p0,ecs_points[:5]-tcs_points[:5])\u001b[0m\n\u001b[1;37m              ^\u001b[0m\n\u001b[1;31mSyntaxError\u001b[0m\u001b[1;31m:\u001b[0m invalid syntax\n"
       ]
      }
     ],
     "prompt_number": 38
    },
    {
     "cell_type": "markdown",
     "metadata": {},
     "source": [
      "##Plotting the data and fit-curves"
     ]
    },
    {
     "cell_type": "code",
     "collapsed": false,
     "input": [
      "import matplotlib.pyplot as plt\n",
      "#matplotlib.pyplot.axes(\n",
      "#matplotlib.axes.Axes.errorbar(\n",
      "#matplotlib.axes.Axes.set_xscale(\n",
      "                           \n",
      "    \n",
      "fig1 = plt.gcf()\n",
      "fig1 = plt.figure(figsize=(8.0,8.0))\n",
      "ax1 = plt.axes()\n",
      "plt.sca(ax1)\n",
      "ax1.set_xscale('log',basex=10,subsx=[2,3,4,5,6,7,8,9])\n",
      "ax1.set_yscale('log',basey=10,subsy=[2,3,4,5,6,7,8,9])\n",
      "\n",
      "ax1.plot(tcs_Points[:1],tcs_points[:,4],color='k',marker='.',markersize=1.5,label='total cs')\n",
      "ax1.errorbar(tcs_Points[:1],tcs_points[:,4]\\\n",
      "            ,[tcs_points[:6],tcs_points[:5]]\\\n",
      "            ,[tcs_points[:2],tcs_points[:3]]\\\n",
      "            ,elinewidth=1.0,capsize=0.,color='k'\n",
      "            )\n",
      "\n",
      "ax1.plot(\n",
      "\n",
      "ax1.plot(ecs_Points[:1],ecs_points[:,4],color='b',marker='.',markersize=1.5,label='elastic cs')\n",
      "ax1.errorbar(ecs_Points[:1],ecs_points[:,4]\\\n",
      "            ,[ecs_points[:6],ecs_points[:5]]\\\n",
      "            ,[ecs_points[:2],ecs_points[:3]]\\\n",
      "            ,elinewidth=1.0,capsize=0.,color='b'\n",
      "            )\n"
     ],
     "language": "python",
     "metadata": {},
     "outputs": []
    }
   ],
   "metadata": {}
  }
 ]
}