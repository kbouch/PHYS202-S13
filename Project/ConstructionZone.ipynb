{
 "metadata": {
  "name": "ConstructionZone"
 },
 "nbformat": 3,
 "nbformat_minor": 0,
 "worksheets": [
  {
   "cells": [
    {
     "cell_type": "code",
     "collapsed": false,
     "input": [
      "# Both of these built-in functions return file objects\n",
      "#open?\n",
      "#file?\n",
      "\n",
      "# File objects have useful methods\n",
      "f = open('test.txt','w')\n",
      "#f.write?\n",
      "#f.close?\n",
      "#f.readline?\n",
      "#f.next?\n",
      "\n",
      "\n",
      "\n",
      "f.write('#Description\\n\\n#point_num x y\\n\\n')\n",
      "yo = [5.,4.,2.5,1.5,1.]\n",
      "xo = [0.,1.,2.,3.,4.]\n",
      "for i in range(len(xo)):\n",
      "    f.write(str(i)+' '+str(xo[i])+' '+str(yo[i])+'\\n')\n",
      "f.close()\n",
      "\n",
      "\n",
      "f = open('test.txt','r')\n",
      "for line in f:\n",
      "    if line[0] == '#':\n",
      "        pass\n",
      "    else:\n",
      "        print line\n",
      "\n",
      "f.close()"
     ],
     "language": "python",
     "metadata": {},
     "outputs": [
      {
       "output_type": "stream",
       "stream": "stdout",
       "text": [
        "\n",
        "\n",
        "\n",
        "\n",
        "0 0.0 5.0\n",
        "\n",
        "1 1.0 4.0\n",
        "\n",
        "2 2.0 2.5\n",
        "\n",
        "3 3.0 1.5\n",
        "\n",
        "4 4.0 1.0\n",
        "\n"
       ]
      }
     ],
     "prompt_number": 3
    },
    {
     "cell_type": "code",
     "collapsed": false,
     "input": [
      "import numpy as np"
     ],
     "language": "python",
     "metadata": {},
     "outputs": [],
     "prompt_number": 2
    },
    {
     "cell_type": "code",
     "collapsed": false,
     "input": [
      "f = open('test.txt','r')\n",
      "\n",
      "DataIn = np.loadtxt(f,usecols=[1,2])\n",
      "\n",
      "print DataIn\n",
      "f.close()"
     ],
     "language": "python",
     "metadata": {},
     "outputs": [
      {
       "output_type": "stream",
       "stream": "stdout",
       "text": [
        "[[ 0.   5. ]\n",
        " [ 1.   4. ]\n",
        " [ 2.   2.5]\n",
        " [ 3.   1.5]\n",
        " [ 4.   1. ]]\n"
       ]
      }
     ],
     "prompt_number": 6
    },
    {
     "cell_type": "code",
     "collapsed": false,
     "input": [],
     "language": "python",
     "metadata": {},
     "outputs": []
    }
   ],
   "metadata": {}
  }
 ]
}