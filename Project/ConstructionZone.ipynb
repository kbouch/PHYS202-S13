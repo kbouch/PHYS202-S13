{
 "metadata": {
  "name": "ConstructionZone"
 },
 "nbformat": 3,
 "nbformat_minor": 0,
 "worksheets": [
  {
   "cells": [
    {
     "cell_type": "markdown",
     "metadata": {},
     "source": [
      "##This file is where I wrote some functions and and tested code before copying them to a python script file."
     ]
    },
    {
     "cell_type": "code",
     "collapsed": false,
     "input": [
      "# Both of these built-in functions return file objects\n",
      "#open?\n",
      "#file?\n",
      "\n",
      "# File objects have useful methods\n",
      "f = open('test.txt','w')\n",
      "#f.write?\n",
      "#f.close?\n",
      "#f.readline?\n",
      "#f.next?\n",
      "\n",
      "\n",
      "\n",
      "f.write('#Description\\n\\n#point_num x y\\n\\n')\n",
      "yo = [5.123321123321123321,4.,2.5,1.5,1.]\n",
      "xo = [0.,1.,2.,3.,4.]\n",
      "for i in range(len(xo)):\n",
      "    f.write(str(i)+' '+str(xo[i])+' '+str(yo[i])+'\\n')\n",
      "f.close()\n",
      "\n",
      "\n",
      "f = open('test.txt','r')\n",
      "for line in f:\n",
      "    if line[0] == '#':\n",
      "        pass\n",
      "    else:\n",
      "        print line\n",
      "\n",
      "f.close()"
     ],
     "language": "python",
     "metadata": {},
     "outputs": [
      {
       "output_type": "stream",
       "stream": "stdout",
       "text": [
        "\n",
        "\n",
        "\n",
        "\n",
        "0 0.0 5.12332112332\n",
        "\n",
        "1 1.0 4.0\n",
        "\n",
        "2 2.0 2.5\n",
        "\n",
        "3 3.0 1.5\n",
        "\n",
        "4 4.0 1.0\n",
        "\n"
       ]
      }
     ],
     "prompt_number": 1
    },
    {
     "cell_type": "code",
     "collapsed": false,
     "input": [
      "import numpy as np"
     ],
     "language": "python",
     "metadata": {},
     "outputs": [],
     "prompt_number": 2
    },
    {
     "cell_type": "code",
     "collapsed": false,
     "input": [
      "f = open('test.txt','r')\n",
      "\n",
      "DataIn = np.loadtxt(f,usecols=[1,2])\n",
      "\n",
      "print DataIn\n",
      "f.close()"
     ],
     "language": "python",
     "metadata": {},
     "outputs": [
      {
       "output_type": "stream",
       "stream": "stdout",
       "text": [
        "[[ 0.          5.12332112]\n",
        " [ 1.          4.        ]\n",
        " [ 2.          2.5       ]\n",
        " [ 3.          1.5       ]\n",
        " [ 4.          1.        ]]\n"
       ]
      }
     ],
     "prompt_number": 3
    },
    {
     "cell_type": "code",
     "collapsed": false,
     "input": [
      "f = open('test.txt','r')\n",
      "\n",
      "for i in range(5):\n",
      "    print f.readline()\n",
      "pos = f.tell()\n",
      "#f_new = f.seek(pos)\n",
      "#DataIn = np.loadtxt(f_new,usecols=[1,2])\n",
      "\n",
      "DataIn = np.loadtxt(f,usecols=[1,2])\n",
      "print DataIn\n",
      "\n",
      "f.close()"
     ],
     "language": "python",
     "metadata": {},
     "outputs": [
      {
       "output_type": "stream",
       "stream": "stdout",
       "text": [
        "#Description\n",
        "\n",
        "\n",
        "\n",
        "#point_num x y\n",
        "\n",
        "\n",
        "\n",
        "0 0.0 5.12332112332\n",
        "\n",
        "[[ 1.   4. ]\n",
        " [ 2.   2.5]\n",
        " [ 3.   1.5]\n",
        " [ 4.   1. ]]\n"
       ]
      }
     ],
     "prompt_number": 4
    },
    {
     "cell_type": "code",
     "collapsed": false,
     "input": [
      "f = open('test.txt','r')\n",
      "f.seek(50)\n",
      "print f.readlines()\n",
      "f.seek(0)\n",
      "print f.readlines()\n"
     ],
     "language": "python",
     "metadata": {},
     "outputs": [
      {
       "output_type": "stream",
       "stream": "stdout",
       "text": [
        "['1 1.0 4.0\\n', '2 2.0 2.5\\n', '3 3.0 1.5\\n', '4 4.0 1.0\\n']\n",
        "['#Description\\n', '\\n', '#point_num x y\\n', '\\n', '0 0.0 5.12332112332\\n', '1 1.0 4.0\\n', '2 2.0 2.5\\n', '3 3.0 1.5\\n', '4 4.0 1.0\\n']\n"
       ]
      }
     ],
     "prompt_number": 5
    },
    {
     "cell_type": "code",
     "collapsed": false,
     "input": [
      "# pp total cross section data\n",
      "f_tcs = open('rpp2012-pp_total.dat','r')\n",
      "# I found that there is a space at the beginning of each line\n",
      "# skip 11 lines before actual data\n",
      "for i in range(11):\n",
      "    f_tcs.readline()\n",
      "\n",
      "#PONT_NUMBER PLAB PLAB_MIN PLAB_MAX SIG_mb STA_ERRpl STA_ERRm SY_ERpl SY_ERm\n",
      "tcs_points = np.loadtxt(f_tcs,usecols=[0,1,2,3,4,5,6,7,8],unpack=True)\n",
      "\n",
      "print tcs_points[2,:20]\n",
      "\n",
      "\n",
      "# pp elastic cross section data\n",
      "f_ecs = open('rpp2012-pp_elastic.dat','r')\n",
      "for i in range(11):\n",
      "    f_ecs.readline()\n",
      "\n",
      "#PONT_NUMBER PLAB PLAB_MIN PLAB_MAX SIG_mb STA_ERRpl STA_ERRm SY_ERpl SY_ERm\n",
      "ecs_points = np.loadtxt(f_tcs,usecols=[0,1,2,3,4,5,6,7,8],unpack=True)\n",
      "\n",
      "\n",
      "\n",
      "\n",
      "import matplotlib.pyplot\n",
      "\n",
      "fig = figure(figsize=(16.,16.))\n",
      "ax_tcs = fig.add_subplot(2,1,1)\n",
      "p_tcs = ax_tcs.plot(tcs_points[1,:],tcs_points[4,:],color='b',linestyle='-',\\\n",
      "marker='.',markersize=3.,label='cross section versus lab beam momentum')\n",
      "gca()\n",
      "#xlim(0,500)\n",
      "#ax_tcs.ylim()\n",
      "#ax_tcs.xlabel()\n",
      "#ax_tcs.ylabel()\n",
      "\n",
      "\n",
      "\n"
     ],
     "language": "python",
     "metadata": {},
     "outputs": [
      {
       "ename": "AttributeError",
       "evalue": "'AxesSubplot' object has no attribute 'ylim'",
       "output_type": "pyerr",
       "traceback": [
        "\u001b[1;31m---------------------------------------------------------------------------\u001b[0m\n\u001b[1;31mAttributeError\u001b[0m                            Traceback (most recent call last)",
        "\u001b[1;32m<ipython-input-41-8776c491d2f6>\u001b[0m in \u001b[0;36m<module>\u001b[1;34m()\u001b[0m\n\u001b[0;32m     31\u001b[0m \u001b[0mgca\u001b[0m\u001b[1;33m(\u001b[0m\u001b[1;33m)\u001b[0m\u001b[1;33m\u001b[0m\u001b[0m\n\u001b[0;32m     32\u001b[0m \u001b[0mxlim\u001b[0m\u001b[1;33m(\u001b[0m\u001b[1;36m0\u001b[0m\u001b[1;33m,\u001b[0m\u001b[1;36m500\u001b[0m\u001b[1;33m)\u001b[0m\u001b[1;33m\u001b[0m\u001b[0m\n\u001b[1;32m---> 33\u001b[1;33m \u001b[0max_tcs\u001b[0m\u001b[1;33m.\u001b[0m\u001b[0mylim\u001b[0m\u001b[1;33m(\u001b[0m\u001b[1;33m)\u001b[0m\u001b[1;33m\u001b[0m\u001b[0m\n\u001b[0m\u001b[0;32m     34\u001b[0m \u001b[0max_tcs\u001b[0m\u001b[1;33m.\u001b[0m\u001b[0mxlabel\u001b[0m\u001b[1;33m(\u001b[0m\u001b[1;33m)\u001b[0m\u001b[1;33m\u001b[0m\u001b[0m\n\u001b[0;32m     35\u001b[0m \u001b[0max_tcs\u001b[0m\u001b[1;33m.\u001b[0m\u001b[0mylabel\u001b[0m\u001b[1;33m(\u001b[0m\u001b[1;33m)\u001b[0m\u001b[1;33m\u001b[0m\u001b[0m\n",
        "\u001b[1;31mAttributeError\u001b[0m: 'AxesSubplot' object has no attribute 'ylim'"
       ]
      },
      {
       "output_type": "stream",
       "stream": "stdout",
       "text": [
        "[ 0.14     0.19     0.24     0.28     0.31     0.35     0.37     0.39     0.43\n",
        "  0.44     0.49     0.54     0.57     0.59     0.60289  0.587    0.65148\n",
        "  0.69     0.72     0.75   ]\n"
       ]
      },
      {
       "output_type": "display_data",
       "png": "[encoded data removed]"
      }
     ],
     "prompt_number": 41
    },
    {
     "cell_type": "code",
     "collapsed": false,
     "input": [],
     "language": "python",
     "metadata": {},
     "outputs": [],
     "prompt_number": 41
    },
    {
     "cell_type": "code",
     "collapsed": false,
     "input": [],
     "language": "python",
     "metadata": {},
     "outputs": []
    }
   ],
   "metadata": {}
  }
 ]
}