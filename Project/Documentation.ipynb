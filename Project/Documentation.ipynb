{
 "metadata": {
  "name": "Documentation"
 },
 "nbformat": 3,
 "nbformat_minor": 0,
 "worksheets": [
  {
   "cells": [
    {
     "cell_type": "markdown",
     "metadata": {},
     "source": [
      "#Documentation for Final Project Program\n",
      "\n",
      "#Model of Nuclear Interactions\n",
      "\n",
      "##__Kyle Boucher__\n",
      "\n",
      "- - -\n",
      "\n",
      "##PHYS 202 : Physics on the Computer\n",
      "\n",
      "###June 2013\n",
      "\n",
      "###California Polytechnic State University, San Luis Obispo\n",
      "\n",
      "- - -"
     ]
    },
    {
     "cell_type": "markdown",
     "metadata": {},
     "source": [
      "In my simulation, to decide if two nucleons interact, I used interaction cross-section data from the [Particle Data Group][pdg].\n",
      "\n",
      "[pdg]:http://pdg.lbl.gov/\n",
      "\n",
      "The data files are found at [http://pdg.lbl.gov/2012/hadronic-xsections/hadron.html][2].\n",
      "\n",
      "[2]:http://pdg.lbl.gov/2012/hadronic-xsections/hadron.html"
     ]
    },
    {
     "cell_type": "code",
     "collapsed": false,
     "input": [],
     "language": "python",
     "metadata": {},
     "outputs": [],
     "prompt_number": 3
    },
    {
     "cell_type": "code",
     "collapsed": false,
     "input": [],
     "language": "python",
     "metadata": {},
     "outputs": []
    }
   ],
   "metadata": {}
  }
 ]
}