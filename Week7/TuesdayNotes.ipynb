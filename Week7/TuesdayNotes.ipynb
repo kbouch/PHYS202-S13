{
 "metadata": {
  "name": "TuesdayNotes"
 },
 "nbformat": 3,
 "nbformat_minor": 0,
 "worksheets": [
  {
   "cells": [
    {
     "cell_type": "markdown",
     "metadata": {},
     "source": [
      "#Tuesday Week 7 Notes/Exercises\n",
      "\n",
      "###Ordinary differentia equations Numerical solutions\n",
      "\n",
      "_May 14 2013_\n",
      "\n",
      "Kyle Boucher"
     ]
    },
    {
     "cell_type": "code",
     "collapsed": false,
     "input": [
      "import numpy as np\n",
      "\n",
      "def deriv(theta_current,t):\n",
      "    \"\"\"Takes an array with two elements: theta and its first\n",
      "    derivative omega. Returns an array containing the derivatives.\n",
      "    \"\"\"\n",
      "    g = 9.8 #m/s^2\n",
      "    l =0.5 #m\n",
      "    theta = theta_current[0]\n",
      "    omega = theta_current[1]\n",
      "    dtheta = omega\n",
      "    domega = -(l/g)*np.sin(theta)\n",
      "    return np.array([dtheta,domega])"
     ],
     "language": "python",
     "metadata": {},
     "outputs": [],
     "prompt_number": 6
    },
    {
     "cell_type": "code",
     "collapsed": false,
     "input": [
      "from scipy.integrate import odeint\n",
      "#odeint?"
     ],
     "language": "python",
     "metadata": {},
     "outputs": [],
     "prompt_number": 7
    },
    {
     "cell_type": "code",
     "collapsed": false,
     "input": [
      "t = np.arange(0.,10.01,0.01)\n",
      "omega0 = 0. # start from rest\n",
      "th0 = 20.*(np.pi/180)\n",
      "\n",
      "theta_init = array([th0,omega0])\n",
      "\n",
      "\n",
      "theta = odeint(deriv,theta_init,t)\n",
      "print theta.shape # will be (10*100) ?"
     ],
     "language": "python",
     "metadata": {},
     "outputs": [
      {
       "output_type": "stream",
       "stream": "stdout",
       "text": [
        "(1001, 2)\n"
       ]
      }
     ],
     "prompt_number": 8
    },
    {
     "cell_type": "markdown",
     "metadata": {},
     "source": [
      "The first element is the time. the second element contains theta and omega at that time step????????"
     ]
    },
    {
     "cell_type": "code",
     "collapsed": false,
     "input": [],
     "language": "python",
     "metadata": {},
     "outputs": []
    }
   ],
   "metadata": {}
  }
 ]
}