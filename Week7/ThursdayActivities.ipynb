{
 "metadata": {
  "name": "ThursdayActivites"
 },
 "nbformat": 3,
 "nbformat_minor": 0,
 "worksheets": [
  {
   "cells": [
    {
     "cell_type": "markdown",
     "metadata": {},
     "source": [
      "#Thursday Week 7\n",
      "\n",
      "## Inside numerical ODE solvers\n",
      "\n",
      "Kyle Boucher\n",
      "\n",
      "_May 16 2013_"
     ]
    },
    {
     "cell_type": "markdown",
     "metadata": {},
     "source": [
      "##Euler's Method\n",
      "\n",
      "Exercise 1\n",
      "\n",
      "solve $v_y(x) = \\frac{dy}{dx} = x + 2y,\\quad y(x=0) = 0$\n",
      "\n",
      "so, $\\frac{dy}{dx} \\vert _{x=0} = 0$"
     ]
    },
    {
     "cell_type": "code",
     "collapsed": false,
     "input": [
      "import numpy as np\n",
      "\n",
      "delta_x = 0.001\n",
      "def dydx(x,y):\n",
      "    return x + 2*y\n",
      "\n",
      "def euler_method_ode(dydx,xmin,xmax,N,y0):\n",
      "    x_coords = np.linspace(xmin,xmax,N)\n",
      "    \n",
      "    y_coords = np.empty(x_coords.shape,dtype=float)\n",
      "    \n",
      "    y_coords[0] = y0\n",
      "    \n",
      "    \n",
      "    \n",
      "    for i in range(len(x_coords) - 1):\n",
      "        print x_coords[i]\n",
      "        y_coords[i+1] = y_coords[i] + dydx(x_coords[i],y_coords[i])*delta_x\n",
      "    \n",
      "    result = np.empty((x_coords.shape[0],2),dtype=int)\n",
      "    for i in range(x_coords.size):\n",
      "        result[i,0] = x_coords[i]\n",
      "        result[i,1] = y_coords[i]\n",
      "    return result\n",
      " \n",
      "        \n",
      "sol = euler_method_ode(dydx,0.,2.,200,0)\n",
      "   \n",
      "print sol[:10]\n",
      "for i in range(len(sol)):\n",
      "    if sol[i,0] == 1. :\n",
      "        #print 'x=',sol[i,0],'y=', sol[i,1]\n",
      "# for delta_x = 0.25, x= 1.0 y= 0.515625\n",
      "# for delta_x = 0.02, x= 1.0 y= 1.02667083657\n",
      "# for delta_x = 0.001,x= 1.0 y= 1.09357809759"
     ],
     "language": "python",
     "metadata": {},
     "outputs": [
      {
       "ename": "IndentationError",
       "evalue": "expected an indented block (<ipython-input-17-56b8c471dac1>, line 35)",
       "output_type": "pyerr",
       "traceback": [
        "\u001b[0;31mIndentationError\u001b[0m\u001b[0;31m:\u001b[0m expected an indented block\n"
       ]
      }
     ],
     "prompt_number": 17
    },
    {
     "cell_type": "code",
     "collapsed": false,
     "input": [
      "# exact solution: \n",
      "def y_exact(x):\n",
      "    return 0.25*np.exp(2*x) -0.5*x -0.25\n",
      "\n",
      "x_coordsb = np.arange(0.,2. + delta_x, delta_x)\n",
      "\n",
      "\n",
      "x_coordsa = np.arange(0.,2. + delta_x, delta_x)\n",
      "\n",
      "\n",
      "sol_a = euler_method_ode(dydx,0.,2.,0.25,0)\n",
      "sol_b = euler_method_ode(dydx,0.,2.,0.02,0)\n",
      "\n",
      "\n",
      "plot(sol_a[:,0],sol_a[:,1],'r-',label='x step is 0.25')\n",
      "plot(x_coordsa,y_exact(x_coordsa),'g--',label='s step is 0.25')\n",
      "plot(sol_b[:,0],sol_b[:,1],'b--',label='s step is 0.02')\n",
      "plot(x_coordsb,y_exact(x_coordsb),'g--',label='s step is 0.02')\n",
      "\n"
     ],
     "language": "python",
     "metadata": {},
     "outputs": [
      {
       "ename": "IndexError",
       "evalue": "index out of bounds",
       "output_type": "pyerr",
       "traceback": [
        "\u001b[0;31m---------------------------------------------------------------------------\u001b[0m\n\u001b[0;31mIndexError\u001b[0m                                Traceback (most recent call last)",
        "\u001b[0;32m<ipython-input-9-f3a557df3440>\u001b[0m in \u001b[0;36m<module>\u001b[0;34m()\u001b[0m\n\u001b[1;32m      9\u001b[0m \u001b[0;34m\u001b[0m\u001b[0m\n\u001b[1;32m     10\u001b[0m \u001b[0;34m\u001b[0m\u001b[0m\n\u001b[0;32m---> 11\u001b[0;31m \u001b[0msol_a\u001b[0m \u001b[0;34m=\u001b[0m \u001b[0meuler_method_ode\u001b[0m\u001b[0;34m(\u001b[0m\u001b[0mdydx\u001b[0m\u001b[0;34m,\u001b[0m\u001b[0;36m0.\u001b[0m\u001b[0;34m,\u001b[0m\u001b[0;36m2.\u001b[0m\u001b[0;34m,\u001b[0m\u001b[0;36m0.25\u001b[0m\u001b[0;34m,\u001b[0m\u001b[0;36m0\u001b[0m\u001b[0;34m)\u001b[0m\u001b[0;34m\u001b[0m\u001b[0m\n\u001b[0m\u001b[1;32m     12\u001b[0m \u001b[0msol_b\u001b[0m \u001b[0;34m=\u001b[0m \u001b[0meuler_method_ode\u001b[0m\u001b[0;34m(\u001b[0m\u001b[0mdydx\u001b[0m\u001b[0;34m,\u001b[0m\u001b[0;36m0.\u001b[0m\u001b[0;34m,\u001b[0m\u001b[0;36m2.\u001b[0m\u001b[0;34m,\u001b[0m\u001b[0;36m0.02\u001b[0m\u001b[0;34m,\u001b[0m\u001b[0;36m0\u001b[0m\u001b[0;34m)\u001b[0m\u001b[0;34m\u001b[0m\u001b[0m\n\u001b[1;32m     13\u001b[0m \u001b[0;34m\u001b[0m\u001b[0m\n",
        "\u001b[0;32m<ipython-input-8-016f7ebfbeb5>\u001b[0m in \u001b[0;36meuler_method_ode\u001b[0;34m(dydx, xmin, xmax, delta_x, y0)\u001b[0m\n\u001b[1;32m     10\u001b[0m     \u001b[0my_coords\u001b[0m \u001b[0;34m=\u001b[0m \u001b[0mnp\u001b[0m\u001b[0;34m.\u001b[0m\u001b[0mempty\u001b[0m\u001b[0;34m(\u001b[0m\u001b[0mx_coords\u001b[0m\u001b[0;34m.\u001b[0m\u001b[0mshape\u001b[0m\u001b[0;34m,\u001b[0m\u001b[0mdtype\u001b[0m\u001b[0;34m=\u001b[0m\u001b[0mfloat\u001b[0m\u001b[0;34m)\u001b[0m\u001b[0;34m\u001b[0m\u001b[0m\n\u001b[1;32m     11\u001b[0m \u001b[0;34m\u001b[0m\u001b[0m\n\u001b[0;32m---> 12\u001b[0;31m     \u001b[0my_coords\u001b[0m\u001b[0;34m[\u001b[0m\u001b[0;36m0\u001b[0m\u001b[0;34m]\u001b[0m \u001b[0;34m=\u001b[0m \u001b[0my0\u001b[0m\u001b[0;34m\u001b[0m\u001b[0m\n\u001b[0m\u001b[1;32m     13\u001b[0m \u001b[0;34m\u001b[0m\u001b[0m\n\u001b[1;32m     14\u001b[0m \u001b[0;34m\u001b[0m\u001b[0m\n",
        "\u001b[0;31mIndexError\u001b[0m: index out of bounds"
       ]
      }
     ],
     "prompt_number": 9
    },
    {
     "cell_type": "code",
     "collapsed": false,
     "input": [],
     "language": "python",
     "metadata": {},
     "outputs": []
    }
   ],
   "metadata": {}
  }
 ]
}