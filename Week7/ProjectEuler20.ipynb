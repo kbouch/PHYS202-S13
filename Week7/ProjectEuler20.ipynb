{
 "metadata": {
  "name": "ProjectEuler20"
 },
 "nbformat": 3,
 "nbformat_minor": 0,
 "worksheets": [
  {
   "cells": [
    {
     "cell_type": "markdown",
     "metadata": {},
     "source": [
      "#Project Euler\n",
      "### Problem 20 : Factorial digit sum\n",
      "\n",
      "$n !$ means $n \\times (n-1) \\times \\dotsm \\times 3 \\times 2 \\times 1$\n",
      "\n",
      "For example, $10 ! = 10 \\times 9 \\times \\dotsm \\times 3 \\times 2 \\times 1 = 3628800$ , and the sum of the digits in the number $ 10 !$ is $3 + 6 + 2 + 8 + 8 + 0 + 0 = 27$\n",
      "\n",
      "Find the sum of the digits in the number $ 100 ! $"
     ]
    },
    {
     "cell_type": "markdown",
     "metadata": {},
     "source": [
      "__Make a function to calculate factorials:__"
     ]
    },
    {
     "cell_type": "code",
     "collapsed": false,
     "input": [
      "def factorial(N):\n",
      "    \"\"\"Returns the factorial (N!) of integers greater or equal to zero,\n",
      "    with zero factorial equal to 1.\n",
      "    \"\"\"\n",
      "    fac = 1\n",
      "    while N - 1 > 0:\n",
      "        fac = fac*N\n",
      "        N = N - 1\n",
      "    return fac"
     ],
     "language": "python",
     "metadata": {},
     "outputs": [],
     "prompt_number": 1
    },
    {
     "cell_type": "markdown",
     "metadata": {},
     "source": [
      "Test cases:"
     ]
    },
    {
     "cell_type": "code",
     "collapsed": false,
     "input": [
      "print factorial(4)\n",
      "print factorial(10)\n",
      "print factorial(0)\n",
      "print factorial(100)"
     ],
     "language": "python",
     "metadata": {},
     "outputs": [
      {
       "output_type": "stream",
       "stream": "stdout",
       "text": [
        "24\n",
        "3628800\n",
        "1\n",
        "93326215443944152681699238856266700490715968264381621468592963895217599993229915608941463976156518286253697920827223758251185210916864000000000000000000000000\n"
       ]
      }
     ],
     "prompt_number": 4
    },
    {
     "cell_type": "markdown",
     "metadata": {},
     "source": [
      "__Function to sum the digits of an integer__"
     ]
    },
    {
     "cell_type": "code",
     "collapsed": false,
     "input": [
      "def digit_sum(num):\n",
      "    \"\"\"Takes a positive integer. Returns the sum of the number's digits\"\"\"\n",
      "    ndig = 0\n",
      "    while num - 10**ndig > 0:\n",
      "        ndig += 1\n",
      "    Sum = 0\n",
      "    for i in range(ndig-1,-1,-1): #traverse the values ndig-1 through 0.\n",
      "        d = num// 10**i\n",
      "        num -= d*10**i\n",
      "        Sum += d\n",
      "    return Sum"
     ],
     "language": "python",
     "metadata": {},
     "outputs": [],
     "prompt_number": 6
    },
    {
     "cell_type": "markdown",
     "metadata": {},
     "source": [
      "Test cases:"
     ]
    },
    {
     "cell_type": "code",
     "collapsed": false,
     "input": [
      "print digit_sum(123)\n",
      "print digit_sum(456)\n",
      "print digit_sum(0)\n",
      "print digit_sum(3628800)"
     ],
     "language": "python",
     "metadata": {},
     "outputs": [
      {
       "output_type": "stream",
       "stream": "stdout",
       "text": [
        "6\n",
        "15\n",
        "0\n",
        "27\n"
       ]
      }
     ],
     "prompt_number": 7
    },
    {
     "cell_type": "markdown",
     "metadata": {},
     "source": [
      "####Now to find the answer:"
     ]
    },
    {
     "cell_type": "code",
     "collapsed": false,
     "input": [
      "print 'The sum of the digits of 100! is',digit_sum(factorial(100))"
     ],
     "language": "python",
     "metadata": {},
     "outputs": [
      {
       "output_type": "stream",
       "stream": "stdout",
       "text": [
        "The sum of the digits of 100! is 648\n"
       ]
      }
     ],
     "prompt_number": 8
    },
    {
     "cell_type": "markdown",
     "metadata": {},
     "source": [
      "####The sum of the digits of $ 100 ! $ is $648$ ."
     ]
    },
    {
     "cell_type": "code",
     "collapsed": false,
     "input": [],
     "language": "python",
     "metadata": {},
     "outputs": []
    }
   ],
   "metadata": {}
  }
 ]
}