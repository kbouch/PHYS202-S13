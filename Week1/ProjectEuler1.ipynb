{
 "metadata": {
  "name": "ProjectEuler1"
 }, 
 "nbformat": 2, 
 "worksheets": [
  {
   "cells": [
    {
     "cell_type": "markdown", 
     "source": [
      "Project Euler Problem 1", 
      "-----------------------", 
      "", 
      "Before solving the problem, written in Week1/ProjecEuler.md in the repository,", 
      "I test some built-in python functions and syntax.", 
      "", 
      "I give my solution as a function that will solve the general case, and then", 
      "run it for the case stated in problem.", 
      "", 
      "Solution is on Input 8.", 
      "", 
      "    %%%%%%%%%%%%%%%%%%%%%%%%%%%%%%%%%%%%%%%%%%%%", 
      "    %", 
      "    % I pledge on my honor that I have not given", 
      "    % or received any unauthorized assistance", 
      "    % on this assignment/examination", 
      "    %", 
      "    % Signed:Kyle Boucher", 
      "    % Dated: 4/7/13", 
      "    %", 
      "    %%%%%%%%%%%%%%%%%%%%%%%%%%%%%%%%%%%%%%%%%%%%"
     ]
    }, 
    {
     "cell_type": "code", 
     "collapsed": false, 
     "input": [
      "# test the collection symbol", 
      "def echo_group(*args):", 
      "    print args", 
      "", 
      "echo_group('banana',50,[1,2,3],True, (6,))"
     ], 
     "language": "python", 
     "outputs": [
      {
       "output_type": "stream", 
       "stream": "stdout", 
       "text": [
        "(&apos;banana&apos;, 50, [1, 2, 3], True, (6,))"
       ]
      }
     ], 
     "prompt_number": 1
    }, 
    {
     "cell_type": "code", 
     "collapsed": true, 
     "input": [
      "# * symbol groups arguments into a tuple"
     ], 
     "language": "python", 
     "outputs": [], 
     "prompt_number": 2
    }, 
    {
     "cell_type": "code", 
     "collapsed": false, 
     "input": [
      "# test the type() function", 
      "print type(15)", 
      "print type(15.0)", 
      "print type(15) == int", 
      "print type(15.0) == float"
     ], 
     "language": "python", 
     "outputs": [
      {
       "output_type": "stream", 
       "stream": "stdout", 
       "text": [
        "&lt;type &apos;int&apos;&gt;", 
        "&lt;type &apos;float&apos;&gt;", 
        "True", 
        "True"
       ]
      }
     ], 
     "prompt_number": 3
    }, 
    {
     "cell_type": "code", 
     "collapsed": false, 
     "input": [
      "# test modulo operator", 
      "print 10.123 % 1", 
      "print 10.0 % 1", 
      "print 10 % 1"
     ], 
     "language": "python", 
     "outputs": [
      {
       "output_type": "stream", 
       "stream": "stdout", 
       "text": [
        "0.123", 
        "0.0", 
        "0"
       ]
      }
     ], 
     "prompt_number": 4
    }, 
    {
     "cell_type": "code", 
     "collapsed": false, 
     "input": [
      "# test in keyword", 
      "my_list = [1,3,5,7]", 
      "print not 4 in my_list", 
      "print not 4", 
      "print 4 not in my_list", 
      "print not(4 in my_list)", 
      "print 5 not in my_list"
     ], 
     "language": "python", 
     "outputs": [
      {
       "output_type": "stream", 
       "stream": "stdout", 
       "text": [
        "True", 
        "False", 
        "True", 
        "True", 
        "False"
       ]
      }
     ], 
     "prompt_number": 5
    }, 
    {
     "cell_type": "code", 
     "collapsed": false, 
     "input": [
      "# append method for lists", 
      "new_list = []", 
      "new_list.append('hello')", 
      "print new_list", 
      "# don't need to do new_list = new_list.append('hello')"
     ], 
     "language": "python", 
     "outputs": [
      {
       "output_type": "stream", 
       "stream": "stdout", 
       "text": [
        "[&apos;hello&apos;]"
       ]
      }
     ], 
     "prompt_number": 6
    }, 
    {
     "cell_type": "code", 
     "collapsed": false, 
     "input": [
      "# range function", 
      "print range(5)", 
      "print range(1,10,2)"
     ], 
     "language": "python", 
     "outputs": [
      {
       "output_type": "stream", 
       "stream": "stdout", 
       "text": [
        "[0, 1, 2, 3, 4]", 
        "[1, 3, 5, 7, 9]"
       ]
      }
     ], 
     "prompt_number": 7
    }, 
    {
     "cell_type": "code", 
     "collapsed": false, 
     "input": [
      "# Project Euler problem 1 Solution:", 
      "", 
      "def sum_of_multiples(*args):", 
      "    \"\"\"The first argument should be the upper limit. The rest are factors. ", 
      "    Finds all natural numbers (positive integers) less than the upper limit that", 
      "    are a multiple of one or more of the given factors and takes the sum.", 
      "    \"\"\"", 
      "    found = []", 
      "    exclude_fac = []", 
      "    upper_limit = args[0]", 
      "    for fac in args[1:]:", 
      "        if type(fac) not in [int,float]:          # make sure user passed corret data types", 
      "            exclude_fac.append(fac)", 
      "        elif fac % 1 != 0 or fac <= 0:            # make sure user passed positive integers", 
      "            exclude_fac.append(fac)", 
      "        else:                                     # for valid factors, add multiples of the factor", 
      "            for n in range(upper_limit):          # that are within the range to the list found ", 
      "                if n % fac == 0 and n not in found: # do not append if the number is already recorded", 
      "                    found.append(n)", 
      "    total = 0", 
      "    for num in found:", 
      "        total += num", 
      "    return total", 
      "", 
      "", 
      "print sum_of_multiples(1000,3,5) "
     ], 
     "language": "python", 
     "outputs": [
      {
       "output_type": "stream", 
       "stream": "stdout", 
       "text": [
        "233168"
       ]
      }
     ], 
     "prompt_number": 8
    }, 
    {
     "cell_type": "markdown", 
     "source": [
      "####The answer is:####", 
      "", 
      "* 233168"
     ]
    }
   ]
  }
 ]
}