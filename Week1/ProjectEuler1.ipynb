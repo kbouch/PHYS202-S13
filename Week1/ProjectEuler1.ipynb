{
 "metadata": {
  "name": "ProjectEuler1"
 },
 "nbformat": 3,
 "nbformat_minor": 0,
 "worksheets": [
  {
   "cells": [
    {
     "cell_type": "markdown",
     "metadata": {},
     "source": [
      "Project Euler Problem 1\n",
      "-----------------------\n",
      "\n",
      "Before solving the problem, written in Week1/ProjecEuler.md in the repository,\n",
      "I test some built-in python functions and syntax.\n",
      "\n",
      "I give my solution as a function that will solve the general case, and then\n",
      "run it for the case stated in problem.\n",
      "\n",
      "Solution is on Input 8.\n",
      "\n",
      "    %%%%%%%%%%%%%%%%%%%%%%%%%%%%%%%%%%%%%%%%%%%%\n",
      "    %\n",
      "    % I pledge on my honor that I have not given\n",
      "    % or received any unauthorized assistance\n",
      "    % on this assignment/examination\n",
      "    %\n",
      "    % Signed:Kyle Boucher\n",
      "    % Dated: 4/7/13\n",
      "    %\n",
      "    %%%%%%%%%%%%%%%%%%%%%%%%%%%%%%%%%%%%%%%%%%%%"
     ]
    },
    {
     "cell_type": "code",
     "collapsed": false,
     "input": [
      "# test the collection symbol\n",
      "def echo_group(*args):\n",
      "    print args\n",
      "\n",
      "echo_group('banana',50,[1,2,3],True, (6,))"
     ],
     "language": "python",
     "metadata": {},
     "outputs": [
      {
       "output_type": "stream",
       "stream": "stdout",
       "text": [
        "('banana', 50, [1, 2, 3], True, (6,))\n"
       ]
      }
     ],
     "prompt_number": 1
    },
    {
     "cell_type": "code",
     "collapsed": true,
     "input": [
      "# * symbol groups arguments into a tuple"
     ],
     "language": "python",
     "metadata": {},
     "outputs": [],
     "prompt_number": 2
    },
    {
     "cell_type": "code",
     "collapsed": false,
     "input": [
      "# test the type() function\n",
      "print type(15)\n",
      "print type(15.0)\n",
      "print type(15) == int\n",
      "print type(15.0) == float"
     ],
     "language": "python",
     "metadata": {},
     "outputs": [
      {
       "output_type": "stream",
       "stream": "stdout",
       "text": [
        "<type 'int'>\n",
        "<type 'float'>\n",
        "True\n",
        "True\n"
       ]
      }
     ],
     "prompt_number": 3
    },
    {
     "cell_type": "code",
     "collapsed": false,
     "input": [
      "# test modulo operator\n",
      "print 10.123 % 1\n",
      "print 10.0 % 1\n",
      "print 10 % 1"
     ],
     "language": "python",
     "metadata": {},
     "outputs": [
      {
       "output_type": "stream",
       "stream": "stdout",
       "text": [
        "0.123\n",
        "0.0\n",
        "0\n"
       ]
      }
     ],
     "prompt_number": 4
    },
    {
     "cell_type": "code",
     "collapsed": false,
     "input": [
      "# test in keyword\n",
      "my_list = [1,3,5,7]\n",
      "print not 4 in my_list\n",
      "print not 4\n",
      "print 4 not in my_list\n",
      "print not(4 in my_list)\n",
      "print 5 not in my_list"
     ],
     "language": "python",
     "metadata": {},
     "outputs": [
      {
       "output_type": "stream",
       "stream": "stdout",
       "text": [
        "True\n",
        "False\n",
        "True\n",
        "True\n",
        "False\n"
       ]
      }
     ],
     "prompt_number": 5
    },
    {
     "cell_type": "code",
     "collapsed": false,
     "input": [
      "# append method for lists\n",
      "new_list = []\n",
      "new_list.append('hello')\n",
      "print new_list\n",
      "# don't need to do new_list = new_list.append('hello')"
     ],
     "language": "python",
     "metadata": {},
     "outputs": [
      {
       "output_type": "stream",
       "stream": "stdout",
       "text": [
        "['hello']\n"
       ]
      }
     ],
     "prompt_number": 6
    },
    {
     "cell_type": "code",
     "collapsed": false,
     "input": [
      "# range function\n",
      "print range(5)\n",
      "print range(1,10,2)"
     ],
     "language": "python",
     "metadata": {},
     "outputs": [
      {
       "output_type": "stream",
       "stream": "stdout",
       "text": [
        "[0, 1, 2, 3, 4]\n",
        "[1, 3, 5, 7, 9]\n"
       ]
      }
     ],
     "prompt_number": 7
    },
    {
     "cell_type": "code",
     "collapsed": false,
     "input": [
      "# Project Euler problem 1 Solution:\n",
      "\n",
      "def sum_of_multiples(*args):\n",
      "    \"\"\"The first argument should be the upper limit. The rest are factors. \n",
      "    Finds all natural numbers (positive integers) less than the upper limit that\n",
      "    are a multiple of one or more of the given factors and takes the sum.\n",
      "    \"\"\"\n",
      "    found = []\n",
      "    exclude_fac = []\n",
      "    upper_limit = args[0]\n",
      "    for fac in args[1:]:\n",
      "        if type(fac) not in [int,float]:          # make sure user passed corret data types\n",
      "            exclude_fac.append(fac)\n",
      "        elif fac % 1 != 0 or fac <= 0:            # make sure user passed positive integers\n",
      "            exclude_fac.append(fac)\n",
      "        else:                                     # for valid factors, add multiples of the factor\n",
      "            for n in range(upper_limit):          # that are within the range to the list found \n",
      "                if n % fac == 0 and n not in found: # do not append if the number is already recorded\n",
      "                    found.append(n)\n",
      "    total = 0\n",
      "    for num in found:\n",
      "        total += num\n",
      "    return total\n",
      "\n",
      "\n",
      "print sum_of_multiples(1000,3,5) "
     ],
     "language": "python",
     "metadata": {},
     "outputs": [
      {
       "output_type": "stream",
       "stream": "stdout",
       "text": [
        "233168\n"
       ]
      }
     ],
     "prompt_number": 8
    },
    {
     "cell_type": "markdown",
     "metadata": {},
     "source": [
      "####The answer is:####\n",
      "\n",
      "    * 233168"
     ]
    }
   ],
   "metadata": {}
  }
 ]
}