{
 "metadata": {
  "name": "ProjectEuler6"
 }, 
 "nbformat": 2, 
 "worksheets": [
  {
   "cells": [
    {
     "cell_type": "markdown", 
     "source": [
      "    %%%%%%%%%%%%%%%%%%%%%%%%%%%%%%%%%%%%%%%%%%%%", 
      "    %", 
      "    % I pledge on my honor that I have not given", 
      "    % or received any unauthorized assistance", 
      "    % on this assignment/examination", 
      "    % ", 
      "    % Signed:Kyle Boucher", 
      "    % Dated:4/7/13", 
      "    %%%%%%%%%%%%%%%%%%%%%%%%%%%%%%%%%%%%%%%%%%", 
      "", 
      "Project Euler Problem 6", 
      "-----------------------"
     ]
    }, 
    {
     "cell_type": "code", 
     "collapsed": false, 
     "input": [
      "def special_difference(upper_limit):", 
      "    \"\"\"Takes the difference of the square of the sum of all natural numbers up to and including upper_limit", 
      "    and the sum of the squares of each of these natural numbers.", 
      "    \"\"\" ", 
      "    from math import trunc                               # I want to use math.trunc to take only the integer", 
      "                                                         # part of upper_limit in case the user passes a float", 
      "    if type(upper_limit) not in [int,float]:", 
      "        return 'Error: argument not a positive integer'  # check that upper_limit is the correct data type", 
      "    elif type(upper_limit) == float:", 
      "        upper_limit = trunc(upper_limit)                 # truncate any floats", 
      "    ", 
      "    sum_of_squares = 0", 
      "    for n in range(1,upper_limit + 1):                   # the range function creates a list, but it starts at", 
      "                                                         # zero by default and ends at stop-1.", 
      "                                                         # I explicitly tell it to start at 1 and set", 
      "                                                         # stop = upper_limit + 1.", 
      "        sum_of_squares += n**2                           # update sum_of_squares at end of each iteration", 
      "    ", 
      "    square_of_sum = (sum(range(1,upper_limit + 1)))**2   # use the built in function sum() that adds elements", 
      "                                                         # of a list.", 
      "    ", 
      "    return square_of_sum - sum_of_squares                # I am not sure if this can ever be negative", 
      "", 
      "result = special_difference(100)                         # call the function that I just defined on 100", 
      "print result"
     ], 
     "language": "python", 
     "outputs": [
      {
       "output_type": "stream", 
       "stream": "stdout", 
       "text": [
        "25164150"
       ]
      }
     ], 
     "prompt_number": 1
    }, 
    {
     "cell_type": "markdown", 
     "source": [
      "###The answer is:###", 
      "", 
      "    25164150"
     ]
    }, 
    {
     "cell_type": "code", 
     "collapsed": true, 
     "input": [], 
     "language": "python", 
     "outputs": []
    }
   ]
  }
 ]
}