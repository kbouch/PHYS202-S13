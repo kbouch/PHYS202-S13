{
 "metadata": {
  "name": "GraphicsEx2"
 },
 "nbformat": 3,
 "nbformat_minor": 0,
 "worksheets": [
  {
   "cells": [
    {
     "cell_type": "markdown",
     "metadata": {},
     "source": [
      "Publication quality graphics, Exercise 2\n",
      "=\n",
      "\n",
      "_April 18 2013_\n",
      "\n",
      "- - -\n",
      "`%%%%%%%%%%%%%%%%%%%%%%%%%%%%%%%%%%%%%%%%%%%%%\n",
      "%\n",
      "% I pledge on my honor that I have not given\n",
      "% or received any unauthorized assistance\n",
      "% on this assignment/examination.\n",
      "%\n",
      "% Signed: Kyle Boucher\n",
      "% Dated: April 19 2013\n",
      "%\n",
      "%%%%%%%%%%%%%%%%%%%%%%%%%%%%%%%%%%%%%%%%%%%%`\n",
      "- - -\n",
      "\n",
      "#Question 1\n",
      "\n",
      "[Math Latex][1] reference.\n",
      "\n",
      "[1]:ftp://ftp.ams.org/pub/tex/doc/amsmath/short-math-guide.pdf"
     ]
    },
    {
     "cell_type": "markdown",
     "metadata": {},
     "source": [
      "(a)\n",
      "\\begin{equation}\n",
      "\\psi(x) = A\\bigg(\\frac{ik - a\\tanh(ax)}{ik + a}\\bigg) e^{+ikx}\n",
      "\\end{equation}\n",
      "\n",
      "(b)\n",
      "\\begin{equation}\n",
      "v_{1} = m_{2}\\sqrt{\\frac{2G}{M}\\bigg(\\frac{1}{r}-\\frac{1}{r_{0}}\\bigg)}\n",
      "\\end{equation}\n",
      "\n",
      "(c)\n",
      "\\begin{equation}\n",
      "f(\\theta) = \\frac{\\hslash}{p} \\sum_{\\ell = 0} ^{\\infty} (2\\ell + 1)e^{i\\delta_{\\ell}}\\sin\\delta_{\\ell}P_{\\ell}(\\cos\\theta)\n",
      "\\end{equation}\n",
      "\n",
      "(d)\n",
      "\\begin{equation}\n",
      "\\frac{d\\sigma}{d\\Omega} = \\frac{\\displaystyle k\\pi^2(\\pi - \\theta)}{\\displaystyle mu_0 ^2 (2\\pi - \\theta)^2\\sin{\\theta}}\n",
      "\\end{equation}\n",
      "\n",
      "(e)\n",
      "\\begin{equation}\n",
      "\\langle f \\rangle = \\frac{1}{\\tau}\\int_0 ^\\tau f(t)dt\n",
      "\\end{equation}\n",
      "\n",
      "(f)\n",
      "\\begin{equation}\n",
      "\\Omega_S = \\omega \\frac{\\sin{\\alpha}}{\\sin{\\theta}} = \\frac{L}{\\lambda_1} = \\omega\\frac{\\displaystyle \\sqrt{ \\lambda_3 ^2 + ( \\lambda_1 ^2 - \\lambda_3 ^2)\\sin{\\alpha}}}{\\displaystyle \\lambda_1}\n",
      "\\end{equation}"
     ]
    },
    {
     "cell_type": "markdown",
     "metadata": {},
     "source": [
      "#Question 2\n",
      "\n",
      "I will use the numpy and matplotlib.pyplot, which are already sourced into the namespace by matplotlib.pylab, but I will re-import them for clarity."
     ]
    },
    {
     "cell_type": "code",
     "collapsed": false,
     "input": [
      "import numpy as np\n",
      "import matplotlib.pyplot as plt"
     ],
     "language": "python",
     "metadata": {},
     "outputs": [],
     "prompt_number": 21
    },
    {
     "cell_type": "markdown",
     "metadata": {},
     "source": [
      "Create closely-spaced values in the interval $\\\\{x \\in \\mathbb{R}\\vert-4\\le x\\le 4\\\\}\\quad$ to serve as the domain for the two functions.\n",
      "\n",
      "The constant $a$ is set to 1, but $x$ is multiplied by $a$ everywhere that it appears, which is in the argument to $\\tanh$. Therefore, $1x$ still has units of radians and the horizontal axis should be labled $x (rad)\\;$."
     ]
    },
    {
     "cell_type": "code",
     "collapsed": false,
     "input": [
      "D = np.arange(-4, 4.01, 0.01)\n",
      "print D[:10]\n",
      "print\n",
      "print D[790:]"
     ],
     "language": "python",
     "metadata": {},
     "outputs": [
      {
       "output_type": "stream",
       "stream": "stdout",
       "text": [
        "[-4.   -3.99 -3.98 -3.97 -3.96 -3.95 -3.94 -3.93 -3.92 -3.91]\n",
        "\n",
        "[ 3.9   3.91  3.92  3.93  3.94  3.95  3.96  3.97  3.98  3.99  4.  ]\n"
       ]
      }
     ],
     "prompt_number": 22
    },
    {
     "cell_type": "markdown",
     "metadata": {},
     "source": [
      "Creating an array containing output values of the following function (probability density of a particle) which takes an argument for $k$, $k=0.0,\\;k=0.5,\\;k=1.0,\\;=2.0\\qquad$\n",
      "as well as an arguemnt for the domain array for the function to be evaluated at.\n",
      "\n",
      "\\begin{equation}\n",
      "{\\lvert\\psi(x)\\rvert}^2 = A^2\\bigg(\\frac{k^2 + a^2\\tanh^2(ax)}{k^2 + a^2}\\bigg)\\; , \\quad A=1\\;,a=1\n",
      "\\end{equation}\n",
      "\n",
      "Also creating an array of the values of the potential energy function for the particle on the domain.\n",
      "\n",
      "\\begin{equation}\\DeclareMathOperator{\\sech}{sech}\n",
      "U(x) = -{\\sech}^{2}(ax)\n",
      "\\end{equation}\n"
     ]
    },
    {
     "cell_type": "code",
     "collapsed": false,
     "input": [
      "def psi_squared(D,k):\n",
      "    return (k**2 + (np.tanh(D))**2)/(k**2 + 1)\n",
      "\n",
      "\n",
      "U = -(1.0/np.cosh(D))**2\n",
      "\n",
      "\n",
      "print type(U)\n",
      "print type(psi_squared(D,1.0))"
     ],
     "language": "python",
     "metadata": {},
     "outputs": [
      {
       "output_type": "stream",
       "stream": "stdout",
       "text": [
        "<type 'numpy.ndarray'>\n",
        "<type 'numpy.ndarray'>\n"
       ]
      }
     ],
     "prompt_number": 27
    },
    {
     "cell_type": "markdown",
     "metadata": {},
     "source": [
      "Now the plot:\n",
      "\n",
      "I wanted to define the psi_squared curves iteratively, so I did. The zip function combines elements of a certain index in multiple lists into one tuple inside located single list at that same index."
     ]
    },
    {
     "cell_type": "code",
     "collapsed": false,
     "input": [
      "plt.plot(D, U, color='b', linewidth=3.0, linestyle='-', label='$U(x)$')\n",
      "for k_fmt in zip([0, 2.5, 0.5],['-','--','-.',':']):\n",
      "    plt.plot(D, psi_squared(D,k_fmt[0]), color='r', linewidth=3.0, linestyle=k_fmt[1])#, label=\"$ \\lvert \\psi (x) \\rvert ^2  $\" )#  str(k_fmt[0]))\n",
      "\n",
      "plt.xlabel('$ x (rad) $', fontsize=25)\n",
      "#plt.xlabel('$ U(x), \\; {\\lvert \\psi (x) \\rvert} ^2 $', fontsize=25)\n",
      "#plt.legend(loc='lower left')"
     ],
     "language": "python",
     "metadata": {},
     "outputs": [
      {
       "output_type": "pyout",
       "prompt_number": 67,
       "text": [
        "<matplotlib.text.Text at 0xc8691cc>"
       ]
      },
      {
       "output_type": "display_data",
       "png": "[encoded data removed]"
      }
     ],
     "prompt_number": 67
    },
    {
     "cell_type": "code",
     "collapsed": false,
     "input": [
      "plt.plot?\n",
      "plt.legend?\n",
      "plt.xlabel?"
     ],
     "language": "python",
     "metadata": {},
     "outputs": [],
     "prompt_number": 56
    },
    {
     "cell_type": "code",
     "collapsed": false,
     "input": [
      "matplotlib.lines.Line2D?"
     ],
     "language": "python",
     "metadata": {},
     "outputs": [],
     "prompt_number": 9
    },
    {
     "cell_type": "code",
     "collapsed": false,
     "input": [],
     "language": "python",
     "metadata": {},
     "outputs": []
    }
   ],
   "metadata": {}
  }
 ]
}