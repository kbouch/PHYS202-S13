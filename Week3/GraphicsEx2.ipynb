{
 "metadata": {
  "name": "GraphicsEx2"
 },
 "nbformat": 3,
 "nbformat_minor": 0,
 "worksheets": [
  {
   "cells": [
    {
     "cell_type": "markdown",
     "metadata": {},
     "source": [
      "Publication quality graphics, Exercise 2\n",
      "=\n",
      "\n",
      "_April 18 2013_\n",
      "\n",
      "- - -\n",
      "`%%%%%%%%%%%%%%%%%%%%%%%%%%%%%%%%%%%%%%%%%%%%%\n",
      "%\n",
      "% I pledge on my honor that I have not given\n",
      "% or received any unauthorized assistance\n",
      "% on this assignment/examination.\n",
      "%\n",
      "% Signed: Kyle Boucher\n",
      "% Dated: April 19 2013\n",
      "%\n",
      "%%%%%%%%%%%%%%%%%%%%%%%%%%%%%%%%%%%%%%%%%%%%`\n",
      "- - -\n",
      "\n",
      "__Question 1__\n",
      "\n",
      "[Math Latex][1] reference.\n",
      "\n",
      "[1]:ftp://ftp.ams.org/pub/tex/doc/amsmath/short-math-guide.pdf"
     ]
    },
    {
     "cell_type": "markdown",
     "metadata": {},
     "source": [
      "(a)\n",
      "\\begin{equation}\n",
      "\\psi(x) = A\\bigg(\\frac{ik - a\\tanh(ax)}{ik + a}\\bigg) e^{+ikx}\n",
      "\\end{equation}\n",
      "\n",
      "(b)\n",
      "\\begin{equation}\n",
      "v_{1} = m_{2}\\sqrt{\\frac{2G}{M}\\bigg(\\frac{1}{r}-\\frac{1}{r_{0}}\\bigg)}\n",
      "\\end{equation}\n",
      "\n",
      "(c)\n",
      "\\begin{equation}\n",
      "f(\\theta) = \\frac{\\hslash}{p} \\sum_{\\ell = 0} ^{\\infty} (2\\ell + 1)e^{i\\delta_{\\ell}}\\sin\\delta_{\\ell}P_{\\ell}(\\cos\\theta)\n",
      "\\end{equation}\n",
      "\n",
      "(d)\n",
      "\\begin{equation}\n",
      "\\frac{d\\sigma}{d\\Omega} = \\frac{\\displaystyle k\\pi^2(\\pi - \\theta)}{\\displaystyle mu_0 ^2 (2\\pi - \\theta)^2\\sin{\\theta}}\n",
      "\\end{equation}\n",
      "\n",
      "(e)\n",
      "\\begin{equation}\n",
      "\\langle f \\rangle = \\frac{1}{\\tau}\\int_0 ^\\tau f(t)dt\n",
      "\\end{equation}\n",
      "\n",
      "(f)\n",
      "\\begin{equation}\n",
      "\\Omega_S = \\omega \\frac{\\sin{\\alpha}}{\\sin{\\theta}} = \\frac{L}{\\lambda_1} = \\omega\\frac{\\displaystyle \\sqrt{ \\lambda_3 ^2 + ( \\lambda_1 ^2 - \\lambda_3 ^2)\\sin{\\alpha}}}{\\displaystyle \\lambda_1}\n",
      "\\end{equation}"
     ]
    },
    {
     "cell_type": "markdown",
     "metadata": {},
     "source": [
      "__Question 2__\n",
      "\n",
      "I will use the numpy and matplotlib.pyplot, which are already sourced into the namespace by matplotlib.pylab, but I will re-import them for clarity."
     ]
    },
    {
     "cell_type": "code",
     "collapsed": false,
     "input": [
      "import numpy as np\n",
      "import matplotlib.pyplot as plt"
     ],
     "language": "python",
     "metadata": {},
     "outputs": [],
     "prompt_number": 5
    },
    {
     "cell_type": "markdown",
     "metadata": {},
     "source": [
      "Create closely-spaced values in the interval $\\\\{x \\in \\mathbb{R}\\vert-4\\le x\\le 4\\\\}\\quad$ to serve as the domain for the two functions.\n",
      "\n",
      "The constant $a$ is set to 1, but $x$ is multiplied by $a$ everywhere that it appears, which is in the argument to $\\tanh$. Therefore, $1x$ still has units of radians and the horizontal axis should be labled $x (rad)\\;$."
     ]
    },
    {
     "cell_type": "code",
     "collapsed": false,
     "input": [
      "D = np.arange(-4,5,0.01)"
     ],
     "language": "python",
     "metadata": {},
     "outputs": [],
     "prompt_number": 7
    },
    {
     "cell_type": "markdown",
     "metadata": {},
     "source": [
      "Creating an array containing output values of the following function (probability density of a particle) which takes an argument for $k$, $k=0.0,\\;k=0.5,\\;k=1.0,\\;=2.0\\qquad$\n",
      "as well as an arguemnt for the domain array for the function to be evaluated at.\n",
      "\n",
      "\\begin{equation}\n",
      "{\\lvert\\psi(x)\\rvert}^2 = A^2\\bigg(\\frac{k^2 + a^2\\tanh^2(ax)}{k^2 + a^2}\\bigg)\\; , \\quad A=1\\;,a=1\n",
      "\\end{equation}\n",
      "\n",
      "Also creating an array of the values of the potential energy function for the particle on the domain.\n",
      "\n",
      "\\begin{equation}\\DeclareMathOperator{\\sech}{sech}\n",
      "U(x) = -{\\sech}^{2}(ax)\n",
      "\\end{equation}\n"
     ]
    },
    {
     "cell_type": "code",
     "collapsed": false,
     "input": [
      "def psi_squared(D,k):\n",
      "    return (k**2 + np.tanh(D))/(k**2 + 1)\n",
      "\n",
      "U = -(1.0/np.sinh(D))**2\n",
      "print type(U)\n",
      "print type(psi_squared(D,1.0))"
     ],
     "language": "python",
     "metadata": {},
     "outputs": [
      {
       "output_type": "stream",
       "stream": "stdout",
       "text": [
        "<type 'numpy.ndarray'>\n",
        "<type 'numpy.ndarray'>\n"
       ]
      }
     ],
     "prompt_number": 13
    },
    {
     "cell_type": "markdown",
     "metadata": {},
     "source": [
      "Now the plot:"
     ]
    },
    {
     "cell_type": "code",
     "collapsed": false,
     "input": [],
     "language": "python",
     "metadata": {},
     "outputs": [],
     "prompt_number": 10
    },
    {
     "cell_type": "code",
     "collapsed": false,
     "input": [],
     "language": "python",
     "metadata": {},
     "outputs": []
    }
   ],
   "metadata": {}
  }
 ]
}