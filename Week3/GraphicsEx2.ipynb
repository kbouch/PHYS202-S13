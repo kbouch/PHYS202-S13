{
 "metadata": {
  "name": "GraphicsEx2"
 },
 "nbformat": 3,
 "nbformat_minor": 0,
 "worksheets": [
  {
   "cells": [
    {
     "cell_type": "markdown",
     "metadata": {},
     "source": [
      "Publication quality graphics, Exercise 2\n",
      "=\n",
      "\n",
      "_April 18 2013_\n",
      "\n",
      "- - -\n",
      "    `%%%%%%%%%%%%%%%%%%%%%%%%%%%%%%%%%%%%%%%%%%%%\n",
      "    %\n",
      "    % I pledge on my honor that I have not given\n",
      "    % or received any unauthorized assistance\n",
      "    % on this assignment/examination.\n",
      "    %\n",
      "    % Signed: Kyle Boucher\n",
      "    % Dated: April 18 2013\n",
      "    %\n",
      "    %%%%%%%%%%%%%%%%%%%%%%%%%%%%%%%%%%%%%%%%%%%%`\n",
      "- - -\n",
      "\n",
      "__Question 1__\n",
      "\n",
      "[Math Latex][1] reference.\n",
      "\n",
      "[1]:ftp://ftp.ams.org/pub/tex/doc/amsmath/short-math-guide.pdf"
     ]
    },
    {
     "cell_type": "markdown",
     "metadata": {},
     "source": [
      "(a)\n",
      "\\begin{equation}\n",
      "\\psi(x) = A\\Big(\\frac{ik - a\\tanh(ax)}{ik + a}\\Big) e^{+ikx}\n",
      "\\end{equation}\n",
      "\n",
      "(b)\n",
      "\\begin{equation}\n",
      "v_{1} = m_{2}\\sqrt{\\frac{2G}{M}\\Big(\\frac{1}{r}-\\frac{1}{r_{0}}\\Big)}\n",
      "\\end{equation}\n",
      "\n",
      "(c)\n",
      "\\begin{equation}\n",
      "f(\\theta) = \\frac{\\hslash}{p}\\sum_{l=0} ^{\\infty} (2l + 1)e^{i\\delta_{l}}\\sin\\delta_lP_l(\\cos\\theta)\n",
      "\\end{equation}\n",
      "\n",
      "(d)\n",
      "\\begin{equation}\n",
      "\\frac{d\\sigma}{d\\Omega} = \\frac{\\displaystyle k\\pi^2(\\pi - \\theta)}{\\displaystyle mu_0 ^2 (2\\pi - \\theta)^2\\sin{\\theta}}\n",
      "\\end{equation}\n",
      "\n",
      "(e)\n",
      "\\begin{equation}\n",
      "\\langle f \\rangle = \\frac{1}{\\tau}\\int_0 ^\\tau f(t)dt\n",
      "\\end{equation}\n",
      "\n",
      "(f)\n",
      "\\begin{equation}\n",
      "\\Omega_S = \\omega \\frac{\\sin{\\alpha}}{\\sin{\\theta}} = \\frac{L}{\\lambda_1} = \\omega\\frac{\\displaystyle \\sqrt{ \\lambda_3 ^2 + ( \\lambda_1 ^2 - \\lambda_3 ^2)\\sin{\\alpha}}}{\\displaystyle \\lambda_1}\n",
      "\\end{equation}"
     ]
    },
    {
     "cell_type": "code",
     "collapsed": false,
     "input": [],
     "language": "python",
     "metadata": {},
     "outputs": []
    }
   ],
   "metadata": {}
  }
 ]
}