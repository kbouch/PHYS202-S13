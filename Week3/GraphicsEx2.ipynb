{
 "metadata": {
  "name": "GraphicsEx2"
 },
 "nbformat": 3,
 "nbformat_minor": 0,
 "worksheets": [
  {
   "cells": [
    {
     "cell_type": "markdown",
     "metadata": {},
     "source": [
      "Publication quality graphics, Exercise 2\n",
      "=\n",
      "\n",
      "_April 18 2013_\n",
      "\n",
      "- - -\n",
      "`%%%%%%%%%%%%%%%%%%%%%%%%%%%%%%%%%%%%%%%%%%%%%\n",
      "%\n",
      "% I pledge on my honor that I have not given\n",
      "% or received any unauthorized assistance\n",
      "% on this assignment/examination.\n",
      "%\n",
      "% Signed: Kyle Boucher\n",
      "% Dated: April 19 2013\n",
      "%\n",
      "%%%%%%%%%%%%%%%%%%%%%%%%%%%%%%%%%%%%%%%%%%%%`\n",
      "- - -\n",
      "\n",
      "#Question 1\n",
      "\n",
      "[Math Latex][1] reference.\n",
      "\n",
      "[1]:ftp://ftp.ams.org/pub/tex/doc/amsmath/short-math-guide.pdf"
     ]
    },
    {
     "cell_type": "markdown",
     "metadata": {},
     "source": [
      "(a)\n",
      "\\begin{equation}\n",
      "\\psi(x) = A\\bigg(\\frac{ik - a\\tanh(ax)}{ik + a}\\bigg) e^{+ikx}\n",
      "\\end{equation}\n",
      "\n",
      "(b)\n",
      "\\begin{equation}\n",
      "v_{1} = m_{2}\\sqrt{\\frac{2G}{M}\\bigg(\\frac{1}{r}-\\frac{1}{r_{0}}\\bigg)}\n",
      "\\end{equation}\n",
      "\n",
      "(c)\n",
      "\\begin{equation}\n",
      "f(\\theta) = \\frac{\\hslash}{p} \\sum_{\\ell = 0} ^{\\infty} (2\\ell + 1)e^{i\\delta_{\\ell}}\\sin\\delta_{\\ell}P_{\\ell}(\\cos\\theta)\n",
      "\\end{equation}\n",
      "\n",
      "(d)\n",
      "\\begin{equation}\n",
      "\\frac{d\\sigma}{d\\Omega} = \\frac{\\displaystyle k\\pi^2(\\pi - \\theta)}{\\displaystyle mu_0 ^2 (2\\pi - \\theta)^2\\sin{\\theta}}\n",
      "\\end{equation}\n",
      "\n",
      "(e)\n",
      "\\begin{equation}\n",
      "\\langle f \\rangle = \\frac{1}{\\tau}\\int_0 ^\\tau f(t)dt\n",
      "\\end{equation}\n",
      "\n",
      "(f)\n",
      "\\begin{equation}\n",
      "\\Omega_S = \\omega \\frac{\\sin{\\alpha}}{\\sin{\\theta}} = \\frac{L}{\\lambda_1} = \\omega\\frac{\\displaystyle \\sqrt{ \\lambda_3 ^2 + ( \\lambda_1 ^2 - \\lambda_3 ^2)\\sin{\\alpha}}}{\\displaystyle \\lambda_1}\n",
      "\\end{equation}"
     ]
    },
    {
     "cell_type": "markdown",
     "metadata": {},
     "source": [
      "#Question 2\n",
      "\n",
      "I will use the numpy and matplotlib.pyplot, which are already sourced into the namespace by matplotlib.pylab, but I will re-import them for clarity."
     ]
    },
    {
     "cell_type": "code",
     "collapsed": false,
     "input": [
      "import numpy as np\n",
      "import matplotlib.pyplot as plt"
     ],
     "language": "python",
     "metadata": {},
     "outputs": [],
     "prompt_number": 1
    },
    {
     "cell_type": "markdown",
     "metadata": {},
     "source": [
      "Create closely-spaced values in the interval $\\\\{x \\in \\mathbb{R}\\vert-4\\le x\\le 4\\\\}\\quad$ to serve as the domain for the two functions.\n",
      "\n",
      "The constant $a$ is set to 1, but $x$ is multiplied by $a$ everywhere that it appears, which is in the argument to $\\tanh$. Therefore, $1x$ still has units of radians and the horizontal axis should be labled $x (rad)\\;$."
     ]
    },
    {
     "cell_type": "code",
     "collapsed": false,
     "input": [
      "D = np.arange(-4, 4.01, 0.01)\n",
      "print D[:10]\n",
      "print\n",
      "print D[790:]"
     ],
     "language": "python",
     "metadata": {},
     "outputs": [
      {
       "output_type": "stream",
       "stream": "stdout",
       "text": [
        "[-4.   -3.99 -3.98 -3.97 -3.96 -3.95 -3.94 -3.93 -3.92 -3.91]\n",
        "\n",
        "[ 3.9   3.91  3.92  3.93  3.94  3.95  3.96  3.97  3.98  3.99  4.  ]\n"
       ]
      }
     ],
     "prompt_number": 2
    },
    {
     "cell_type": "markdown",
     "metadata": {},
     "source": [
      "Creating an array containing output values of the following function (probability density of a particle) which takes an argument for $k$, $k=0.0,\\;k=0.5,\\;k=1.0,\\;=2.0\\qquad$\n",
      "as well as an arguemnt for the domain array for the function to be evaluated at.\n",
      "\n",
      "\\begin{equation}\n",
      "{\\lvert\\psi(x)\\rvert}^2 = A^2\\bigg(\\frac{k^2 + a^2\\tanh^2(ax)}{k^2 + a^2}\\bigg)\\; , \\quad A=1\\;,a=1\n",
      "\\end{equation}\n",
      "\n",
      "Also creating an array of the values of the potential energy function for the particle on the domain.\n",
      "\n",
      "\\begin{equation}\\DeclareMathOperator{\\sech}{sech}\n",
      "U(x) = -{\\sech}^{2}(ax)\n",
      "\\end{equation}\n"
     ]
    },
    {
     "cell_type": "code",
     "collapsed": false,
     "input": [
      "def psi_squared(D,k):\n",
      "    return (k**2 + (np.tanh(D))**2)/(k**2 + 1)\n",
      "\n",
      "\n",
      "U = -(1.0/np.cosh(D))**2\n",
      "\n",
      "\n",
      "print type(U)\n",
      "print type(psi_squared(D,1.0))"
     ],
     "language": "python",
     "metadata": {},
     "outputs": [
      {
       "output_type": "stream",
       "stream": "stdout",
       "text": [
        "<type 'numpy.ndarray'>\n",
        "<type 'numpy.ndarray'>\n"
       ]
      }
     ],
     "prompt_number": 43
    },
    {
     "cell_type": "markdown",
     "metadata": {},
     "source": [
      "Now the plot:\n",
      "\n",
      "I wanted to define the psi_squared curves iteratively, so I did. The zip function combines elements of a certain index in multiple lists into one tuple inside located single list at that same index."
     ]
    },
    {
     "cell_type": "code",
     "collapsed": false,
     "input": [
      "plt.plot(D, U, color='b', linewidth=3.0, linestyle='-', label='$U(x)$', scalex=False, scaley=False)\n",
      "for k_fmt in zip([0.0,0.5,1.0,2.0],['-','--','-.',':']):\n",
      "    plt.plot(D, psi_squared(D,k_fmt[0]), color='r', linewidth=3.0, linestyle=k_fmt[1], label= '$ { | \\psi (x) | }^2 \\; ,k= %d $' % (k_fmt[0],))\n",
      "\n",
      "#axis([xmin,xmax,ymin,ymax])\n",
      "axis([-4.0,4.0,-1.2,1.2])\n",
      "\n",
      "grid(b=True, which='major', axis='both')\n",
      "\n",
      "plt.xlabel('$ x (rad) $', fontsize=15)\n",
      "plt.ylabel('$ U(x), \\; {| \\psi (x) |} ^2 $', fontsize=15)\n",
      "plt.legend(loc='lower left')\n",
      "\n",
      "xlocs = np.arange(-np.pi,np.pi + 0.5*np.pi,(np.pi/2.0))\n",
      "xticklabels = np.array(['$ - \\pi $','$ - \\pi / 2 $','$0$','$ \\pi / 2 $','$ \\pi $'], dtype='string')\n",
      "\n",
      "ylocs = np.arange(-1.0,1.5,0.5)\n",
      "yticklabels = np.array(['$-1.0$','$-0.5$','$0.0$','$0.5$','$1.0$'],dtype='string')\n",
      "\n",
      "(a,b) = plt.xticks(xlocs,xticklabels)\n",
      "(c,d) = plt.yticks(ylocs,yticklabels)"
     ],
     "language": "python",
     "metadata": {},
     "outputs": [
      {
       "output_type": "display_data",
       "png": "[encoded data removed]"
      }
     ],
     "prompt_number": 121
    },
    {
     "cell_type": "markdown",
     "metadata": {},
     "source": [
      "Note: the parser within matplotlib module would not accept the following math LaTeX commands:\n",
      "\n",
      "+ `\\vert , \\lvert , \\abs{x} , \\norm{x}`\n",
      "+ `\\vec{x} , \\bar{x}, \\overset{-}`\n",
      "+ `\\biggl , \\biggr , and related delimiter size modifications`\n",
      "+ `\\displaystyle`\n",
      "\n",
      "There are probably even more limitations for line and axis lables."
     ]
    },
    {
     "cell_type": "markdown",
     "metadata": {},
     "source": [
      "I probed into the module `matplotlib` by looking at docstrings using ipython notebook's `?` operator. I was trying to find how to set the plot window dimensions and how to turn on grid lines.\n",
      "\n",
      "    plt.plot?\n",
      "    xticks?\n",
      "    \n",
      "    matplotlib?\n",
      "\n",
      "    matplotlib.axes.Tick?\n",
      "    matplotlib.axes?\n",
      "    matplotlib.axes.Axes?\n",
      "    matplotlib.axis?\n",
      "    matplotlib.axis.Axis?\n",
      "    pyplot.axis?\n",
      "    pyplot.grid?\n",
      "\n",
      "Later I remembered that can press tab after I type `matplotlib.` to see what is availble. The class definition docstrings were not helpful. The useful functions are all in `pyplot` . "
     ]
    },
    {
     "cell_type": "markdown",
     "metadata": {},
     "source": [
      "Once the formatting is done, the last problem is to resize the plot so that the legend is not large compared to the data."
     ]
    },
    {
     "cell_type": "code",
     "collapsed": false,
     "input": [],
     "language": "python",
     "metadata": {},
     "outputs": []
    }
   ],
   "metadata": {}
  }
 ]
}