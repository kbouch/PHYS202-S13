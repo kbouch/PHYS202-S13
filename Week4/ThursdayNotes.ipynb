{
 "metadata": {
  "name": "ThursdayNotes"
 },
 "nbformat": 3,
 "nbformat_minor": 0,
 "worksheets": [
  {
   "cells": [
    {
     "cell_type": "markdown",
     "metadata": {},
     "source": [
      "##Physics 202 Week 4 Thursday Notes\n"
     ]
    },
    {
     "cell_type": "code",
     "collapsed": false,
     "input": [
      "from Electrostatics import *"
     ],
     "language": "python",
     "metadata": {},
     "outputs": [],
     "prompt_number": 1
    },
    {
     "cell_type": "code",
     "collapsed": false,
     "input": [
      "help(pointPotential)\n",
      "print k\n",
      "print e\n",
      "help(dipolePotential)"
     ],
     "language": "python",
     "metadata": {},
     "outputs": [
      {
       "output_type": "stream",
       "stream": "stdout",
       "text": [
        "Help on function pointPotential in module Electrostatics:\n",
        "\n",
        "pointPotential(x, y, q, xo=0.0, yo=0.0, k=8987552000.0)\n",
        "    Takes two numbers,lists, tuples, or two arrays with the same shape, such as two 2D arrays x and y \n",
        "    created from np.meshgrid(). Also take charge of the point particle as a float including sign.\n",
        "    Ouputs an array of the same shape with the scalar electric potential values evaluated at each array element.\n",
        "    xo and yo are the coordinates of the charge in the xy plane, both default to zero. k is the coulumb force constant \n",
        "    1/4pi(epsilon_not)defualts to the SI value 8.987552e9 with units (Newton)(meter^2)/(Coulumb^2).\n",
        "    Note: this module contains k and the fundamental charge e as constants.\n",
        "\n",
        "8987552000.0\n",
        "1.60217649e-19\n",
        "Help on function dipolePotential in module Electrostatics:\n",
        "\n",
        "dipolePotential(x, y, q, d, a, k=8987552000.0, ang=0.0, xc=0.0, yc=0.0)\n",
        "    x, y are equally shaped ndarrays or lists, tuples, or coordinates. Returns a new array\n",
        "    with the same shape, returning the result of evaluating the dipole potential for the respective x and y elements.\n",
        "    Also needs k,q,d specified.\n",
        "    k is the coulumb force constant 1/4pi(epsilon_not)defualts to the SI value 8.987552e9 with units (Newton)(meter^2)/(Coulumb^2).\n",
        "    q is the charge magnitude of both separated point charges. If q > 0, then the positive charge goes on the positive axis direction.\n",
        "    d is the distance each charge is from the origin along the y axis. The positive charge is on the positive y axis.\n",
        "    a is the axis designation: takes 'x', 'y', or 'a'. If a second character is added after the letter, both charges will have the same sign.\n",
        "    The optional arguments ang, xc, yc orient the dipole axis at an angle to the x axis. xc, yc change the central location\n",
        "\n"
       ]
      }
     ],
     "prompt_number": 5
    },
    {
     "cell_type": "code",
     "collapsed": false,
     "input": [
      "import numpy as np"
     ],
     "language": "python",
     "metadata": {},
     "outputs": [],
     "prompt_number": 3
    },
    {
     "cell_type": "code",
     "collapsed": false,
     "input": [
      "x,y = np.meshgrid(np.arange(-0.0500,0.0511,0.0011),np.arange(-0.0500,0.0511,0.0011))\n",
      "q1 = 2*e # Coulumbs\n",
      "x1 = 0.0 # meters\n",
      "y1 = -0.005 # meters\n",
      "qd = 3*e # Coulumbs\n",
      "d = 0.01 # meters, dipole  charge seperation.\n",
      "\n",
      "Vtot = pointPotential(x,y,q1,x1,y1) + dipolePotential("
     ],
     "language": "python",
     "metadata": {},
     "outputs": []
    }
   ],
   "metadata": {}
  }
 ]
}