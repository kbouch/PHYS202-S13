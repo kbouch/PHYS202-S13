{
 "metadata": {
  "name": "ProjectEuler19"
 },
 "nbformat": 3,
 "nbformat_minor": 0,
 "worksheets": [
  {
   "cells": [
    {
     "cell_type": "markdown",
     "metadata": {},
     "source": [
      "##Counting Sundays\n",
      "\n",
      "__Problem 19__\n",
      "\n",
      "You are given the following information, but you may prefer to do some research for yourself.\n",
      "\n",
      ">+ 1 Jan 1900 was a Monday.\n",
      ">+ Thirty days has September,\n",
      ">+ April, June and November.\n",
      ">+ All the rest have thirty-one,\n",
      ">+ Saving February alone,\n",
      ">+ Which has twenty-eight, rain or shine.\n",
      ">+ And on leap years, twenty-nine.\n",
      ">+ A leap year occurs on any year evenly divisible by 4, but not on a century unless it is divisible by 400.\n",
      "\n",
      "How many Sundays fell on the first of the month during the twentieth century (1 Jan 1901 to 31 Dec 2000)?\n"
     ]
    },
    {
     "cell_type": "code",
     "collapsed": false,
     "input": [
      "print datetime.datetime.now()"
     ],
     "language": "python",
     "metadata": {},
     "outputs": [
      {
       "output_type": "stream",
       "stream": "stdout",
       "text": [
        "2013-04-28 19:40:04.406595\n"
       ]
      }
     ],
     "prompt_number": 5
    },
    {
     "cell_type": "markdown",
     "metadata": {},
     "source": [
      "The python datetime module expresses dates as `year-month-day`. In my program, I want to express the date as a 3-tuple of integers: (year, month, day).\n",
      "I will make a funciton that converts between the two forms.\n",
      "\n",
      "I may also express dates as a 2-tuple containing a starting date, and then second entry with the number of other days after the starting date until the ending date."
     ]
    },
    {
     "cell_type": "code",
     "collapsed": false,
     "input": [
      "def date_form(data):\n",
      "    \"\"\" Takes a 3-tuple of integers (year,month,day) and converts it to a string with the python datetime 'year-month-day' format.\n",
      "    If the argment is a string with the format just described, the function converts the data to a 3-tuple.\n",
      "    \"\"\"\n",
      "    \n",
      "    if type(data) == str:\n",
      "        newdata = (0,0,0)\n",
      "        newdata[0] = int(data[:4])\n",
      "        newdata[1] = int(data[5:7])\n",
      "        newdata[2] = int(data[8:])\n",
      "        return newdata\n",
      "    if type(data) == tuple:\n",
      "        return str(data[0])+'-'+str(data[1])+'-'+str(data[2])\n",
      "    "
     ],
     "language": "python",
     "metadata": {},
     "outputs": [],
     "prompt_number": 24
    },
    {
     "cell_type": "markdown",
     "metadata": {},
     "source": [
      "In the next cell I define functions that I need to count days and also to identify a date specified as an integer index number of days after an anchor date (zero_date)."
     ]
    },
    {
     "cell_type": "code",
     "collapsed": false,
     "input": [
      "import numpy as np\n",
      "\n",
      "def monthlen(y,m):\n",
      "    \"\"\" Requires both the year and month integers to check is the year is a leap year and give February the correct number of days.\n",
      "    \"\"\"\n",
      "    if m == 2:\n",
      "        if (y % 4 == 0 and (not y % 100 == 0) ) or y % 400 == 0:\n",
      "            f = 29\n",
      "        else: \n",
      "            f = 28  \n",
      "    else:\n",
      "        f = 28\n",
      "        \n",
      "    return (0,31,f,31,30,31,30,31,31,30,31,30,31)[m]\n",
      "\n",
      "def yearlen(y):\n",
      "    \"\"\" Gives the number of days in the year, accounting for leap years.\n",
      "    \"\"\"\n",
      "    return 337 + monthlen(y,2)\n",
      "\n",
      "    \n",
      "def days_between(start,end):\n",
      "    \"\"\" Counts the number of days between the two dates, not including the ending date.\n",
      "    \"\"\"\n",
      "    count = 0\n",
      "                                        # I split the interval between start and end into three parts. The first part is all the days within\n",
      "                                        # the starting year. The middle part is all the days in (starting year + 1) through (ending year - 1).\n",
      "                                        # The last part is all the days within the ending year.\n",
      "                \n",
      "    for y in range(start[0],end[0]):    # adds to count the days of each year including the starting year, excluding ending year\n",
      "        count += yearlen(y)\n",
      "    \n",
      "    s_y = start[0]\n",
      "    e_y = end[0]\n",
      "    for m in range(1,start[1]):         # subtracts from count all the days in starting year prior to starting month\n",
      "        count -= monthlen(s_y,m)\n",
      "    \n",
      "    for m in range(1,end[1]):           # adds days in the months of ending year prior to ending month\n",
      "        count += monthlen(e_y,m)\n",
      "    \n",
      "    count = count -(start[2]-1) + end[2]    # subtracts days prior to starting day in starting month, and adds days of ending month \n",
      "    \n",
      "    return count -1\n",
      "\n",
      "\n",
      "def index_to_date(index,zero_date):\n",
      "    \"\"\" Takes an integers representing the days including and after the zero_date and returns the date in 3-tuple.\n",
      "    \"\"\"\n",
      "    integer = index + 1\n",
      "    result_date = (0,0,0)\n",
      "    \n",
      "    next_year = ()\n",
      "    next_year[0] = zero_date[0] + 1\n",
      "    next_year[1:] = (1,1)\n",
      "    \n",
      "    left_in_year = days_between(zero_date,next_year)\n",
      "    \n",
      "    \n",
      "   \n",
      "    years_ahead =((integer - left_in_year) // 365) + 1     # will return a number greater than or equal to the actual number of years \n",
      "                                                   # spanned by integer number of days (after completing the first year of zero_date)\n",
      "                                                   # because it assumes every year only has 365 days.\n",
      "                                                   # This allows me to set an upper limit on how far ahead to guess a date.\n",
      "    \n",
      "    y_estim = zero_date[0] + years_ahead\n",
      "    \n",
      "    while integer - left_in_year - days_between(zero_date,(y_estim,1,1)) < 0:\n",
      "                                                      # integer is often an array index. It is zero when the referenced day is the zero_date\n",
      "        y_estim -= 1                                  # add one to integer to include the zero_date in the count of days minus the days left in the year\n",
      "    else:                                             # (days_between function included the zero_date in its count on the prevous line, but not \n",
      "        result_year = y_estim                         # the first day of next_year).\n",
      "    \n",
      "    integer_remain = integer - days_between(zero_date,(y_estim,1,1))\n",
      "    \n",
      "    #### do the same for the months\n",
      "    \n",
      "    m_estim = (integer_remain // 28) + 1\n",
      "    \n",
      "    while integer_remain - days_between((result_year,1,1),(result_year,m_estim,1)) < 0:\n",
      "        m_estim -= 1\n",
      "    else:\n",
      "        result_month = m_estim\n",
      "    \n",
      "    result_day = integer_remain - days_between((result_year,1,1),(result_year,result_month,1))\n",
      "    \n",
      "    result_date = (result_year,result_month,result_day)\n",
      "    return result_date\n",
      "    \n",
      "    \n",
      "        \n",
      "    \n",
      "\n",
      "def date_to_index(date,zero_date):\n",
      "    pass\n",
      "    \n",
      "    \n",
      "def find_firsts(start):\n",
      "    pass"
     ],
     "language": "python",
     "metadata": {},
     "outputs": [],
     "prompt_number": 42
    },
    {
     "cell_type": "markdown",
     "metadata": {},
     "source": [
      "In the next cell I find the last sunday in the year 1900, based on the fact that 1 Jan 1900 was a monday.\n",
      "\n",
      "Then, I create an array of ones with the length of the number of days in the century. I create a mask array that has a one at the position of each sunday and another mask array that has a one at the position for the first day of each month. I will multiply the three arrays and see which days are left with a one in their slot."
     ]
    },
    {
     "cell_type": "code",
     "collapsed": false,
     "input": [
      "reference_len = days_between((1900,1,1),(1901,1,1))\n",
      "print reference_len\n",
      "refernce_1900 = np.ones((reference_len),dtype=int_)  # set up array with length of 1900\n",
      "\n",
      "# find the last sunday in 1900\n",
      "last_index_in_reference = range(0,reference_len,7)[-1]  # return indicies of Sundays in reference_1900 array, including i=7 (8th array element)\n",
      "                                                  # since first day of 1900 is a monday, 8th day is sunday. select last integer in the list\n",
      "                                                  # created by range()\n",
      "\n",
      "first_sunday_index = (last_index_in_reference) - (reference_len - 1) + 6\n",
      "\n",
      "\n",
      "century_len = days_between((1901,1,1),(2001,1,1))\n",
      "print century_len\n",
      "\n",
      "\n",
      "daysslew_anchor1901 = np.ones((century_len),dtype=np.int_)\n",
      "\n",
      "sundays_mask = np.zeros((century_len),dtype=np.int_)\n",
      "sundays_index = np.arange(first_sunday_index,array_len,7)\n",
      "for i in sundays_index:\n",
      "    sundays_mask[i] = 1\n",
      "    \n",
      "month_firsts_mask = np.zeros((century_len),dtype=np.int_)\n",
      "\n",
      "\n"
     ],
     "language": "python",
     "metadata": {},
     "outputs": [
      {
       "output_type": "stream",
       "stream": "stdout",
       "text": [
        "365\n",
        "36525\n"
       ]
      }
     ],
     "prompt_number": 38
    },
    {
     "cell_type": "markdown",
     "metadata": {},
     "source": [
      "Here I use my functions index_to_date() and date_form() to display my results."
     ]
    },
    {
     "cell_type": "code",
     "collapsed": false,
     "input": [],
     "language": "python",
     "metadata": {},
     "outputs": []
    },
    {
     "cell_type": "markdown",
     "metadata": {},
     "source": [
      "Make a giant one-dimentional array containing ones. Create a second array of equal length with a one at indicies for Sundays, and a zero for all the other days.\n",
      "Multiply the two arrays."
     ]
    }
   ],
   "metadata": {}
  }
 ]
}