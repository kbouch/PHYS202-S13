{
 "metadata": {
  "name": "ProjectEuler19"
 },
 "nbformat": 3,
 "nbformat_minor": 0,
 "worksheets": [
  {
   "cells": [
    {
     "cell_type": "markdown",
     "metadata": {},
     "source": [
      "##Counting Sundays\n",
      "\n",
      "__Problem 19__\n",
      "\n",
      "You are given the following information, but you may prefer to do some research for yourself.\n",
      "\n",
      ">+ 1 Jan 1900 was a Monday.\n",
      ">+ Thirty days has September,\n",
      ">+ April, June and November.\n",
      ">+ All the rest have thirty-one,\n",
      ">+ Saving February alone,\n",
      ">+ Which has twenty-eight, rain or shine.\n",
      ">+ And on leap years, twenty-nine.\n",
      ">+ A leap year occurs on any year evenly divisible by 4, but not on a century unless it is divisible by 400.\n",
      "\n",
      "How many Sundays fell on the first of the month during the twentieth century (1 Jan 1901 to 31 Dec 2000)?\n"
     ]
    },
    {
     "cell_type": "code",
     "collapsed": false,
     "input": [
      "print datetime.datetime.now()"
     ],
     "language": "python",
     "metadata": {},
     "outputs": [
      {
       "output_type": "stream",
       "stream": "stdout",
       "text": [
        "2013-05-03 23:49:18.497076\n"
       ]
      }
     ],
     "prompt_number": 49
    },
    {
     "cell_type": "markdown",
     "metadata": {},
     "source": [
      "The python datetime module expresses dates as `year-month-day`. In my program, I want to express the date as a list of integers: [year, month, day].\n",
      "I will make a funciton that converts between the two forms.\n",
      "\n",
      "I may also express dates as a 2-tuple containing a starting date, and then second entry with the number of other days after the starting date until the ending date."
     ]
    },
    {
     "cell_type": "code",
     "collapsed": false,
     "input": [
      "def date_form(data):\n",
      "    import string\n",
      "    \"\"\" Takes a list of 3 integers [year,month,day]\n",
      "    and converts it to a string with the python datetime 'year-month-day' format.\n",
      "    If the argment is a string with the format just described,\n",
      "    the function converts the data to a 3-tuple.\n",
      "    \"\"\"\n",
      "    \n",
      "    if type(data) == str:\n",
      "        newdata = [0,0,0]\n",
      "        newdata[0] = int(data[:4])\n",
      "        newdata[1] = int(data[5:7])\n",
      "        newdata[2] = int(data[8:])\n",
      "        return newdata\n",
      "    if type(data) in (list,tuple):\n",
      "        if data[1] < 10:\n",
      "            d1 = '0'\n",
      "        else:\n",
      "            d1 = ''\n",
      "        if data[2] < 10:\n",
      "            d2 = '0'\n",
      "        else:\n",
      "            d2 = ''\n",
      "        \n",
      "        return str(data[0])+'-'+d1+str(data[1])+'-'+d2+str(data[2])\n",
      "    \n",
      "    "
     ],
     "language": "python",
     "metadata": {},
     "outputs": [
      {
       "output_type": "stream",
       "stream": "stdout",
       "text": [
        "\n"
       ]
      }
     ],
     "prompt_number": 131
    },
    {
     "cell_type": "code",
     "collapsed": false,
     "input": [
      "d = [2013,5,3]\n",
      "print date_form(d)\n",
      "print date_form(date_form([2013,12,31]))"
     ],
     "language": "python",
     "metadata": {},
     "outputs": [
      {
       "output_type": "stream",
       "stream": "stdout",
       "text": [
        "2013-05-03\n",
        "[2013, 12, 31]\n"
       ]
      }
     ],
     "prompt_number": 139
    },
    {
     "cell_type": "markdown",
     "metadata": {},
     "source": [
      "In the next cell I define functions that I need to count days and also to identify a date specified as an integer index number of days after an anchor date (zero_date)."
     ]
    },
    {
     "cell_type": "code",
     "collapsed": false,
     "input": [
      "import numpy as np\n",
      "import math\n",
      "\n",
      "def monthlen(y,m):\n",
      "    \"\"\" Requires both the year and month integers to check if the \n",
      "    year is a leap year and give February the correct number of days.\n",
      "    \"\"\"\n",
      "    if m == 2:\n",
      "        if (y % 4 == 0 and (not y % 100 == 0) ) or y % 400 == 0:\n",
      "            f = 29\n",
      "        else: \n",
      "            f = 28  \n",
      "    else:\n",
      "        f = 28\n",
      "    \n",
      "    standard_month_len = (0,31,f,31,30,31,30,31,31,30,31,30,31)\n",
      "    return standard_month_len[m]\n",
      "\n",
      "def yearlen(y):\n",
      "    \"\"\" Gives the number of days in the year, accounting for leap years.\n",
      "    \"\"\"\n",
      "    return 337 + monthlen(y,2)\n",
      "\n",
      "\n",
      "def days_between(start,end):\n",
      "    \"\"\" Counts the number of days between the two dates, not including the ending date.\n",
      "    \"\"\"\n",
      "    count = 0\n",
      "    # I split the interval between start and end into three parts. The first part is all the days within\n",
      "    # the starting year. The middle part is all the days in (starting year + 1) through (ending year - 1).\n",
      "    # The last part is all the days within the ending year.\n",
      "    \n",
      "    # adds to count the days of each year including the starting year, excluding ending year\n",
      "    for y in range(start[0],end[0]):\n",
      "        count += yearlen(y)\n",
      "    s_y = start[0]\n",
      "    e_y = end[0]\n",
      "    \n",
      "    # subtracts from count all the days in starting year prior to starting month\n",
      "    for m in range(1,start[1]):         \n",
      "        count -= monthlen(s_y,m)\n",
      "    \n",
      "    # adds days in the months of ending year prior to ending month\n",
      "    for m in range(1,end[1]):           \n",
      "        count += monthlen(e_y,m)\n",
      "    \n",
      "    # subtracts days prior to starting day in starting month, and adds days of ending month\n",
      "    count = count -(start[2]-1) + end[2]     \n",
      "    \n",
      "    return count -1\n",
      "\n",
      "\n",
      "def index_to_date(index,zero_date):\n",
      "    \"\"\" Takes an integers representing the days including and after the zero_date \n",
      "    and returns the date in a list of 3 integers.\n",
      "    \"\"\"\n",
      "    #print '---NEXT---'\n",
      "    integer = index + 1\n",
      "    \n",
      "    result_date = [0,1,1]\n",
      "    \n",
      "    next_year = [0,1,1]\n",
      "    next_year[0] = zero_date[0] + 1\n",
      "    \n",
      "    left_in_year = days_between(zero_date,next_year)\n",
      "    \n",
      "    if integer > left_in_year:\n",
      "        years_ahead = ((integer - left_in_year) // 365) + 1\n",
      "        while years_ahead >= 365 * 4:\n",
      "            #print 'big'\n",
      "            years_ahead += years_ahead // 365\n",
      "        \n",
      "        result_date[0] = zero_date[0] + years_ahead\n",
      "        integer_remain = integer - days_between(zero_date,result_date)\n",
      "    else:\n",
      "        result_date[0] = zero_date[0]\n",
      "        result_date[1] = zero_date[1]\n",
      "        integer_remain = integer\n",
      "    \n",
      "    \n",
      "    #### do the same for the months\n",
      "    \n",
      "    months_ahead = 0\n",
      "    chop_int = integer_remain\n",
      "    #print 'integer_remain',integer_remain\n",
      "    chop_int -= days_between(result_date,[result_date[0], result_date[1] + 1, 1])\n",
      "    #print 'chop_int',chop_int\n",
      "    while chop_int > 0:\n",
      "        months_ahead += 1\n",
      "        #print 'months_ahead',months_ahead\n",
      "        chop_int -= monthlen(result_date[0], result_date[1] + months_ahead)\n",
      "        #print 'chop_int',chop_int\n",
      "    else:\n",
      "        integer_remain -= days_between(result_date, [result_date[0], result_date[1] + months_ahead, 1])\n",
      "        result_date[1] += months_ahead\n",
      "    \n",
      "    \n",
      "    result_date[2] += integer_remain - 1\n",
      "    #print result_date\n",
      "    return result_date\n",
      "    \n",
      "    \n",
      "        \n",
      "    \n",
      "\n",
      "def date_to_index(date,zero_date):\n",
      "    pass\n",
      "    \n",
      "    \n",
      "def find_firsts(start):\n",
      "    pass"
     ],
     "language": "python",
     "metadata": {},
     "outputs": [],
     "prompt_number": 133
    },
    {
     "cell_type": "code",
     "collapsed": false,
     "input": [
      "# test cases\n",
      "print yearlen(1900)\n",
      "print monthlen(2012,2)\n",
      "print 'I\\'ve been alive for '+str(days_between([1993,4,19],[2013,5,3+1]))+' days.' # from my birthday until today \n",
      "print days_between([1900,1,1],[1901,1,1])"
     ],
     "language": "python",
     "metadata": {},
     "outputs": [
      {
       "output_type": "stream",
       "stream": "stdout",
       "text": [
        "365\n",
        "29\n",
        "I've been alive for 7320 days.\n",
        "365\n"
       ]
      }
     ],
     "prompt_number": 134
    },
    {
     "cell_type": "code",
     "collapsed": false,
     "input": [
      "# more test cases\n",
      "# days from 2012-1-1 to 2103-5-3, inclusive\n",
      "print yearlen(2012)\n",
      "days_pre_counted = 366+31+28+31+30+3\n",
      "print date_form(index_to_date(days_pre_counted - 1 , [2012,1,1]))"
     ],
     "language": "python",
     "metadata": {},
     "outputs": [
      {
       "output_type": "stream",
       "stream": "stdout",
       "text": [
        "366\n",
        "2013-05-03\n"
       ]
      }
     ],
     "prompt_number": 135
    },
    {
     "cell_type": "markdown",
     "metadata": {},
     "source": [
      "In the next cell I find the last sunday in the year 1900, based on the fact that 1 Jan 1900 was a monday.\n",
      "\n",
      "Then, I create an array of ones with the length of the number of days in the century. I create a mask array that has a one at the position of each sunday and another mask array that has a one at the position for the first day of each month. I will multiply the three arrays and see which days are left with a one in their slot."
     ]
    },
    {
     "cell_type": "code",
     "collapsed": false,
     "input": [
      "reference_len = yearlen(1900)\n",
      "print 'length of 1900 in days: ',reference_len\n",
      "refernce_1900 = np.ones((reference_len),dtype=int_)  # set up array with length of 1900\n",
      "\n",
      "# find the last sunday in 1900\n",
      "last_sun_index_in_reference = range(-1,reference_len,7)[-1]  # return indicies of Sundays in reference_1900 array, including i=6 (7th array element)\n",
      "                                                  # since first day of 1900 is a monday, 8th day is sunday. select last integer in the list\n",
      "                                                  # created by range()\n",
      "\n",
      "first_sunday_index = 6 - ( (reference_len - 1) - (last_sun_index_in_reference))\n",
      "print 'first_sunday_index ',first_sunday_index\n",
      "\n",
      "century_len = days_between([1901,1,1],[2001,1,1])\n",
      "print 'century length in days: ',century_len\n",
      "\n",
      "\n",
      "daysslew_anchor1901 = np.ones((century_len),dtype=np.int_)\n",
      "\n",
      "sundays_mask = np.zeros((century_len),dtype=np.int_)\n",
      "for i in range(century_len):\n",
      "    if (i-first_sunday_index)%7.0 == 0.0:\n",
      "        sundays_mask[i] = 1\n",
      "    \n",
      "month_firsts_mask = np.zeros((century_len),dtype=np.int_)\n",
      "for i in range(century_len):\n",
      "    if index_to_date(i,[1901,1,1])[2] == 1:\n",
      "        month_firsts_mask[i] = 1\n",
      "\n",
      "\n",
      "encoded_result = daysslew_anchor1901 * sundays_mask * month_firsts_mask"
     ],
     "language": "python",
     "metadata": {},
     "outputs": [
      {
       "output_type": "stream",
       "stream": "stdout",
       "text": [
        "length of 1900 in days:  365\n",
        "first_sunday_index  5\n",
        "century length in days:  36525\n"
       ]
      }
     ],
     "prompt_number": 136
    },
    {
     "cell_type": "markdown",
     "metadata": {},
     "source": [
      "The array `encoded_results` has lenght 36525 and has a one at each index position corresponding to a sunday falling on the first of a month.\n",
      "\n",
      "Here I use my functions index_to_date() and date_form() to display my results."
     ]
    },
    {
     "cell_type": "code",
     "collapsed": false,
     "input": [
      "count = 0\n",
      "for i in range(century_len):\n",
      "    if encoded_result[i] == 1:\n",
      "        count += 1\n",
      "        print date_form(index_to_date(i,[1901,1,1]))[0:7],  # I truncated the day information 'yyyy-mm-01'\n",
      "        \n",
      "print '\\n'\n",
      "print 'There are '+str(count)+' sundays on the first of the month in the twentieth century.'"
     ],
     "language": "python",
     "metadata": {},
     "outputs": [
      {
       "output_type": "stream",
       "stream": "stdout",
       "text": [
        "1901-09 1901-12 1902-06 1903-02 1903-03 1903-11 1904-05 1905-01 1905-10 1906-04 1906-07 1907-09 1907-12 1908-03 1908-11 1909-08 1910-05 1911-01 1911-10 1912-09 1912-12 1913-06 1914-02 1914-03 1914-11 1915-08 1916-10 1917-04 1917-07 1918-09 1918-12 1919-06 1920-02 1920-08 1921-05 1922-01 1922-10 1923-04 1923-07 1924-06 1925-02 1925-03 1925-11 1926-08 1927-05 1928-01 1928-04 1928-07 1929-09 1929-12 1930-06 1931-02 1931-03 1931-11 1932-05 1933-01 1933-10 1934-04 1934-07 1935-09 1935-12 1936-03 1936-11 1937-08 1938-05 1939-01 1939-10 1940-09 1940-12 1941-06 1942-02 1942-03 1942-11 1943-08 1944-10 1945-04 1945-07 1946-09 1946-12 1947-06 1948-02 "
       ]
      },
      {
       "output_type": "stream",
       "stream": "stdout",
       "text": [
        "1948-08 1949-05 1950-01 1950-10 1951-04 1951-07 1952-06 1953-02 1953-03 1953-11 1954-08 1955-05 1956-01 1956-04 1956-07 1957-09 1957-12 1958-06 1959-02 1959-03 1959-11 1960-05 1961-01 1961-10 1962-04 1962-07 1963-09 1963-12 1964-03 1964-11 1965-08 1966-05 1967-01 1967-10 1968-09 1968-12 1969-06 1970-02 1970-03 1970-11 1971-08 1972-10 1973-04 1973-07 1974-09 1974-12 1975-06 1976-02 1976-08 1977-05 1978-01 1978-10 1979-04 1979-07 1980-06 1981-02 1981-03 1981-11 1982-08 1983-05 1984-01 1984-04 1984-07 1985-09 1985-12 1986-06 1987-02 1987-03 1987-11 1988-05 1989-01 1989-10 1990-04 "
       ]
      },
      {
       "output_type": "stream",
       "stream": "stdout",
       "text": [
        "1990-07 1991-09 1991-12 1992-03 1992-11 1993-08 1994-05 1995-01 1995-10 1996-09 1996-12 1997-06 1998-02 1998-03 1998-11 1999-08 2000-10 \n",
        "\n",
        "There are 171 sundays on the first of the month in the twentieth century.\n"
       ]
      }
     ],
     "prompt_number": 138
    },
    {
     "cell_type": "code",
     "collapsed": false,
     "input": [],
     "language": "python",
     "metadata": {},
     "outputs": []
    }
   ],
   "metadata": {}
  }
 ]
}