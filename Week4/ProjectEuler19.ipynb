{
 "metadata": {
  "name": "ProjectEuler19"
 },
 "nbformat": 3,
 "nbformat_minor": 0,
 "worksheets": [
  {
   "cells": [
    {
     "cell_type": "markdown",
     "metadata": {},
     "source": [
      "##Counting Sundays\n",
      "\n",
      "__Problem 19__\n",
      "\n",
      "You are given the following information, but you may prefer to do some research for yourself.\n",
      "\n",
      ">+ 1 Jan 1900 was a Monday.\n",
      ">+ Thirty days has September,\n",
      ">+ April, June and November.\n",
      ">+ All the rest have thirty-one,\n",
      ">+ Saving February alone,\n",
      ">+ Which has twenty-eight, rain or shine.\n",
      ">+ And on leap years, twenty-nine.\n",
      ">+ A leap year occurs on any year evenly divisible by 4, but not on a century unless it is divisible by 400.\n",
      "\n",
      "How many Sundays fell on the first of the month during the twentieth century (1 Jan 1901 to 31 Dec 2000)?\n"
     ]
    },
    {
     "cell_type": "code",
     "collapsed": false,
     "input": [
      "print datetime.datetime.now()"
     ],
     "language": "python",
     "metadata": {},
     "outputs": [
      {
       "output_type": "stream",
       "stream": "stdout",
       "text": [
        "2013-04-28 19:40:04.406595\n"
       ]
      }
     ],
     "prompt_number": 5
    },
    {
     "cell_type": "markdown",
     "metadata": {},
     "source": [
      "The python datetime module expresses dates as `year-month-day`. In my program, I want to express the date as a 3-tuple of integers: (year, month, day).\n",
      "I will make a funciton that converts between the two forms.\n",
      "\n",
      "I may also express dates as a 2-tuple containing a starting date, and then second entry with the number of other days after the starting date until the ending date."
     ]
    },
    {
     "cell_type": "code",
     "collapsed": false,
     "input": [
      "def date_form(data):\n",
      "    \"\"\" Takes a 3-tuple of integers (year,month,day) and converts it to a string with the python datetime 'year-month-day' format.\n",
      "    If the argment is a string with the format just described, the function converts the data to a 3-tuple.\n",
      "    \"\"\"\n",
      "    \n",
      "    if type(data) == str:\n",
      "        newdata = (0,0,0)\n",
      "        newdata[0] = int(data[:4])\n",
      "        newdata[1] = int(data[5:7])\n",
      "        newdata[2] = int(data[8:])\n",
      "        return newdata\n",
      "    if type(data) == tuple:\n",
      "        return str(data[0])+'-'+str(data[1])+'-'+str(data[2])\n",
      "    "
     ],
     "language": "python",
     "metadata": {},
     "outputs": []
    },
    {
     "cell_type": "code",
     "collapsed": false,
     "input": [
      "import numpy as np\n",
      "\n",
      "def monthlen(y,m):\n",
      "    \"\"\" Requires both the year and month integers to check is the year is a leap year and give February the correct number of days.\n",
      "    \"\"\"\n",
      "    if m == 2:\n",
      "        if (y % 4 == 0 and (not y % 100 == 0) ) or y % 400 == 0:\n",
      "            f = 29\n",
      "        else: f = 28  \n",
      "    else:\n",
      "        f = 28\n",
      "        \n",
      "    return (0,31,f,31,30,31,30,31,31,30,31,30,31)[m]\n",
      "\n",
      "def yearlen(y):\n",
      "    \"\"\" Gives the number of days in the year, accounting for leap years.\n",
      "    \"\"\"\n",
      "    return 337 + monthlen(y,2)\n",
      "\n",
      "    \n",
      "def days_between(start,end):\n",
      "    \"\"\" Counts the number of days between the two dates, including both endpoints.\n",
      "    \"\"\"   \n",
      "    count = 0\n",
      "                                        # I split the interval between start and end into three parts. The first part is all the days within\n",
      "                                        # the starting year. The middle part is all the days in (starting year + 1) through (ending year - 1).\n",
      "                                        # The last part is all the days within the ending year.\n",
      "                \n",
      "    for y in range(start[0],end[0]):    # adds to count the days of each year including the starting year, excluding ending year\n",
      "        count += yearlen(y)\n",
      "    for m in range(1,start[1]):         # subtracts from count all the days in starting year prior to starting month\n",
      "        count -= monthlen(y,m)\n",
      "    \n",
      "    for m in range(1,end[1]):           # adds days in the months of ending year prior to ending month\n",
      "        count += monthlen(y,m)\n",
      "    \n",
      "    count = count -(start[2]-1) + end[2]    # subtracts days prior to starting day in starting month, and adds days of ending month \n",
      "    \n",
      "    return count\n",
      "\n",
      "\n",
      "def index_to_date(integer,zero_date):\n",
      "    \"\"\" Takes an integers representing the days including and after the zero_date and returns the date in 3-tuple.\n",
      "    \"\"\"\n",
      "    \n",
      "    \n",
      "    next_year = ()\n",
      "    next_year[0] = zero_date[0] + 1\n",
      "    next_year[1:] = (1,1)\n",
      "    \n",
      "    left_in_year = days_between(zero_date,next_year) - 1  # don't include the first day of the next year\n",
      "    \n",
      "    \n",
      "    y_estim = zero_date[0] + (integer / 365.0)     # will return a number greater than or equal to the actual number of years \n",
      "                                                   # spanned by integer number of days because it assumes every year only has 365 days.\n",
      "                                                   # This allows me to set an upper limit on how far ahead to guess a date.\n",
      "    \n",
      "    \n",
      "    y_test = y_estim\n",
      "    while integer + 1 - left_in_year > 0:     # integer is often an array index. It is zero when the referenced day is the zero_date\n",
      "                                          # add one to integer to include the zero_date in the count of days minus the days left in the year\n",
      "                                          # (days_between function included the zero_date in its count on the prevous line).\n",
      "    \n",
      "    \n",
      "\n",
      "\n",
      "    while \n",
      "    \n",
      "    \n",
      "        \n",
      "    \n",
      "\n",
      "def find_firsts(start):\n",
      "    pass"
     ],
     "language": "python",
     "metadata": {},
     "outputs": [],
     "prompt_number": 21
    },
    {
     "cell_type": "code",
     "collapsed": false,
     "input": [
      "reference_len = days_between((1900,1,1),(1901,1,1))\n",
      "refernce_1900 = np.ones((reference_len),dtype=int_)  # set up array with length of 1900\n",
      "\n",
      "# find the last sunday in 1900\n",
      "last_in_reference = range(0,reference_len,7)[-1]  # return indicies of Sundays in reference_1900 array, including i=7 (8th array element)\n",
      "                                                  # since first day of 1900 is a monday, 8th day is sunday. select last integer in the list\n",
      "                                                  # created by range()\n",
      "first_sunday = (last_in_reference + 1) - reference_len + 7 \n",
      "\n",
      "\n",
      "array_len = days_between((1901,1,1),(2000,12,31))\n",
      "print array_len\n",
      "\n",
      "\n",
      "\n",
      "\n",
      "d_since_1901 = np.ones((array_len),dtype=np.int_)\n",
      "\n",
      "for "
     ],
     "language": "python",
     "metadata": {},
     "outputs": [
      {
       "output_type": "stream",
       "stream": "stdout",
       "text": [
        "36524\n"
       ]
      }
     ],
     "prompt_number": 23
    },
    {
     "cell_type": "code",
     "collapsed": false,
     "input": [],
     "language": "python",
     "metadata": {},
     "outputs": []
    },
    {
     "cell_type": "code",
     "collapsed": false,
     "input": [],
     "language": "python",
     "metadata": {},
     "outputs": []
    },
    {
     "cell_type": "markdown",
     "metadata": {},
     "source": [
      "Make a giant one-dimentional array containing ones. Create a second array of equal length with a one at indicies for Sundays, and a zero for all the other days.\n",
      "Multiply the two arrays."
     ]
    }
   ],
   "metadata": {}
  }
 ]
}