{
 "metadata": {
  "name": "ProjectEuler4"
 },
 "nbformat": 3,
 "nbformat_minor": 0,
 "worksheets": [
  {
   "cells": [
    {
     "cell_type": "markdown",
     "metadata": {},
     "source": [
      "#Largest Palindrome Product\n",
      "\n",
      "##Problem 4\n",
      "\n",
      "__Problem Statement from ProjectEuler.net__\n",
      "\n",
      "+ A palindromic number reads the same both ways. The largest palindrome made from the product of two 2-digit numbers is 9009 = 91 \u00d7 99.\n",
      "+ Find the largest palindrome made from the product of two 3-digit numbers.\n"
     ]
    },
    {
     "cell_type": "markdown",
     "metadata": {},
     "source": [
      "I know that the product, $P$, is on the interval $ 100^2 = 10000 < P < 998001 = 999^2 \\quad \\quad $.\n",
      "\n",
      "First, I will create a function to test if a number with 5 or 6 digits is a palindrome."
     ]
    },
    {
     "cell_type": "code",
     "collapsed": false,
     "input": [
      "\n",
      "#### I thought the following function would work, but it doesn't in every case and the sting version, below it, is probably faster.\n",
      "######################################################\n",
      "def pdrome_test_new(P,d):\n",
      "    \"\"\" Tests whether a base-10 number P between 1 and (10**d - 1) has digits\n",
      "    that form a palindrome. d is the highest number of digits expected.\n",
      "    \"\"\"\n",
      "    # find actual number of digits, testing starting with d\n",
      "    # 10**(d-1) gives a number with d digits\n",
      "    # range function traverses d-1 to 0 by decrementing\n",
      "    # so enpoint must be 0-1.\n",
      "\n",
      "    for n in range(d-1,-1,-1):\n",
      "        if P//(10**n) > 0:\n",
      "            ind = n\n",
      "            break\n",
      "    else:\n",
      "        ind = 0\n",
      "    # number of digits = ind + 1\n",
      "    \n",
      "    # Uses modulus to divides the number P by a 'palindrome basis number' and then subtract\n",
      "    # so that those digit places become zero in the remainder only if they match.\n",
      "    # Uses the indicator, 1 or 0, to automatically increase the 'basis numbers' if the \n",
      "    # input is six digits long.\n",
      "    remainder = P\n",
      "    for n in range(ind, ind//2 +1 -1 , -1):\n",
      "        remainder = remainder % (10**n + 10**(ind - n))\n",
      "    if ind % 2 == 0:\n",
      "        remainder = remainder % (10**(ind//2))\n",
      "    \n",
      "    if remainder == 0:\n",
      "        return P\n",
      "    else:\n",
      "        return 0\n",
      "\n",
      "#######################################################\n",
      "    \n",
      "def pdrome_test_strversion(P):\n",
      "    \"\"\" Tests whether a number between 10,000 and 999,999 has digits that form a palindrome.\n",
      "    Can only interperet numbers with 5 or 6 digits correctly.\n",
      "    \"\"\"\n",
      "    if P//100000 > 0:\n",
      "        ind = 1\n",
      "    else:\n",
      "        ind = 0\n",
      "        \n",
      "    sP = str(P)\n",
      "    for i in range(len(sP)):\n",
      "        if sP[i] != sP[-1-i]:\n",
      "            return 0\n",
      "    else:\n",
      "        return P\n"
     ],
     "language": "python",
     "metadata": {},
     "outputs": [],
     "prompt_number": 136
    },
    {
     "cell_type": "markdown",
     "metadata": {},
     "source": [
      "####Test cases for pdrome_test() function:"
     ]
    },
    {
     "cell_type": "code",
     "collapsed": false,
     "input": [
      "print 'Five digit input'\n",
      "print pdrome_test_new(10101,6)#This should return 10101\n",
      "print pdrome_test_new(54345,6)#This should return 54345\n",
      "print pdrome_test_new(22221,6)#This should return 0\n",
      "print pdrome_test_new(28010,6)\n",
      "print'\\nSix digit input'\n",
      "print pdrome_test_new(130031,6)#This should return 130031\n",
      "print pdrome_test_new(991199,6)#This should return 991199\n",
      "print pdrome_test_new(800008,6)#This should return 800008\n",
      "print pdrome_test_new(756647,6)#This should return 0\n",
      "\n",
      "\n",
      "\n",
      "tests = []\n",
      "for n in range(0,10000):\n",
      "    tests.append([pdrome_test_new(n,5),pdrome_test_strversion(n)])\n",
      "\n",
      "\n",
      "for elem in tests:\n",
      "    if elem[0] != elem[1]:\n",
      "        print elem\n"
     ],
     "language": "python",
     "metadata": {},
     "outputs": [
      {
       "output_type": "stream",
       "stream": "stdout",
       "text": [
        "Five digit input\n",
        "10101\n",
        "54345\n",
        "0\n",
        "0\n",
        "\n",
        "Six digit input\n",
        "130031\n",
        "991199\n",
        "800008\n",
        "0\n",
        "[100, 0]"
       ]
      },
      {
       "output_type": "stream",
       "stream": "stdout",
       "text": [
        "\n",
        "[201, 0]\n",
        "[302, 0]\n",
        "[403, 0]\n",
        "[504, 0]\n",
        "[605, 0]\n",
        "[706, 0]\n",
        "[807, 0]\n",
        "[908, 0]\n"
       ]
      }
     ],
     "prompt_number": 106
    },
    {
     "cell_type": "markdown",
     "metadata": {},
     "source": [
      "Unfortunately, my modulus palindrome checker does not work in every case, as seen by the lists outputted from the last test where pdrome_test_new() said that 100,201,302,... are palindromes.\n",
      "\n",
      "I will concede and use the string-driven version.\n",
      "\n",
      "- - -"
     ]
    },
    {
     "cell_type": "markdown",
     "metadata": {},
     "source": [
      "There are 900 numbers in the closed interval $[100, 999]\\;\\;$. There are $\\frac{900^2}{2} + \\frac{900}{2} \\;$ possible products to test.\n",
      "\n",
      "(For multiplying the numbers 1 through 10, There are 10+9+8+7+6+5+4+3+2+1 = 55 possibilites, which is  $\\frac{10^2}{2}+\\frac{10}{2}$ .)\n",
      "\n",
      "I can eliminate using 3-digit numbers ending in zero, and I can avoid testing two 3-digits numbers\n",
      "where the product of the ones place digits is divisible by 10. I can do this because the leading digit of the product is never zero, so it cannot match a zero in the ones place."
     ]
    },
    {
     "cell_type": "markdown",
     "metadata": {},
     "source": [
      "Once I find a palindrome, I may be able to limit the domain of factor combinations left to test. The goal is to find the largest palindrome. Suppose I locate a palindrome. When testing for a bigger palindrome, by increasing one of the factors of the located palindrome, the other factor can decrease only so far before the new product would be less than the already located palindrome.\n",
      "\n",
      "This may speed up my program.\n",
      "\n",
      "__For example__, I know that 333 times 111 is a palindrome 36963.\n",
      "\n",
      "If I increase 333 by $x$, then 111 can decrease by $y$ with the condition $(333 + x)(111-y) \\geq (333 \\times 111) \\quad \\Rightarrow \\quad  y \\leq \\frac{333 \\times 111}{333 + x} + 111 \\quad \\quad \\quad$.\n"
     ]
    },
    {
     "cell_type": "markdown",
     "metadata": {},
     "source": [
      "- - -\n",
      "I don't have time to code an algorithm to use elimination."
     ]
    },
    {
     "cell_type": "markdown",
     "metadata": {},
     "source": [
      "The following functions create a grid of all the possible products, then finds all palindromes and the largest one."
     ]
    },
    {
     "cell_type": "code",
     "collapsed": false,
     "input": [
      "def times_table(ni1,nf1,ni2,nf2):\n",
      "    \"\"\"Takes two sets of two interval limits ni1,nf1, and ni2,nf2. Evaluates the product of\n",
      "    every combination n1*n2, including nf1 and nf2.\n",
      "    Returns a numpy array with the outer dimension indicies 0 through (nf1 - ni1). The\n",
      "    outer dimension corresponds to the second range of numbers.\n",
      "    \"\"\"\n",
      "    import numpy as np\n",
      "    N1,N2 = np.meshgrid(np.arange(ni1,nf1+1),np.arange(ni2,nf2+1))\n",
      "    \n",
      "    Table = N1*N2\n",
      "    return Table\n",
      "\n",
      "\n",
      "def pdrome_table_test(ni,nf):\n",
      "    \"\"\"Takes a closed interval of integers and tests all possible products of those integers to see\n",
      "    if they are palindromes. Returns an array of all located palindromes with their factors in an array of shape\n",
      "    (#palindromes,3), and as a second tuple element, returns an array of shape (#ways,3) with the largest found\n",
      "    palindrome and its factors, repeated if there is more than one factorization.\n",
      "    \"\"\"\n",
      "    Table = times_table(ni,nf,ni,nf)\n",
      "    ilen = nf-ni\n",
      "    found = []\n",
      "    \n",
      "    for i in range(ilen,-1,-1):\n",
      "        for j in range(i,-1,-1):\n",
      "            found.append([pdrome_test_strversion(Table[i,j]),ni + i, ni + j])\n",
      "    maximum = [[0,0,0]]\n",
      "    for i in range(len(found)):\n",
      "        if found[i][0] > maximum[0][0]:\n",
      "            maximum = [found[i]]\n",
      "        elif found[i][0] == maximum[0][0]:\n",
      "            maximum.append(found[i])\n",
      "            \n",
      "    Result = np.array(found,dtype=np.int_)\n",
      "    Result = Result[Result[:,0] !=0]\n",
      "    \n",
      "    \n",
      "    return (Result,np.array(maximum,dtype=np.int_))\n",
      "                "
     ],
     "language": "python",
     "metadata": {},
     "outputs": [],
     "prompt_number": 127
    },
    {
     "cell_type": "code",
     "collapsed": false,
     "input": [
      "a,b = pdrome_table_test(1,10)\n",
      "print a\n",
      "print\n",
      "print b"
     ],
     "language": "python",
     "metadata": {},
     "outputs": [
      {
       "output_type": "stream",
       "stream": "stdout",
       "text": [
        "[[9 9 1]\n",
        " [8 8 1]\n",
        " [7 7 1]\n",
        " [6 6 1]\n",
        " [5 5 1]\n",
        " [8 4 2]\n",
        " [4 4 1]\n",
        " [9 3 3]\n",
        " [6 3 2]\n",
        " [3 3 1]\n",
        " [4 2 2]\n",
        " [2 2 1]\n",
        " [1 1 1]]\n",
        "\n",
        "[[9 9 1]\n",
        " [9 3 3]]\n"
       ]
      }
     ],
     "prompt_number": 128
    },
    {
     "cell_type": "markdown",
     "metadata": {},
     "source": [
      "__Test Case of pdrome_table_test() :__"
     ]
    },
    {
     "cell_type": "code",
     "collapsed": false,
     "input": [
      "all_pdromes, maximum_ = pdrome_table_test(10,99)\n",
      "print maximum_,'\\n'\n",
      "print all_pdromes"
     ],
     "language": "python",
     "metadata": {},
     "outputs": [
      {
       "output_type": "stream",
       "stream": "stdout",
       "text": [
        "[[9009   99   91]] \n",
        "\n",
        "[[9009   99   91]\n",
        " [8118   99   82]\n",
        " [7227   99   73]\n",
        " [6336   99   64]\n",
        " [5445   99   55]\n",
        " [4554   99   46]\n",
        " [3663   99   37]\n",
        " [2772   99   28]\n",
        " [1881   99   19]\n",
        " [5335   97   55]\n",
        " [8448   96   88]\n",
        " [6336   96   66]\n",
        " [4224   96   44]\n",
        " [2112   96   22]\n",
        " [5225   95   55]\n",
        " [5115   93   55]\n",
        " [8008   91   88]\n",
        " [7007   91   77]\n",
        " [6006   91   66]\n",
        " [5005   91   55]\n",
        " [4004   91   44]\n",
        " [3003   91   33]\n",
        " [2002   91   22]\n",
        " [1001   91   11]\n",
        " [ 979   89   11]\n",
        " [6776   88   77]\n",
        " [6336   88   72]\n",
        " [4664   88   53]\n",
        " [4224   88   48]\n",
        " [2992   88   34]\n",
        " [2552   88   29]\n",
        " [2112   88   24]\n",
        " [2772   84   33]\n",
        " [6006   78   77]\n",
        " [ 858   78   11]\n",
        " [5775   77   75]\n",
        " [5005   77   65]\n",
        " [4774   77   62]\n",
        " [4004   77   52]\n",
        " [3773   77   49]\n",
        " [3003   77   39]\n",
        " [2772   77   36]\n",
        " [2002   77   26]\n",
        " [1771   77   23]\n",
        " [1001   77   13]\n",
        " [4884   74   66]\n",
        " [2442   74   33]\n",
        " [ 888   74   12]\n",
        " [ 949   73   13]\n",
        " [4554   69   66]\n",
        " [ 828   69   12]\n",
        " [2992   68   44]\n",
        " [ 737   67   11]\n",
        " [4224   66   64]\n",
        " [2772   66   42]\n",
        " [2442   66   37]\n",
        " [2112   66   32]\n",
        " [ 858   66   13]\n",
        " [2112   64   33]\n",
        " [2772   63   44]\n",
        " [ 868   62   14]\n",
        " [ 767   59   13]\n",
        " [2552   58   44]\n",
        " [ 696   58   12]\n",
        " [1881   57   33]\n",
        " [ 969   57   17]\n",
        " [ 616   56   11]\n",
        " [2332   53   44]\n",
        " [ 848   53   16]\n",
        " [ 636   53   12]\n",
        " [ 676   52   13]\n",
        " [ 969   51   19]\n",
        " [ 686   49   14]\n",
        " [2112   48   44]\n",
        " [1551   47   33]\n",
        " [ 828   46   18]\n",
        " [ 585   45   13]\n",
        " [ 616   44   14]\n",
        " [ 484   44   11]\n",
        " [ 989   43   23]\n",
        " [ 656   41   16]\n",
        " [ 858   39   22]\n",
        " [ 585   39   15]\n",
        " [ 646   38   17]\n",
        " [ 494   38   13]\n",
        " [1221   37   33]\n",
        " [ 999   37   27]\n",
        " [ 888   37   24]\n",
        " [ 777   37   21]\n",
        " [ 666   37   18]\n",
        " [ 555   37   15]\n",
        " [ 444   37   12]\n",
        " [ 828   36   23]\n",
        " [ 595   35   17]\n",
        " [ 525   35   15]\n",
        " [ 646   34   19]\n",
        " [ 858   33   26]\n",
        " [ 363   33   11]\n",
        " [ 868   31   28]\n",
        " [ 434   31   14]\n",
        " [ 696   29   24]\n",
        " [ 464   29   16]\n",
        " [ 616   28   22]\n",
        " [ 676   26   26]\n",
        " [ 494   26   19]\n",
        " [ 575   25   23]\n",
        " [ 525   25   21]\n",
        " [ 414   23   18]\n",
        " [ 484   22   22]\n",
        " [ 242   22   11]\n",
        " [ 252   21   12]\n",
        " [ 323   19   17]\n",
        " [ 252   18   14]\n",
        " [ 272   17   16]\n",
        " [ 121   11   11]]\n"
       ]
      }
     ],
     "prompt_number": 131
    },
    {
     "cell_type": "markdown",
     "metadata": {},
     "source": [
      "My program works correctly. The maximum palindrome was 9009, with factors 90,91."
     ]
    },
    {
     "cell_type": "markdown",
     "metadata": {},
     "source": [
      "### Solution"
     ]
    },
    {
     "cell_type": "code",
     "collapsed": false,
     "input": [
      "all_pdromes, maximum_ = pdrome_table_test(100,999)\n",
      "print maximum_,'\\n'\n",
      "print all_pdromes[-10:]"
     ],
     "language": "python",
     "metadata": {},
     "outputs": [
      {
       "output_type": "stream",
       "stream": "stdout",
       "text": [
        "[[906609    993    913]] \n",
        "\n",
        "[[15851   131   121]\n",
        " [14541   131   111]\n",
        " [13231   131   101]\n",
        " [15351   129   119]\n",
        " [14641   121   121]\n",
        " [13431   121   111]\n",
        " [12221   121   101]\n",
        " [12321   111   111]\n",
        " [11211   111   101]\n",
        " [10201   101   101]]\n"
       ]
      }
     ],
     "prompt_number": 134
    },
    {
     "cell_type": "code",
     "collapsed": false,
     "input": [
      "%timeit all_pdromes, maximum_ = pdrome_table_test(100,999)"
     ],
     "language": "python",
     "metadata": {},
     "outputs": [
      {
       "output_type": "stream",
       "stream": "stdout",
       "text": [
        "1 loops, best of 3: 13.9 s per loop\n"
       ]
      }
     ],
     "prompt_number": 135
    },
    {
     "cell_type": "markdown",
     "metadata": {},
     "source": [
      "This ran very slow, but I am done now, hooray!\n",
      "\n",
      "The largest palindrome number that is a product of 3-digits numbers is 906609 with factors 993 and 913."
     ]
    },
    {
     "cell_type": "code",
     "collapsed": false,
     "input": [],
     "language": "python",
     "metadata": {},
     "outputs": []
    }
   ],
   "metadata": {}
  }
 ]
}