{
 "metadata": {
  "name": "ProjectEuler4"
 },
 "nbformat": 3,
 "nbformat_minor": 0,
 "worksheets": [
  {
   "cells": [
    {
     "cell_type": "markdown",
     "metadata": {},
     "source": [
      "#Largest Palindrome Product\n",
      "\n",
      "##Problem 4\n",
      "\n",
      "__Problem Statement from ProjectEuler.net__\n",
      "\n",
      "+ A palindromic number reads the same both ways. The largest palindrome made from the product of two 2-digit numbers is 9009 = 91 \u00d7 99.\n",
      "+ Find the largest palindrome made from the product of two 3-digit numbers.\n"
     ]
    },
    {
     "cell_type": "markdown",
     "metadata": {},
     "source": [
      "I know that the product, $P$, is on the interval $ 100^2 = 10000 < P < 998001 = 999^2 \\quad \\quad $.\n",
      "\n",
      "First, I will create a function to test if a number with 5 or 6 digits is a palindrome."
     ]
    },
    {
     "cell_type": "code",
     "collapsed": false,
     "input": [
      "def pdrome_test(P):\n",
      "    \"\"\" Tests whether a number between 10,000 and 999,999 has digits that form a palindrome.\n",
      "    Can only interperet numbers with 5 or 6 digits correctly.\n",
      "    \"\"\"\n",
      "    if P//100000 > 0:\n",
      "        ind = 1\n",
      "    else:\n",
      "        ind = 0\n",
      "    # Uses modulus to divides the number P by a 'palindrome basis number' and then subtract\n",
      "    # so that those digit places become zero in the remainder only if they match.\n",
      "    # Uses the indicator, 1 or 0, to automatically increase the 'basis numbers' if the \n",
      "    # input is six digits long.\n",
      "    if (((P % (10001 + 90000*ind)) % (1010 + 9000*ind)) % (100 + 1000*ind)) == 0:\n",
      "        return P\n",
      "    else:\n",
      "        return 0"
     ],
     "language": "python",
     "metadata": {},
     "outputs": [],
     "prompt_number": 1
    },
    {
     "cell_type": "markdown",
     "metadata": {},
     "source": [
      "####Test cases for pdrome_test() function:"
     ]
    },
    {
     "cell_type": "code",
     "collapsed": false,
     "input": [
      "print 'Five digit input'\n",
      "print pdrome_test(10101)#This should return 10101\n",
      "print pdrome_test(54345)#This should return 54345\n",
      "print pdrome_test(22221)#This should return 0\n",
      "print'\\nSix digit input'\n",
      "print pdrome_test(130031)#This should return 130031\n",
      "print pdrome_test(991199)#This should return 991199\n",
      "print pdrome_test(800008)#This should return 800008\n",
      "print pdrome_test(756647)#This should return 0"
     ],
     "language": "python",
     "metadata": {},
     "outputs": [
      {
       "output_type": "stream",
       "stream": "stdout",
       "text": [
        "Five digit input\n",
        "10101\n",
        "54345\n",
        "0\n",
        "\n",
        "Six digit input\n",
        "130031\n",
        "991199\n",
        "800008\n",
        "0\n"
       ]
      }
     ],
     "prompt_number": 3
    },
    {
     "cell_type": "markdown",
     "metadata": {},
     "source": [
      "There are 900 numbers in the closed interval $[100, 999]\\;\\;$. There are $\\frac{900^2}{2} + \\frac{900}{2} \\;$ possible products to test.\n",
      "\n",
      "(For multiplying the numbers 1 through 10, There are 10+9+8+7+6+5+4+3+2+1 = 55 possibilites, which is  $\\frac{10^2}{2}+\\frac{10}{2}$ .)\n",
      "\n",
      "I can eliminate using 3-digit numbers ending in zero, and I can avoid testing two 3-digits numbers\n",
      "where the product of the ones place digits is divisible by 10. I can do this because the leading digit of the product is never zero, so it cannot match a zero in the ones place."
     ]
    },
    {
     "cell_type": "markdown",
     "metadata": {},
     "source": [
      "Once I find a palindrome, I may be able to limit the domain of factor combinations left to test. The goal is to find the largest palindrome. Suppose I locate a palindrome. When testing for a bigger palindrome, by increasing one of the factors of the located palindrome, the other factor can decrease only so far before the new product would be less than the already located palindrome.\n",
      "\n",
      "This may speed up my program.\n",
      "\n",
      "__For example__, I know that 333 times 111 is a palindrome 36963.\n",
      "\n",
      "If I increase 333 by $x$, then 111 can decrease by $y$ with the condition $(333 + x)(111-y) \\geq (333 \\times 111) \\quad \\Rightarrow \\quad  y \\leq \\frac{333 \\times 111}{333 + x} + 111 \\quad \\quad \\quad$.\n"
     ]
    },
    {
     "cell_type": "markdown",
     "metadata": {},
     "source": [
      "- - -\n",
      "I don't have time to code an algorithm to use elimination."
     ]
    },
    {
     "cell_type": "markdown",
     "metadata": {},
     "source": [
      "The following function creates a grid of all the possible products. I can then use my function pdrome_test() to mask the array and find all palindromes. The only tricky part is relating the indicies 0 through (nf1 - ni1 -1 ) to the actual factors of a given array element."
     ]
    },
    {
     "cell_type": "code",
     "collapsed": false,
     "input": [
      "def times_table(ni1,nf1,ni2,nf2):\n",
      "    \"\"\"Takes two sets of two interval limits ni1,nf1, and ni2,nf2. Evaluates the product of\n",
      "    every combination n1*n2, including nf1 and nf2.\n",
      "    Returns a numpy array with the outer dimension indicies 0 through (nf1 - ni1). The\n",
      "    outer dimension corresponds to the second range of numbers.\n",
      "    \"\"\"\n",
      "    import numpy as np\n",
      "    N1,N2 = np.meshgrid(np.arange(ni1,nf1+1),np.arange(ni2,nf2+1))\n",
      "    \n",
      "    Table = N1*N2\n",
      "    return Table\n",
      "\n",
      "\n",
      "def pdrome_table_test(ni,nf):\n",
      "    \"\"\"Takes a closed interval of integers and tests all possible products of those integers to see\n",
      "    if they are palindromes. Returns an array of all located palindromes with their factors in an array of shape\n",
      "    (#palindromes,3), and as a second tuple element, returns an array of length 3 with the largest found\n",
      "    palindrome and its factors.\n",
      "    \"\"\"\n",
      "    Table = times_table(ni,nf,ni,nf)\n",
      "    ilen = Table.shape\n",
      "    print ilen\n",
      "    print Table,'\\n'\n",
      "    \n",
      "    # mask to eliminate products divisible by ten\n",
      "    # The mask is an array of booleans with the same shape as Table\n",
      "    mask1 = (Table % 10 != 0)\n",
      "    print 'Boolean array mask \\n',mask1,'\\n'\n",
      "    Masks = [mask1]\n",
      "        \n",
      "    # For each row, starting with the row corresponding to n1 = 999, add to a mask that will block\n",
      "    # elements greater than n1**2. This eliminates the duplicate products.\n",
      "    no_dup_mask = np.empty(Table.shape,dtype='bool')\n",
      "    for i in range(0,ilen[0],1):\n",
      "        no_dup_mask[i] = Table[i,:] < ((ni + i)**2 + 1)\n",
      "    \n",
      "    Masks.append(no_dup_mask)\n",
      "    print no_dup_mask\n",
      "    \n",
      "    # mask to filter palindromes.\n",
      "    \n",
      "    # combine the masks\n",
      "    total_mask = np.ones(Table.shape,dtype='bool')\n",
      "    for mask in Masks:\n",
      "        total_mask = total_mask & mask\n",
      "        \n",
      "    eliminated_Table = Table[total_mask]\n",
      "    \n",
      "    #pdrome_test(Table)\n",
      "    "
     ],
     "language": "python",
     "metadata": {},
     "outputs": [],
     "prompt_number": 48
    },
    {
     "cell_type": "code",
     "collapsed": false,
     "input": [
      "pdrome_table_test(1,10)"
     ],
     "language": "python",
     "metadata": {},
     "outputs": [
      {
       "output_type": "stream",
       "stream": "stdout",
       "text": [
        "(10, 10)\n",
        "[[  1   2   3   4   5   6   7   8   9  10]\n",
        " [  2   4   6   8  10  12  14  16  18  20]\n",
        " [  3   6   9  12  15  18  21  24  27  30]\n",
        " [  4   8  12  16  20  24  28  32  36  40]\n",
        " [  5  10  15  20  25  30  35  40  45  50]\n",
        " [  6  12  18  24  30  36  42  48  54  60]\n",
        " [  7  14  21  28  35  42  49  56  63  70]\n",
        " [  8  16  24  32  40  48  56  64  72  80]\n",
        " [  9  18  27  36  45  54  63  72  81  90]\n",
        " [ 10  20  30  40  50  60  70  80  90 100]] \n",
        "\n",
        "Boolean array mask \n",
        "[[ True  True  True  True  True  True  True  True  True False]\n",
        " [ True  True  True  True False  True  True  True  True False]\n",
        " [ True  True  True  True  True  True  True  True  True False]\n",
        " [ True  True  True  True False  True  True  True  True False]\n",
        " [ True False  True False  True False  True False  True False]\n",
        " [ True  True  True  True False  True  True  True  True False]\n",
        " [ True  True  True  True  True  True  True  True  True False]\n",
        " [ True  True  True  True False  True  True  True  True False]\n",
        " [ True  True  True  True  True  True  True  True  True False]\n",
        " [False False False False False False False False False False]] \n",
        "\n",
        "[[ True False False False False False False False False False]\n",
        " [ True  True False False False False False False False False]\n",
        " [ True  True  True False False False False False False False]\n",
        " [ True  True  True  True False False False False False False]\n",
        " [ True  True  True  True  True False False False False False]\n",
        " [ True  True  True  True  True  True False False False False]\n",
        " [ True  True  True  True  True  True  True False False False]\n",
        " [ True  True  True  True  True  True  True  True False False]\n",
        " [ True  True  True  True  True  True  True  True  True False]\n",
        " [ True  True  True  True  True  True  True  True  True  True]]\n"
       ]
      }
     ],
     "prompt_number": 49
    },
    {
     "cell_type": "markdown",
     "metadata": {},
     "source": []
    }
   ],
   "metadata": {}
  }
 ]
}