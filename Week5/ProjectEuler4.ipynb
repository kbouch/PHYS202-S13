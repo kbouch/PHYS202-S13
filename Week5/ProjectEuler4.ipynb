{
 "metadata": {
  "name": "ProjectEuler4"
 },
 "nbformat": 3,
 "nbformat_minor": 0,
 "worksheets": [
  {
   "cells": [
    {
     "cell_type": "markdown",
     "metadata": {},
     "source": [
      "#Largest Palindrome Product\n",
      "\n",
      "##Problem 4\n",
      "\n",
      "__Problem Statement from ProjectEuler.net__\n",
      "\n",
      "+ A palindromic number reads the same both ways. The largest palindrome made from the product of two 2-digit numbers is 9009 = 91 \u00d7 99.\n",
      "+ Find the largest palindrome made from the product of two 3-digit numbers.\n"
     ]
    },
    {
     "cell_type": "markdown",
     "metadata": {},
     "source": []
    },
    {
     "cell_type": "code",
     "collapsed": false,
     "input": [
      "def pdrome_test(P):\n",
      "    \"\"\" Tests whether a number between 10,000 and 999,999 has digits that form a palindrome.\n",
      "    Can only interperet numbers with 5 or 6 digits correctly.\n",
      "    \"\"\"\n",
      "    if P//100000 > 0:\n",
      "        ind = 1\n",
      "    else:\n",
      "        ind = 0\n",
      "    # Uses modulus to divides the number P by a palindrome 'basis number' and then subtract\n",
      "    # so that those digit places become zero in the remainder only if they match.\n",
      "    # Uses the indicator, 1 or 0, to automatically increase the 'basis numbers' if the \n",
      "    # input is six digits long.\n",
      "    if (((P % (10001 + 90000*ind)) % (1010 + 9000*ind)) % (100 + 1000*ind)) == 0:\n",
      "        return P\n",
      "    else:\n",
      "        return 0"
     ],
     "language": "python",
     "metadata": {},
     "outputs": [],
     "prompt_number": 26
    },
    {
     "cell_type": "markdown",
     "metadata": {},
     "source": [
      "####Test cases for pdrome_test() function:"
     ]
    },
    {
     "cell_type": "code",
     "collapsed": false,
     "input": [
      "print 'Five digit input'\n",
      "print pdrome_test(10101)#This should return 10101\n",
      "print pdrome_test(54345)#This should return 54345\n",
      "print pdrome_test(22221)#This should return 0\n",
      "print'\\nSix digit input'\n",
      "print pdrome_test(130031)#This should return 130031\n",
      "print pdrome_test(991199)#This should return 991199\n",
      "print pdrome_test(800008)#This should return 800008\n",
      "print pdrome_test(756647)#This should return 0"
     ],
     "language": "python",
     "metadata": {},
     "outputs": [
      {
       "output_type": "stream",
       "stream": "stdout",
       "text": [
        "Five digit input\n",
        "10101\n",
        "54345\n",
        "0\n",
        "\n",
        "Six digit input\n",
        "130031\n",
        "991199\n",
        "800008\n",
        "0\n"
       ]
      }
     ],
     "prompt_number": 27
    },
    {
     "cell_type": "code",
     "collapsed": false,
     "input": [
      "def times_table(ni1,nf1,ni2,nf2):\n",
      "    \"\"\"Takes two sets of two interval limits ni1,nf1, and ni2,nf2. Evaluates the product of\n",
      "    every combination n1*n2, excluding nf1 and nf2 from the interval (like the range() function behavior).\n",
      "    Returns a numpy array with the outer dimension indicies 0 through (nf1 - ni1 - 1). The\n",
      "    outer dimension corresponds to the second range of numbers.\n",
      "    \"\"\"\n",
      "    import numpy as np\n",
      "    N1,N2 = np.meshgrid(np.arange(ni1,nf1),np.arange(ni2,nf2))\n",
      "    \n",
      "    Table = N1*N2\n",
      "    return Table\n",
      "    "
     ],
     "language": "python",
     "metadata": {},
     "outputs": []
    },
    {
     "cell_type": "code",
     "collapsed": false,
     "input": [],
     "language": "python",
     "metadata": {},
     "outputs": []
    },
    {
     "cell_type": "markdown",
     "metadata": {},
     "source": []
    }
   ],
   "metadata": {}
  }
 ]
}