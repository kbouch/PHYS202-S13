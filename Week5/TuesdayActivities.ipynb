{
 "metadata": {
  "name": "TuesdayActivities"
 },
 "nbformat": 3,
 "nbformat_minor": 0,
 "worksheets": [
  {
   "cells": [
    {
     "cell_type": "markdown",
     "metadata": {},
     "source": [
      "##Tuesday Week 5\n",
      "\n",
      "##Numerical Integration Activities\n",
      "\n",
      "_April 30 2013_\n",
      "\n",
      "Kyle Boucher"
     ]
    },
    {
     "cell_type": "markdown",
     "metadata": {},
     "source": [
      "__Trapezoid Rule__\n",
      "\n",
      "\\begin{equation}\n",
      "\\int  _{a} ^{b} f(x)dx = \\Delta x  [ \\frac{1}{2} f(a) + \\frac{1}{2} f(b) + \\sum _{i=1} ^{n-1} f(x_i} ]\n",
      "\\end{equation}"
     ]
    },
    {
     "cell_type": "markdown",
     "metadata": {},
     "source": [
      "(Latex `\\begin{equation}` not working?)"
     ]
    },
    {
     "cell_type": "markdown",
     "metadata": {},
     "source": [
      "__Example 1__\n",
      "\n",
      "integrate $x^4 -2x +1 \\;\\;$ from 0 to 2"
     ]
    },
    {
     "cell_type": "code",
     "collapsed": false,
     "input": [
      "f = lambda x:x**4 -2*x +1\n",
      "\n",
      "N = 10\n",
      "a = 0.\n",
      "b = 2.\n",
      "h = (b-a)/N\n",
      "\n",
      "s = 0.5*(f(a)+f(b))\n",
      "for i in range(1,N):\n",
      "    s += f(a + (i*h))\n",
      "print (h*s)"
     ],
     "language": "python",
     "metadata": {},
     "outputs": [
      {
       "output_type": "stream",
       "stream": "stdout",
       "text": [
        "4.50656\n"
       ]
      }
     ],
     "prompt_number": 3
    },
    {
     "cell_type": "markdown",
     "metadata": {},
     "source": [
      "actual is 4.4. "
     ]
    },
    {
     "cell_type": "code",
     "collapsed": false,
     "input": [
      "print 'percent error '+str((h*s - 4.4)*100/4.4)+' %'"
     ],
     "language": "python",
     "metadata": {},
     "outputs": [
      {
       "output_type": "stream",
       "stream": "stdout",
       "text": [
        "percent error 2.42181818182 %\n"
       ]
      }
     ],
     "prompt_number": 7
    },
    {
     "cell_type": "code",
     "collapsed": false,
     "input": [
      "def num_int_trpzd(f,a,b,N):\n",
      "    \"\"\"Use the trapezoid method to numerically integrate\n",
      "    a function f(x) between x=a and x=b, using N divisions\n",
      "    of the interval. N must be an integer.\n",
      "    \"\"\"\n",
      "    h = (b-a)*1.0/N\n",
      "    s = 0.5(f(a) + f(b))\n",
      "    for i in range(1,N):\n",
      "        s += f(a + (i*h))\n",
      "    return (s*h)\n",
      "\n",
      "f = lambda x:x**4 -2*x +1"
     ],
     "language": "python",
     "metadata": {},
     "outputs": []
    }
   ],
   "metadata": {}
  }
 ]
}