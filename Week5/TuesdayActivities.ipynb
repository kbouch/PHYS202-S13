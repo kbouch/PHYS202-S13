{
 "metadata": {
  "name": "TuesdayActivities"
 },
 "nbformat": 3,
 "nbformat_minor": 0,
 "worksheets": [
  {
   "cells": [
    {
     "cell_type": "markdown",
     "metadata": {},
     "source": [
      "##Tuesday Week 5\n",
      "\n",
      "##Numerical Integration Activities\n",
      "\n",
      "_April 30 2013_\n",
      "\n",
      "Kyle Boucher"
     ]
    },
    {
     "cell_type": "markdown",
     "metadata": {},
     "source": [
      "__Trapezoid Rule__\n",
      "\n",
      "\\begin{equation}\n",
      "I(a,b)= \\int \\limits _{a} ^{b} f(x)dx \\approxeq \\Delta x \\Big [ \\frac{1}{2}f(a) + \\frac{1}{2}f(b) + \\sum \\limits _{i=1} ^{n-1} f(x_i) \\Big ] \n",
      "\\end{equation}\n",
      "\n",
      "Where $ \\Delta x = \\frac{b-a}{n} $"
     ]
    },
    {
     "cell_type": "markdown",
     "metadata": {},
     "source": [
      "__Example 1__\n",
      "\n",
      "integrate $x^4 -2x +1 \\;\\;$ from 0 to 2"
     ]
    },
    {
     "cell_type": "code",
     "collapsed": false,
     "input": [
      "f = lambda x:x**4 -2*x +1\n",
      "\n",
      "N = 10\n",
      "a = 0.\n",
      "b = 2.\n",
      "h = (b-a)/N\n",
      "\n",
      "s = 0.5*(f(a)+f(b))\n",
      "for i in range(1,N):\n",
      "    s += f(a + (i*h))\n",
      "print (h*s)"
     ],
     "language": "python",
     "metadata": {},
     "outputs": [
      {
       "output_type": "stream",
       "stream": "stdout",
       "text": [
        "4.50656\n"
       ]
      }
     ],
     "prompt_number": 1
    },
    {
     "cell_type": "markdown",
     "metadata": {},
     "source": [
      "actual is 4.4. "
     ]
    },
    {
     "cell_type": "code",
     "collapsed": false,
     "input": [
      "print 'percent error '+str((h*s - 4.4)*100/4.4)+' %'"
     ],
     "language": "python",
     "metadata": {},
     "outputs": [
      {
       "output_type": "stream",
       "stream": "stdout",
       "text": [
        "percent error 2.42181818182 %\n"
       ]
      }
     ],
     "prompt_number": 2
    },
    {
     "cell_type": "markdown",
     "metadata": {},
     "source": [
      "###Exercise 1"
     ]
    },
    {
     "cell_type": "code",
     "collapsed": false,
     "input": [
      "def num_int_trapzd(f,a,b,N):\n",
      "    \"\"\"Use the trapezoid method to numerically integrate\n",
      "    a function f(x) between x=a and x=b, using N divisions\n",
      "    of the interval. N must be an integer.\n",
      "    \"\"\"\n",
      "    h = (b-a)*1.0/N\n",
      "    s = 0.5*(f(a) + f(b))\n",
      "    for i in range(1,N):\n",
      "        s += f(a + (i*h))\n",
      "    return (s*h)\n",
      "\n",
      "f = lambda x:x**4 -2*x +1\n",
      "    \n",
      "\n",
      "print num_int_trapzd(f,0,2,100)\n",
      "print num_int_trapzd(f,0,2,1000)"
     ],
     "language": "python",
     "metadata": {},
     "outputs": [
      {
       "output_type": "stream",
       "stream": "stdout",
       "text": [
        "4.401066656\n",
        "4.40001066667\n"
       ]
      }
     ],
     "prompt_number": 10
    },
    {
     "cell_type": "markdown",
     "metadata": {},
     "source": [
      "###Exercise 2"
     ]
    },
    {
     "cell_type": "code",
     "collapsed": false,
     "input": [
      "def num_int_simpson(f,a,b,N):\n",
      "    if N%2 != 0:\n",
      "        raise 'Error:N must be even'\n",
      "        return None\n",
      "    h = (b-a)*1.0/N\n",
      "    s_pmid = 0\n",
      "    s_pend = 0\n",
      "    for k in range(1,N,2):\n",
      "        s_pmid += 4*f(a+(k*h))\n",
      "    for k in range(2,N,2):\n",
      "        s_pend += 2*f(a+(k*h))\n",
      "    total_sum = s_pmid + s_pend + f(a) + f(b)\n",
      "    return (1/3.0)*h*total_sum\n",
      "    "
     ],
     "language": "python",
     "metadata": {},
     "outputs": [],
     "prompt_number": 2
    },
    {
     "cell_type": "code",
     "collapsed": false,
     "input": [
      "f = lambda x:x**4 -2*x +1\n",
      "    \n",
      "approx1 = num_int_simpson(f,0,2,10)\n",
      "print 'with N = 10 ',approx1\n",
      "print '% error = '+str(abs((approx1-4.4))/4.4)\n",
      "\n",
      "approx2 = num_int_simpson(f,0,2,100)\n",
      "print 'with N = 100 ',approx2\n",
      "print '% error = '+str(abs((approx2-4.4))/4.4)\n",
      "\n",
      "approx3 = num_int_simpson(f,0,2,1000)\n",
      "print 'with N = 1000 ',approx3\n",
      "print '% error = '+str(abs((approx3-4.4))/4.4)\n",
      "\n"
     ],
     "language": "python",
     "metadata": {},
     "outputs": [
      {
       "output_type": "stream",
       "stream": "stdout",
       "text": [
        "with N = 10  4.40042666667\n",
        "% error = 9.69696969697e-05\n",
        "with N = 100  4.40000004267\n",
        "% error = 9.69696969187e-09\n",
        "with N = 1000  4.4\n",
        "% error = 9.69729347327e-13\n"
       ]
      }
     ],
     "prompt_number": 3
    },
    {
     "cell_type": "code",
     "collapsed": false,
     "input": [],
     "language": "python",
     "metadata": {},
     "outputs": []
    }
   ],
   "metadata": {}
  }
 ]
}