{
 "metadata": {
  "name": "IntegrationEx4"
 },
 "nbformat": 3,
 "nbformat_minor": 0,
 "worksheets": [
  {
   "cells": [
    {
     "cell_type": "markdown",
     "metadata": {},
     "source": [
      "#Integration Exercises 4\n",
      "\n",
      "_6 May 2013_\n",
      "\n",
      "Kyle Boucher"
     ]
    },
    {
     "cell_type": "markdown",
     "metadata": {},
     "source": [
      "###Question 1\n",
      "\n",
      "Find the value of \n",
      "\\begin{equation}\n",
      "E(x) = \\int \\limits _{0} ^{x} e^{-t^{2}} dt\n",
      "\\end{equation}\n",
      "For values of x in the interval $[0,3]$ in increments of 0.1  ."
     ]
    },
    {
     "cell_type": "markdown",
     "metadata": {},
     "source": [
      "__part a__"
     ]
    },
    {
     "cell_type": "code",
     "collapsed": false,
     "input": [
      "from scipy import integrate\n",
      "import numpy as np\n",
      "\n",
      "\n",
      "def E_func(x):\n",
      "    \"\"\" x is a 1D array\"\"\"\n",
      "    result = np.empty(x.shape,dtype='float')\n",
      "    upper_error = np.empty(x.shape)\n",
      "    ft = lambda t:np.exp(-t**2)\n",
      "    for i in range(len(x)):\n",
      "        result[i],upper_error[i] = integrate.quad(ft,0.,float(x[i])) # x is the upper limit of the integral\n",
      "    return result\n",
      "\n",
      "x = np.arange(0.,3.1,0.1)\n",
      "\n",
      "E = E_func(x)"
     ],
     "language": "python",
     "metadata": {},
     "outputs": [],
     "prompt_number": 26
    },
    {
     "cell_type": "markdown",
     "metadata": {},
     "source": [
      "__part b__"
     ]
    },
    {
     "cell_type": "code",
     "collapsed": false,
     "input": [
      "fig1 = gcf()\n",
      "fig1 = figure(figsize=(8.0,8.0))\n",
      "\n",
      "ax1 = gca()\n",
      "p = ax1.plot(x,E,'g-',linewidth=3.0,label=r'$E(x)$')\n",
      "xmin,xmax = xlim(0.,3.)\n",
      "ymin,ymax = ylim(-1.0,2.0)\n",
      "legend(loc='lower left')\n",
      "xlabel(r'$x$',fontsize=25)\n",
      "ylabel(r'$E(x) = \\int _{0} ^{x} e^{-t^{2}} dt$',fontsize=15)\n",
      "\n",
      "xtickstep = 0.5\n",
      "my_xlocs = np.arange(xmin,xmax+xtickstep,xtickstep,dtype=np.float32)\n",
      "my_xticklab = np.array(my_xlocs[:], dtype=np.str_)\n",
      "\n",
      "ytickstep = (ymax - ymin)/5.0\n",
      "my_ylocs = np.arange(ymin,ymax+ytickstep,ytickstep,dtype=np.float32)\n",
      "my_yticklab = np.array(my_ylocs[:],dtype=np.str_)\n",
      "\n",
      "(a,b) = plt.xticks(my_xlocs,my_xticklab)\n",
      "(c,d) = plt.yticks(my_ylocs,my_yticklab)\n",
      "\n",
      "plt.grid(b=True, which='major', axis='both')\n",
      "\n",
      "ax1.spines['top'].set_color('none')\n",
      "ax1.spines['right'].set_color('none')"
     ],
     "language": "python",
     "metadata": {},
     "outputs": [
      {
       "output_type": "display_data",
       "png": "[encoded data removed]"
      }
     ],
     "prompt_number": 34
    },
    {
     "cell_type": "markdown",
     "metadata": {},
     "source": [
      "###Question 2\n",
      "\n",
      "Calculate the total probability of finding a particle in certain intervals of position for the Particle in an infinite potential well (1D).\n",
      "\\begin{equation}\n",
      "P(a,b) = \\int _{a} ^{b} \\vert \\psi (x) \\vert ^{2} dx\n",
      "\\end{equation}\n",
      "\n",
      "The solution $\\psi(x) \\;$, from _Modern Physics_ by Randy Harris page 153, is \n",
      "\n",
      "\\begin{equation}\n",
      "\\psi_n (x) = \\sqrt{\\frac{2}{L}} \\sin \\Big ( \\frac{n \\pi x}{L} \\Big )\n",
      "\\end{equation}\n",
      "\n",
      "for $ 0 < x < L \\; $ .\n",
      "\n",
      "\n",
      "\\begin{equation}\n",
      "P(\\frac{L}{3},\\frac{L}{2}) = \\frac{2}{L} \\int _{\\frac{L}{3}} ^{\\frac{L}{2}} \\sin ^{2} \\Big ( \\frac{n \\pi x}{L} \\Big )\n",
      "\\end{equation}\n",
      "\n",
      "\\begin{equation}\n",
      "P = \\frac{1}{L} \\int _{\\frac{L}{3}} ^{\\frac{L}{2}} (1- \\cos \\frac{2 n \\pi x}{L})dx\n",
      "\\end{equation}\n",
      "\n",
      "I have used the half angle trigonometric identity.\n",
      "\n",
      "\n",
      "Ground state means $n = 1\\;$.\n",
      "The anaytic ground state answer is:\n",
      "\n",
      "\\begin{equation}\n",
      "P = \\frac{1}{6} + \\frac{ \\sqrt{3} }{4 \\pi}\n",
      "\\end{equation}\n",
      "\n",
      "The first excited state has $n=2\\;$, and the analytic answer is:\n",
      "\n",
      "\\begin{equation}\n",
      "P = \\frac{1}{6} - \\frac{ \\sqrt{3} }{8 \\pi}\n",
      "\\end{equation}\n"
     ]
    },
    {
     "cell_type": "code",
     "collapsed": false,
     "input": [
      "P_exact_ground = (1.0/6) + np.sqrt(3)/(4.0 * np.pi)\n",
      "print P_exact_ground\n",
      "\n",
      "P_exact_first = (1.0/6) - np.sqrt(3)/(8.0 * np.pi)\n",
      "print P_exact_first"
     ],
     "language": "python",
     "metadata": {},
     "outputs": [
      {
       "output_type": "stream",
       "stream": "stdout",
       "text": [
        "0.304498890522\n",
        "0.0977505547389\n"
       ]
      }
     ],
     "prompt_number": 85
    },
    {
     "cell_type": "markdown",
     "metadata": {},
     "source": [
      "__part a__"
     ]
    },
    {
     "cell_type": "code",
     "collapsed": false,
     "input": [
      "def psi_squared(x,n,L=1.0):\n",
      "    \"\"\"x is a 1D array\"\"\"\n",
      "    if type(x) == ndarray:\n",
      "        result = np.empty(len(x),dtype='float')\n",
      "        for i in range(len(x)):\n",
      "            result[i] = (2.0/L)*(np.sin((n*np.pi*x[i])/L))**2\n",
      "    elif type(x) in (int,float):\n",
      "        result = (2.0/L)*(np.sin((n*np.pi*x)/L))**2\n",
      "    return result\n",
      "\n",
      "# Let L = 1, it doesn't matter what L is because it cancels in the calculation.\n",
      "\n",
      "x1 = np.linspace(1.0/3,1.0/2,120,endpoint=True)\n",
      "x2 = np.linspace(1.0/3,1.0/2,748,endpoint=True)\n",
      "\n",
      "N1 = len(x1)\n",
      "N2 = len(x2)\n",
      "\n",
      "y_arr1 = psi_squared(x1,1,L=1.0) # ground state\n",
      "y_arr2 = psi_squared(x2,2,L=1.0) # 1st excited state\n",
      "\n",
      "\n",
      "P_approx_quad1,errorq1 = integrate.quad(psi_squared,(1/3.0),(1/2.0),(1,1.0)) # fourth arguemnt is tuple of extra arguments for the passed function\n",
      "P_approx_trapz1 = integrate.trapz(y_arr1,x1)\n",
      "\n",
      "P_approx_quad2,errorq2 = integrate.quad(psi_squared,(1/3.0),(1/2.0),(2,1.0))\n",
      "P_approx_trapz2 = integrate.trapz(y_arr2,x2)\n",
      "\n",
      "print 'Total Probability between L/3, L/2 \\n'\n",
      "print 'For Ground state solution'\n",
      "print 'quad approx P=',P_approx_quad1,'\\n'\n",
      "print 'trapx approx, N bins =',N1,',P=',P_approx_trapz1,'6 sig figs\\n'\n",
      "print 'exact P=',P_exact_ground\n",
      "print '\\n'\n",
      "print 'For excited state solution'\n",
      "print 'quad approx P=',P_approx_quad2,'\\n'\n",
      "print 'trapx approx, N bins =',N2,',P=',P_approx_trapz2,'6 sig figs\\n'\n",
      "print 'exact P=',P_exact_first"
     ],
     "language": "python",
     "metadata": {},
     "outputs": [
      {
       "output_type": "stream",
       "stream": "stdout",
       "text": [
        "Total Probability between L/3, L/2 \n",
        "\n",
        "For Ground state solution\n",
        "quad approx P= 0.304498890522 \n",
        "\n",
        "trapx approx, N bins = 120 ,P= 0.304498001048 6 sig figs\n",
        "\n",
        "exact P= 0.304498890522\n",
        "\n",
        "\n",
        "For excited state solution\n",
        "quad approx P= 0.0977505547389 \n",
        "\n",
        "trapx approx, N bins = 748 ,P= 0.0977505998846 6 sig figs\n",
        "\n",
        "exact P= 0.0977505547389\n"
       ]
      }
     ],
     "prompt_number": 117
    },
    {
     "cell_type": "markdown",
     "metadata": {},
     "source": [
      "I needed to use __120 bins__ to get 6 significant figures of accuracy using the trapezoid rule function for the __ground__ state probablity.\n",
      "\n",
      "I needed to use __748 bins__ to get 6 significant figures of accuracy using the trapezoid rule function for the __excited__ state probablity."
     ]
    },
    {
     "cell_type": "code",
     "collapsed": false,
     "input": [],
     "language": "python",
     "metadata": {},
     "outputs": []
    }
   ],
   "metadata": {}
  }
 ]
}