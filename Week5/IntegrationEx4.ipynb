{
 "metadata": {
  "name": "IntegrationEx4"
 },
 "nbformat": 3,
 "nbformat_minor": 0,
 "worksheets": [
  {
   "cells": [
    {
     "cell_type": "markdown",
     "metadata": {},
     "source": [
      "#Integration Exercises 4\n",
      "\n",
      "_6 May 2013_\n",
      "\n",
      "Kyle Boucher"
     ]
    },
    {
     "cell_type": "markdown",
     "metadata": {},
     "source": [
      "###Question 1\n",
      "\n",
      "Find the value of \n",
      "\\begin{equation}\n",
      "E(x) = \\int \\limits _{0} ^{x} e^{-t^{2}} dt\n",
      "\\end{equation}\n",
      "For values of x in the interval $[0,3]$ in increments of 0.1  ."
     ]
    },
    {
     "cell_type": "code",
     "collapsed": false,
     "input": [],
     "language": "python",
     "metadata": {},
     "outputs": []
    }
   ],
   "metadata": {}
  }
 ]
}